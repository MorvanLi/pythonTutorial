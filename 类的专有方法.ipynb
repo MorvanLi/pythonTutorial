{
 "cells": [
  {
   "cell_type": "markdown",
   "id": "c9b948bb",
   "metadata": {},
   "source": [
    "# 类的专有方法"
   ]
  },
  {
   "cell_type": "markdown",
   "id": "7de49dff",
   "metadata": {},
   "source": [
    "Python除了自定义私有变量和方法外，还可以定义专有方法。专有方法是在特殊情况下或使用特殊语法时由python调用的，而不是像普通方法一样在代码中直接调用。看到形如\\__XXX__的变量或函数名时就需要注意下，这在python中是有特殊用途的"
   ]
  },
  {
   "cell_type": "markdown",
   "id": "be504837",
   "metadata": {},
   "source": [
    "## \\__str__方法"
   ]
  },
  {
   "cell_type": "code",
   "execution_count": 1,
   "id": "7d025e66",
   "metadata": {},
   "outputs": [
    {
     "name": "stdout",
     "output_type": "stream",
     "text": [
      "<__main__.Student object at 0x7fa6611c05f8>\n"
     ]
    }
   ],
   "source": [
    "# 例1\n",
    "class Student:\n",
    "    def __init__(self,name):\n",
    "        self.name = name\n",
    "\t\t\n",
    "s = Student(\"xiaoh\")\n",
    "#print(Student(\"xiaohong\"))\n",
    "print(s)                     #直接输出类的实例"
   ]
  },
  {
   "cell_type": "markdown",
   "id": "22d7050d",
   "metadata": {},
   "source": [
    "1. 由上面代码可以看出如果直接输出一个类的实例的话，得到的是一个特殊的字符串(程序开发者所用的)\n",
    "2. 如果要**把一个类的实例变成str**，就需要实现特殊方法__str__( )方法\n",
    "\n",
    "3. **<font color=red>\\__str__方法必须要return一个字符串类型的返回值，作为对实例对象的字符串描述</font>**"
   ]
  },
  {
   "cell_type": "code",
   "execution_count": 2,
   "id": "d9199a00",
   "metadata": {},
   "outputs": [
    {
     "name": "stdout",
     "output_type": "stream",
     "text": [
      "学生姓名：xiaoh\n"
     ]
    }
   ],
   "source": [
    "# 例2：\n",
    "class Student:\n",
    "    def __init__(self,name):\n",
    "        self.name = name\n",
    " \n",
    "    def __str__(self):\n",
    "        return f\"学生姓名：{self.name}\"\n",
    " \n",
    "s = Student(\"xiaoh\")\n",
    "#print(Student(\"xiaohong\"))\n",
    "print(s)               "
   ]
  },
  {
   "cell_type": "code",
   "execution_count": 3,
   "id": "543a5612",
   "metadata": {},
   "outputs": [
    {
     "name": "stdout",
     "output_type": "stream",
     "text": [
      "(Student: BOb, male, 88)\n"
     ]
    }
   ],
   "source": [
    "# 例3 \n",
    "class Person(object):\n",
    "    def __init__(self, gender):\n",
    "        self.name = \"BOb\"           #将\"BOb\"赋值给实例变量name，因此__init__中就不需要name参数\n",
    "        self.gender = gender\n",
    " \n",
    "class Student(Person):\n",
    "    def __init__(self, gender, score):\n",
    "        super().__init__(gender)\n",
    "        self.score = score\n",
    "    def __str__(self):\n",
    "        return '(Student: %s, %s, %s)' % (self.name, self.gender, self.score)\n",
    "    __repr__ = __str__\n",
    " \n",
    "s = Student('male', 88)\n",
    "print(s)\n",
    " \n",
    "#上面代码的输出结果为：(Student: Bob, male, 88)"
   ]
  },
  {
   "cell_type": "markdown",
   "id": "e860c5a7",
   "metadata": {},
   "source": [
    "##  迭代器"
   ]
  },
  {
   "cell_type": "markdown",
   "id": "bd170c8b",
   "metadata": {},
   "source": [
    "1. 迭代的意思类似于循环，每一次循环的过程被称为一次迭代的过程，每一次迭代得到的结果会被用来作为下一次迭代的初始值。**提供迭代方法的容器被称为迭代器**，通常接触到的迭代器有序列(列表、元组、字符串)，还有字典(字典迭代是只会迭代键)也是迭代器，都支持迭代操作(**称为可迭代对象**)\n",
    "\n",
    "2. 容器是一种把多个元素组织在一起的数据结构，容器中的元素可以逐个地迭代获取，可以用in, not in关键字判断元素是否包含在容器中\n",
    "\n",
    "3. 凡是可以返回一个迭代器的对象都可称之为可迭代对象。关于迭代，python提供了两个BIF：**iter( )和next( )**\n",
    "\n",
    "4. **iter( ) 函数用来生成迭代器：** 对于一个容器对象调用iter()就得到了它的迭代器，调用next()函数时迭代器就会返回下一个值，如果迭代器没有值可以返回了python就会抛出一个StopIteration的异常\n",
    "\n",
    "5. iter( ) 方法的语法如下:  "
   ]
  },
  {
   "cell_type": "markdown",
   "id": "4d96c114",
   "metadata": {},
   "source": [
    "iter(object[, sentinel])\n",
    "    object -- 支持迭代的集合对象。\n",
    "    sentinel -- 如果传递了第二个参数，则参数object必须是一个可调用的对象(如函数)，此时,iter创建了一个迭代器对象，每次调用这个迭代器对象的__next__()方法时，都会调用 object。"
   ]
  },
  {
   "cell_type": "markdown",
   "id": "13e1bcfd",
   "metadata": {},
   "source": [
    "1. 当第二个参数不提供时，**第一个参数必须是一个支持可迭代协议**(即实现了iter( )方法)的集合(字典、集合、不可变集合)，或者支持序列协议(即实现了getitem()方法，方法接收一个从0开始的整数参数)的序列(元组、列表、字符串)，否则将报错。\n",
    "\n",
    "2. 当第二个参数sentinel提供时，**第一个参数必须是一个可被调用对象**。创建的迭代对象，在调用next方法的时候会调用这个可被调用对象，**当返回值和sentinel值相等时，将抛出StopIteration异常，** 终止迭代。\n"
   ]
  },
  {
   "cell_type": "code",
   "execution_count": 4,
   "id": "b6b1240a",
   "metadata": {},
   "outputs": [
    {
     "name": "stdout",
     "output_type": "stream",
     "text": [
      "x\n",
      "i\n",
      "a\n",
      "o\n"
     ]
    }
   ],
   "source": [
    "# 例4\n",
    "name = \"xiao\"\n",
    "it = iter(name)          #此时生成了一个可迭代的对象\n",
    " \n",
    "while True:\n",
    "    try:\n",
    "        each = next(it)  #通过next()得到可迭代对象的元素\n",
    "    except StopIteration:\n",
    "        break\n",
    "    print(each)\n",
    " \n",
    " \n",
    "#上面代码的输出结果为：x、i、a、oabs"
   ]
  },
  {
   "cell_type": "code",
   "execution_count": 5,
   "id": "b7c689c7",
   "metadata": {},
   "outputs": [
    {
     "name": "stdout",
     "output_type": "stream",
     "text": [
      "1\n",
      "2\n",
      "3\n",
      "4\n"
     ]
    }
   ],
   "source": [
    "# 例5\n",
    "class counter:\n",
    " \n",
    "    def __init__(self, _start, _end):\n",
    "        self.start = _start\n",
    "        self.end = _end\n",
    " \n",
    "    def get_next(self):\n",
    "        s = self.start\n",
    "        if(s < self.end):\n",
    "            self.start += 1\n",
    "        else:\n",
    "            raise StopIteration\n",
    " \n",
    "        return s\n",
    " \n",
    " \n",
    "c = counter(1, 5)\n",
    "iterator = iter(c.get_next, 6)    #此时生成了一个可迭代的对象，因此可以使用for循环\n",
    "for i in iterator:\n",
    "    print(i)"
   ]
  },
  {
   "cell_type": "markdown",
   "id": "f0385bb5",
   "metadata": {},
   "source": [
    "## 实现迭代器的魔法方法：\\__iter__、__next__"
   ]
  },
  {
   "cell_type": "markdown",
   "id": "7ccebd85",
   "metadata": {},
   "source": [
    "1. 如果想将一个类用于for....in 循环，类似于list或tuple一样，就必须实现一个\\__iter__( )方法。该方法返回一个迭代对象，python的for循环会不断的调用该迭代对象的\\__next__()方法，获得循环的下一个值，直到遇到StopIteration错误时退出循环\n",
    "\n",
    "2. 一个容器如果是迭代器，那就必须实现\\__iter__()方法，这个方法实际上就是**返回迭代器本身。** 接下来重点要实现的就是**\\__next__()方法，因为它决定了迭代的规则**"
   ]
  },
  {
   "cell_type": "code",
   "execution_count": 6,
   "id": "d3580004",
   "metadata": {},
   "outputs": [
    {
     "name": "stdout",
     "output_type": "stream",
     "text": [
      "1\n",
      "1\n",
      "2\n",
      "3\n",
      "5\n",
      "8\n"
     ]
    }
   ],
   "source": [
    "# 例6\n",
    "class Fib:\n",
    "    def __init__(self):\n",
    "        self.a = 0\n",
    "        self.b = 1\n",
    " \n",
    "    def __iter__(self):\n",
    "        return self\n",
    " \n",
    "    def __next__(self):\n",
    "        self.a ,self.b = self.b,self.a + self.b\n",
    "        if self.a >10:\n",
    "            raise StopIteration\n",
    "        return self.a\n",
    "for number in Fib():\n",
    "    print(number)\n"
   ]
  },
  {
   "cell_type": "code",
   "execution_count": 7,
   "id": "282e30ed",
   "metadata": {},
   "outputs": [
    {
     "name": "stdout",
     "output_type": "stream",
     "text": [
      "1\n",
      "1\n",
      "2\n",
      "3\n",
      "5\n",
      "8\n"
     ]
    }
   ],
   "source": [
    "# 例7\n",
    "class Fib:\n",
    "    def __init__(self):\n",
    "        self.a = 0\n",
    "        self.b = 1\n",
    " \n",
    "    def __iter__(self):\n",
    "        return self\n",
    " \n",
    "    def __next__(self):\n",
    "        self.a ,self.b = self.b,self.a + self.b\n",
    "        return self.a\n",
    "if __name__ == \"__main__\":\n",
    "    fib = Fib()\n",
    "    for number in fib:\n",
    "        if number > 10:\n",
    "            break\n",
    "        print(number)"
   ]
  },
  {
   "cell_type": "markdown",
   "id": "5528bec7",
   "metadata": {},
   "source": [
    "## 获取容器中的元素：\\__getitem__"
   ]
  },
  {
   "cell_type": "markdown",
   "id": "f368ae6f",
   "metadata": {},
   "source": [
    "在上面的例子中我们实现了类Fib()可用于for循环，这点和list等很像，但是**不能将它当做list来用，比如对其使用索引**"
   ]
  },
  {
   "cell_type": "code",
   "execution_count": 11,
   "id": "23e88a9a",
   "metadata": {},
   "outputs": [
    {
     "name": "stdout",
     "output_type": "stream",
     "text": [
      "1\n"
     ]
    },
    {
     "ename": "TypeError",
     "evalue": "'Fib' object does not support indexing",
     "output_type": "error",
     "traceback": [
      "\u001b[0;31m---------------------------------------------------------------------------\u001b[0m",
      "\u001b[0;31mTypeError\u001b[0m                                 Traceback (most recent call last)",
      "\u001b[0;32m<ipython-input-11-bc1f902c4b3b>\u001b[0m in \u001b[0;36m<module>\u001b[0;34m\u001b[0m\n\u001b[1;32m     19\u001b[0m         \u001b[0mprint\u001b[0m\u001b[0;34m(\u001b[0m\u001b[0mnumber\u001b[0m\u001b[0;34m)\u001b[0m\u001b[0;34m\u001b[0m\u001b[0;34m\u001b[0m\u001b[0m\n\u001b[1;32m     20\u001b[0m \u001b[0;34m\u001b[0m\u001b[0m\n\u001b[0;32m---> 21\u001b[0;31m         \u001b[0mprint\u001b[0m\u001b[0;34m(\u001b[0m\u001b[0mfib\u001b[0m\u001b[0;34m[\u001b[0m\u001b[0;36m2\u001b[0m\u001b[0;34m]\u001b[0m\u001b[0;34m)\u001b[0m\u001b[0;34m\u001b[0m\u001b[0;34m\u001b[0m\u001b[0m\n\u001b[0m",
      "\u001b[0;31mTypeError\u001b[0m: 'Fib' object does not support indexing"
     ]
    }
   ],
   "source": [
    "# 例8\n",
    "class Fib:\n",
    "    def __init__(self):\n",
    "        self.a = 0\n",
    "        self.b = 1\n",
    " \n",
    "    def __iter__(self):\n",
    "        return self\n",
    " \n",
    "    def __next__(self):\n",
    "        self.a ,self.b = self.b,self.a + self.b\n",
    "        return self.a\n",
    "    \n",
    "if __name__ == \"__main__\":\n",
    "    fib = Fib()\n",
    "    for number in fib:\n",
    "        if number > 10:\n",
    "            break\n",
    "        print(number)\n",
    "\n",
    "        print(fib[2])     "
   ]
  },
  {
   "cell_type": "markdown",
   "id": "9f970bf1",
   "metadata": {},
   "source": [
    "若要像list一样按照索引来获取元素，需要实现**\\__getitem__()**方法"
   ]
  },
  {
   "cell_type": "code",
   "execution_count": 13,
   "id": "6bea6df2",
   "metadata": {},
   "outputs": [
    {
     "name": "stdout",
     "output_type": "stream",
     "text": [
      "1 1 2 3 5 8 8\n"
     ]
    }
   ],
   "source": [
    "# 例9\n",
    "class Fib:\n",
    "    def __init__(self):\n",
    "        self.a = 0\n",
    "        self.b = 1\n",
    " \n",
    "    def __iter__(self):\n",
    "        return self\n",
    " \n",
    "    def __next__(self):\n",
    "        self.a ,self.b = self.b,self.a + self.b\n",
    "        return self.a\n",
    "\t\t\n",
    "    def __getitem__(self, item):\n",
    "        a = 1\n",
    "        b = 1\n",
    "        for num in range(item):\n",
    "            a, b = b, a + b\n",
    "        return a\n",
    " \n",
    "if __name__ == \"__main__\":\n",
    "    fib = Fib()\n",
    "    for number in fib:\n",
    "        if number > 10:\n",
    "            break\n",
    "        print(number, end=' ')\n",
    "    print(fib[5])"
   ]
  },
  {
   "cell_type": "markdown",
   "id": "d2da1316",
   "metadata": {},
   "source": [
    "## 增加动态属性：\\__getattr__"
   ]
  },
  {
   "cell_type": "markdown",
   "id": "64bfae33",
   "metadata": {},
   "source": [
    "正常情况下，调用类的属性或方法时，如果类的属性或方法不存在时就会报错"
   ]
  },
  {
   "cell_type": "code",
   "execution_count": 14,
   "id": "331d74db",
   "metadata": {},
   "outputs": [
    {
     "name": "stdout",
     "output_type": "stream",
     "text": [
      "xiaohong\n"
     ]
    },
    {
     "ename": "AttributeError",
     "evalue": "'Student' object has no attribute 'score'",
     "output_type": "error",
     "traceback": [
      "\u001b[0;31m---------------------------------------------------------------------------\u001b[0m",
      "\u001b[0;31mAttributeError\u001b[0m                            Traceback (most recent call last)",
      "\u001b[0;32m<ipython-input-14-e8902c44e155>\u001b[0m in \u001b[0;36m<module>\u001b[0;34m\u001b[0m\n\u001b[1;32m      6\u001b[0m \u001b[0mstudent\u001b[0m \u001b[0;34m=\u001b[0m \u001b[0mStudent\u001b[0m\u001b[0;34m(\u001b[0m\u001b[0;34m)\u001b[0m\u001b[0;34m\u001b[0m\u001b[0;34m\u001b[0m\u001b[0m\n\u001b[1;32m      7\u001b[0m \u001b[0mprint\u001b[0m\u001b[0;34m(\u001b[0m\u001b[0mstudent\u001b[0m\u001b[0;34m.\u001b[0m\u001b[0mname\u001b[0m\u001b[0;34m)\u001b[0m\u001b[0;34m\u001b[0m\u001b[0;34m\u001b[0m\u001b[0m\n\u001b[0;32m----> 8\u001b[0;31m \u001b[0mprint\u001b[0m\u001b[0;34m(\u001b[0m\u001b[0mstudent\u001b[0m\u001b[0;34m.\u001b[0m\u001b[0mscore\u001b[0m\u001b[0;34m)\u001b[0m\u001b[0;34m\u001b[0m\u001b[0;34m\u001b[0m\u001b[0m\n\u001b[0m",
      "\u001b[0;31mAttributeError\u001b[0m: 'Student' object has no attribute 'score'"
     ]
    }
   ],
   "source": [
    "# 例9\n",
    "class Student:\n",
    "    def __init__(self):\n",
    "        self.name = \"xiaohong\"\n",
    " \n",
    "student = Student()\n",
    "print(student.name)\n",
    "print(student.score)"
   ]
  },
  {
   "cell_type": "markdown",
   "id": "4d1e3de3",
   "metadata": {},
   "source": [
    "1. 从上面的代码可以看出，可以正常获取已有的属性，但在获取未定义的属性时就会报错。要避免这个错误，除了在类中增加对应的属性，还可以写一个**\\__getattr__()方法，动态返回一个属性**\n",
    "\n",
    "2. 当调用不存在的属性时，python就会调用\\__getattr__( )尝试获得属性，这样就会返回对应的属性\n",
    "\n",
    "3. 只有在没有找到属性的情况下才会调用\\__getattr__()方法，已有的属性不会在\\__getattr__()中查找。如果没有给出具体的属性值，就会默认返回none\n"
   ]
  },
  {
   "cell_type": "code",
   "execution_count": 15,
   "id": "38470358",
   "metadata": {},
   "outputs": [
    {
     "name": "stdout",
     "output_type": "stream",
     "text": [
      "xiaohong\n",
      "95\n"
     ]
    }
   ],
   "source": [
    "# 例10\n",
    "class Student:\n",
    "    def __init__(self):\n",
    "        self.name = \"xiaohong\"\n",
    " \n",
    "    def __getattr__(self,attr):\n",
    "        if attr == \"score\":\n",
    "            return 95\n",
    " \n",
    "student = Student()\n",
    "print(student.name)\n",
    "print(student.score)"
   ]
  },
  {
   "cell_type": "markdown",
   "id": "54c83f32",
   "metadata": {},
   "source": [
    "## 通过实例调用方法：\\__call__"
   ]
  },
  {
   "cell_type": "markdown",
   "id": "5c36c998",
   "metadata": {},
   "source": [
    "一个对象实例可以有自己的方法和属性，调用实例的方法时可以用个**实例名.方法名。**但任何类只需要定义一个\\__call__()方法，就可以直接对实例进行调用"
   ]
  },
  {
   "cell_type": "code",
   "execution_count": 20,
   "id": "7a676415",
   "metadata": {},
   "outputs": [
    {
     "name": "stdout",
     "output_type": "stream",
     "text": [
      "姓名：xiaohong,分数：95\n",
      "True\n",
      "False\n"
     ]
    }
   ],
   "source": [
    "# 例11\n",
    "class Student:\n",
    "    def __init__(self):\n",
    "        self.name = \"xiaohong\"\n",
    " \n",
    "    def __call__(self,score):\n",
    "        self.score = score\n",
    "        print(\"姓名：%s,分数：%s\" % (self.name,self.score))\n",
    " \n",
    " \n",
    "student = Student()\n",
    "student(95)\n",
    " \n",
    "print(callable(Student()))\n",
    "print(callable([1.2]))"
   ]
  },
  {
   "cell_type": "markdown",
   "id": "6ab93bdc",
   "metadata": {},
   "source": [
    "1. 从上面的结果可以看出，通过\\__call__()方法可以直接对实例进行调用并得到结果，且**\\__call__()**方法还可以定义参数。对实例进行直接调用就像对一个函数调用一样，完全可以把对象看成函数，把函数看成对象\n",
    "\n",
    "2. 通过callable()函数可以判断一个对象是否为\"可调用\"对象"
   ]
  },
  {
   "cell_type": "markdown",
   "id": "d1b2816c",
   "metadata": {},
   "source": [
    "# 拓展"
   ]
  },
  {
   "cell_type": "markdown",
   "id": "606e59be",
   "metadata": {},
   "source": [
    "##  一、 \\__repr__ 、\\__str__"
   ]
  },
  {
   "cell_type": "code",
   "execution_count": 21,
   "id": "0e2b72c0",
   "metadata": {},
   "outputs": [
    {
     "data": {
      "text/plain": [
       "<__main__.Student at 0x7fa66098dc88>"
      ]
     },
     "execution_count": 21,
     "metadata": {},
     "output_type": "execute_result"
    }
   ],
   "source": [
    "# 如果使用例2中的代码在交互模式下输入：\n",
    "class Student:\n",
    "    def __init__(self,name):\n",
    "        self.name = name\n",
    " \n",
    "    def __str__(self):\n",
    "        return \"学生姓名：%s\" % self.name\n",
    " \n",
    "s = Student(\"xiao\")\n",
    "s\n"
   ]
  },
  {
   "cell_type": "markdown",
   "id": "4c528271",
   "metadata": {},
   "source": [
    "可以看到，得到的实例还是和例1中的结果一样。这是因为：Python 定义了\\__str__()和\\__repr__()两种方法，\\__str__()用于显示给用户，而\\__repr__()用于显示给开发人员。"
   ]
  },
  {
   "cell_type": "code",
   "execution_count": 22,
   "id": "9b0f119d",
   "metadata": {},
   "outputs": [
    {
     "data": {
      "text/plain": [
       "学生姓名：xiao"
      ]
     },
     "execution_count": 22,
     "metadata": {},
     "output_type": "execute_result"
    }
   ],
   "source": [
    "class Student:\n",
    "    def __init__(self,name):\n",
    "        self.name = name\n",
    " \n",
    "    def __str__(self):\n",
    "        return \"学生姓名：%s\" % self.name\n",
    "    \n",
    "    __repr__ = __str__\n",
    " \n",
    "s = Student(\"xiao\")\n",
    "s"
   ]
  },
  {
   "cell_type": "markdown",
   "id": "988bf492",
   "metadata": {},
   "source": [
    "## 二、 类和对象相关的BIF"
   ]
  },
  {
   "cell_type": "markdown",
   "id": "a1ad1ecc",
   "metadata": {},
   "source": [
    "### issubclass() ："
   ]
  },
  {
   "cell_type": "markdown",
   "id": "04234a44",
   "metadata": {},
   "source": [
    "issubclass( ) 方法用于判断参数class是否是类型参数classinfo的子类。以下为该函数的语法："
   ]
  },
  {
   "cell_type": "markdown",
   "id": "2ccae3f0",
   "metadata": {},
   "source": [
    "issubclass(class, classinfo)\n",
    " \n",
    "class -- 类。\n",
    " \n",
    "classinfo -- 类。\n",
    " \n",
    "返回值：如果 class 是 classinfo 的子类返回 True，否则返回 False。"
   ]
  },
  {
   "cell_type": "code",
   "execution_count": 24,
   "id": "443c0191",
   "metadata": {},
   "outputs": [
    {
     "name": "stdout",
     "output_type": "stream",
     "text": [
      "True\n"
     ]
    }
   ],
   "source": [
    "# 例1：\n",
    "class A:\n",
    "    pass\n",
    " \n",
    "class B(A):\n",
    "    pass\n",
    "print(issubclass(B, A)) \n"
   ]
  },
  {
   "cell_type": "markdown",
   "id": "cbd30ea7",
   "metadata": {},
   "source": [
    "### hasattr()："
   ]
  },
  {
   "cell_type": "markdown",
   "id": "537ec6a1",
   "metadata": {},
   "source": [
    "hasattr( )函数用于判断对象**是否包含对应的属性。** 以下为该函数的语法："
   ]
  },
  {
   "cell_type": "code",
   "execution_count": null,
   "id": "8c70e92d",
   "metadata": {},
   "outputs": [],
   "source": [
    "hasattr(object, name)\n",
    "object -- 对象。\n",
    " \n",
    "name -- 字符串类型的属性名。\n",
    " \n",
    "返回值：如果对象有该属性返回 True，否则返回 False。"
   ]
  },
  {
   "cell_type": "code",
   "execution_count": 27,
   "id": "cec1dcae",
   "metadata": {},
   "outputs": [
    {
     "name": "stdout",
     "output_type": "stream",
     "text": [
      "是否含有属性x: True\n",
      "是否含有属性no: False\n"
     ]
    }
   ],
   "source": [
    "# 例2：\n",
    "class Coordinate:\n",
    "    x = 10\n",
    "    y = -5\n",
    "    z = 0\n",
    " \n",
    "point1 = Coordinate()\n",
    "print(f\"是否含有属性x: {hasattr(point1, 'x')}\")   #属性名为字符串类型\n",
    "print(f\"是否含有属性no: {hasattr(point1, 'no')}\")"
   ]
  },
  {
   "cell_type": "markdown",
   "id": "93ca7271",
   "metadata": {},
   "source": [
    "### getattr()："
   ]
  },
  {
   "cell_type": "markdown",
   "id": "52c48995",
   "metadata": {},
   "source": [
    "getattr( )函数用于**返回一个对象指定的属性值。** 如果指定的属性不存在，则返回default的值，若没有设置default参数，则抛出AttributeError异常。以下为该函数的语法："
   ]
  },
  {
   "cell_type": "code",
   "execution_count": null,
   "id": "cb6e9564",
   "metadata": {},
   "outputs": [],
   "source": [
    "getattr(object, name[, default])\n",
    " \n",
    "object -- 对象\n",
    " \n",
    "name -- 字符串，对象属性。\n",
    " \n",
    "default -- 默认返回值，如果不提供该参数，在没有对应属性时，将触发 AttributeError。\n",
    " \n",
    "返回值：返回对象属性值。"
   ]
  },
  {
   "cell_type": "code",
   "execution_count": 28,
   "id": "05fb397e",
   "metadata": {},
   "outputs": [
    {
     "name": "stdout",
     "output_type": "stream",
     "text": [
      "bar的属性为1\n",
      "no的属性为我是默认的属性\n"
     ]
    }
   ],
   "source": [
    "# 例3：\n",
    "class A(object):\n",
    "    bar = 1\n",
    " \n",
    "a = A()\n",
    "if getattr(a,\"bar\",\"我是默认的属性\") == 1:\n",
    "    print(\"bar的属性为%s\" % 1)\n",
    " \n",
    "attr_no = getattr(a,\"b\",\"我是默认的属性\")\n",
    "print(\"no的属性为%s\" %(attr_no))"
   ]
  },
  {
   "cell_type": "markdown",
   "id": "a8d948ca",
   "metadata": {},
   "source": [
    "### setattr():"
   ]
  },
  {
   "cell_type": "markdown",
   "id": "0deb502e",
   "metadata": {},
   "source": [
    "setattr( )函数对应函数getatt()，用于**设置指定属性的值**，若指定的属性不存在则新建属性并赋值。以下为该函数的语法："
   ]
  },
  {
   "cell_type": "code",
   "execution_count": null,
   "id": "965606e4",
   "metadata": {},
   "outputs": [],
   "source": [
    "setattr(object, name, value)\n",
    " \n",
    "object -- 对象。\n",
    " \n",
    "name -- 字符串，对象属性。\n",
    " \n",
    "value -- 属性值。\n",
    " \n",
    "返回值:无"
   ]
  },
  {
   "cell_type": "code",
   "execution_count": 29,
   "id": "90c88535",
   "metadata": {},
   "outputs": [
    {
     "name": "stdout",
     "output_type": "stream",
     "text": [
      "no的属性为 我是刚设置的属性\n",
      "bar的属性为 2\n"
     ]
    }
   ],
   "source": [
    "# 例4： \n",
    "class A(object):\n",
    "    bar = 1\n",
    " \n",
    "a = A()\n",
    "setattr(a,\"b\",\"我是刚设置的属性\")\n",
    "setattr(a,\"bar\",\"2\")\n",
    " \n",
    "attr_no = getattr(a,\"b\",\"我是默认属性\")\n",
    "attr_bar = getattr(a,\"bar\",\"我是默认属性\")\n",
    " \n",
    "print(\"no的属性为 %s\" %(attr_no))\n",
    "print(\"bar的属性为 %s\" %(attr_bar))"
   ]
  },
  {
   "cell_type": "markdown",
   "id": "209671a0",
   "metadata": {},
   "source": [
    "### delattr():"
   ]
  },
  {
   "cell_type": "markdown",
   "id": "569704d6",
   "metadata": {},
   "source": [
    "delattr( )函数用于删除属性,若属性不存在则抛出AttributeError异常。以下为该函数的语法："
   ]
  },
  {
   "cell_type": "code",
   "execution_count": null,
   "id": "f78f90f6",
   "metadata": {},
   "outputs": [],
   "source": [
    "delattr(object, name)\n",
    "object -- 类名。\n",
    "name -- 必须是对象的属性。\n",
    "返回值:无\n",
    "delattr(x, 'foobar') 相等于 del x.foobar。"
   ]
  },
  {
   "cell_type": "code",
   "execution_count": 32,
   "id": "7dcd25b7",
   "metadata": {},
   "outputs": [
    {
     "ename": "AttributeError",
     "evalue": "b",
     "output_type": "error",
     "traceback": [
      "\u001b[0;31m---------------------------------------------------------------------------\u001b[0m",
      "\u001b[0;31mAttributeError\u001b[0m                            Traceback (most recent call last)",
      "\u001b[0;32m<ipython-input-32-b31a6c6b7534>\u001b[0m in \u001b[0;36m<module>\u001b[0;34m\u001b[0m\n\u001b[1;32m      6\u001b[0m \u001b[0ma\u001b[0m \u001b[0;34m=\u001b[0m \u001b[0mA\u001b[0m\u001b[0;34m(\u001b[0m\u001b[0;34m)\u001b[0m\u001b[0;34m\u001b[0m\u001b[0;34m\u001b[0m\u001b[0m\n\u001b[1;32m      7\u001b[0m \u001b[0mdelattr\u001b[0m\u001b[0;34m(\u001b[0m\u001b[0mA\u001b[0m\u001b[0;34m,\u001b[0m\u001b[0;34m\"bar\"\u001b[0m\u001b[0;34m)\u001b[0m  \u001b[0;31m#为类名\u001b[0m\u001b[0;34m\u001b[0m\u001b[0;34m\u001b[0m\u001b[0m\n\u001b[0;32m----> 8\u001b[0;31m \u001b[0mdelattr\u001b[0m\u001b[0;34m(\u001b[0m\u001b[0ma\u001b[0m\u001b[0;34m,\u001b[0m\u001b[0;34m\"b\"\u001b[0m\u001b[0;34m)\u001b[0m\u001b[0;34m\u001b[0m\u001b[0;34m\u001b[0m\u001b[0m\n\u001b[0m\u001b[1;32m      9\u001b[0m \u001b[0;34m\u001b[0m\u001b[0m\n\u001b[1;32m     10\u001b[0m \u001b[0mprint\u001b[0m\u001b[0;34m(\u001b[0m\u001b[0ma\u001b[0m\u001b[0;34m.\u001b[0m\u001b[0mbar\u001b[0m\u001b[0;34m)\u001b[0m    \u001b[0;31m#属性已被删除时的输出\u001b[0m\u001b[0;34m\u001b[0m\u001b[0;34m\u001b[0m\u001b[0m\n",
      "\u001b[0;31mAttributeError\u001b[0m: b"
     ]
    }
   ],
   "source": [
    "# 例5：\n",
    "class A(object):\n",
    "    bar = 1\n",
    "    bar_1 = \"2\"\n",
    " \n",
    "a = A()\n",
    "delattr(A,\"bar\")  #为类名\n",
    "delattr(a,\"b\")\n",
    " \n",
    "print(a.bar)    #属性已被删除时的输出\n",
    "print(a.bar_1)  #无对应属性时的输出\n",
    " "
   ]
  },
  {
   "cell_type": "markdown",
   "id": "37e7d150",
   "metadata": {},
   "source": [
    "### property( ):"
   ]
  },
  {
   "cell_type": "markdown",
   "id": "88d53dcc",
   "metadata": {},
   "source": [
    "property()函数的作用是在新式类中返回属性值。以下是 property() 方法的语法:"
   ]
  },
  {
   "cell_type": "code",
   "execution_count": null,
   "id": "281c5eb7",
   "metadata": {},
   "outputs": [],
   "source": [
    "class property([fget[, fset[, fdel[, doc]]]])\n",
    " \n",
    "fget -- 获取属性值的函数\n",
    "fset -- 设置属性值的函数\n",
    "fdel -- 删除属性值函数\n",
    "doc -- 属性描述信息\n",
    "返回值:返回新式类属性。"
   ]
  },
  {
   "cell_type": "code",
   "execution_count": 33,
   "id": "d56ec4f0",
   "metadata": {},
   "outputs": [],
   "source": [
    "# 例6：\n",
    "class Student(object):\n",
    "    def __init__(self, name, score):\n",
    "        self.name = name\n",
    "        self.score = score"
   ]
  },
  {
   "cell_type": "markdown",
   "id": "5523f83b",
   "metadata": {},
   "source": [
    "在上面代码中当我们想要修改一个Student的scroe属性时，可以这么写："
   ]
  },
  {
   "cell_type": "code",
   "execution_count": 34,
   "id": "ffadb24f",
   "metadata": {},
   "outputs": [],
   "source": [
    "s = Student('Bob', 59)\n",
    "s.score = 60"
   ]
  },
  {
   "cell_type": "markdown",
   "id": "3c224476",
   "metadata": {},
   "source": [
    "但是也可以这么写："
   ]
  },
  {
   "cell_type": "code",
   "execution_count": 35,
   "id": "30fe8282",
   "metadata": {},
   "outputs": [],
   "source": [
    "s.score = 1000"
   ]
  },
  {
   "cell_type": "markdown",
   "id": "77e89df7",
   "metadata": {},
   "source": [
    "因此我们就可以将**score变量变为私有变量，** 并通过**get_attr和set_attr方法来检查输入的参数是否有效**(这两种方法在\"类的访问权限那篇文章中有讲解，不是私有变量的变量也可以用这两种方法)"
   ]
  },
  {
   "cell_type": "code",
   "execution_count": 36,
   "id": "377fe3bf",
   "metadata": {},
   "outputs": [
    {
     "name": "stdout",
     "output_type": "stream",
     "text": [
      "10\n"
     ]
    }
   ],
   "source": [
    "class Student:\n",
    "    def __init__(self,name,score):\n",
    "        self.name = name\n",
    "        self.__score = score\n",
    " \n",
    "    def get_score(self):\n",
    "        return self.__score\n",
    " \n",
    "    def set_score(self,value):\n",
    "        if value < 0 or value >100:\n",
    "            raise ValueError('invalid score')\n",
    "        else:\n",
    "            self.__score = value\n",
    " \n",
    "student = Student(\"Bob\",88)\n",
    "student.set_score (10)\n",
    "print(student.get_score())"
   ]
  },
  {
   "cell_type": "markdown",
   "id": "fcb3f722",
   "metadata": {},
   "source": [
    "1、这样一来，s.set_score(1000) 就会报错。这种使用 **get、set 方法来封装对一个属性的访问**在许多面向对象编程的语言中都很常见。\n",
    "\n",
    "2、但是写**s.get_score()和s.set_score()没有直接写 s.score 来得直接。**\n",
    "\n",
    "3、且若这部分代码这样修改的话，则在后面的代码都需要修改：未修改前访问属性时为**实例名.属性名，** 代码修改后若要访问属性时就为改为**实例名.get_score()**(类外访问私有变量，通过方法来访问私有变量)。所有的赋值语句也必须更改，比如**实例名.属性名 = value**改为**实例名.set_score(value)**。显然这样的修改很麻烦且容易出错。这就是需要property闪亮登场的地方\n"
   ]
  },
  {
   "cell_type": "code",
   "execution_count": 37,
   "id": "23c49a2e",
   "metadata": {},
   "outputs": [
    {
     "name": "stdout",
     "output_type": "stream",
     "text": [
      "66\n",
      "66\n"
     ]
    }
   ],
   "source": [
    "class Student:\n",
    "    def __init__(self,name,score):\n",
    "        self.name = name\n",
    "        self.__score = score\n",
    " \n",
    "    def get_score(self):\n",
    "        return self.__score\n",
    " \n",
    "    def set_score(self,value):\n",
    "        if value < 0 or value >100:\n",
    "            raise ValueError('invalid score')\n",
    "        else:\n",
    "            self.__score = value\n",
    " \n",
    "    student_score = property(get_score, set_score)\n",
    " \n",
    "student = Student(\"Bob\",88)\n",
    " \n",
    "student.student_score = 66\n",
    " \n",
    "print(student.get_score())\n",
    "print(student.student_score)   #可以直接通过student_score来访问属性\n"
   ]
  },
  {
   "cell_type": "markdown",
   "id": "348bacf0",
   "metadata": {},
   "source": [
    "1、简单地说，property将一些代码(get_score和set_score)附加到成员属性(student_score)的访问入口。任何获取student_score值的代码都会自动调用get_score，而不是去字典表（\\__dict__）中进行查找。同样的，任何赋给student_score值的代码也会自动调用set_score()。这是Python中一个很酷的功能。\n",
    "\n",
    "2、通过使用property，我们在不需要客户代码做任何修改的情况下，修改了我们的类，并实现了值约束。因此我们的实现是向后兼容的。最后需要注意的是，实际分数是存储在私有变量_score中的。属性student_score是一个property对象，**是用来为这个私有变量提供接口的。**\n"
   ]
  },
  {
   "cell_type": "code",
   "execution_count": null,
   "id": "895c97cb",
   "metadata": {},
   "outputs": [],
   "source": []
  }
 ],
 "metadata": {
  "kernelspec": {
   "display_name": "Python 3",
   "language": "python",
   "name": "python3"
  },
  "language_info": {
   "codemirror_mode": {
    "name": "ipython",
    "version": 3
   },
   "file_extension": ".py",
   "mimetype": "text/x-python",
   "name": "python",
   "nbconvert_exporter": "python",
   "pygments_lexer": "ipython3",
   "version": "3.6.9"
  },
  "toc": {
   "base_numbering": 1,
   "nav_menu": {},
   "number_sections": true,
   "sideBar": true,
   "skip_h1_title": false,
   "title_cell": "Table of Contents",
   "title_sidebar": "Contents",
   "toc_cell": false,
   "toc_position": {},
   "toc_section_display": true,
   "toc_window_display": false
  }
 },
 "nbformat": 4,
 "nbformat_minor": 5
}
