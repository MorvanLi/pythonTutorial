{
 "cells": [
  {
   "cell_type": "markdown",
   "id": "f8b8d150",
   "metadata": {},
   "source": [
    "# __init__方法"
   ]
  },
  {
   "cell_type": "markdown",
   "id": "33f666af",
   "metadata": {},
   "source": [
    "1. <font color=red>**__init__()方法也称为构造方法，这个方法在创建对象(类实例化)时会自动调用**</font>\n",
    "    - 如果一个类中定义了__init__方法，那么在实例化类时，会自动调用类中定义的__init__方法\n",
    "    - 如果一个类中未定义__init__方法，那么在实例化类时，会自动调用Python根类object中无参的__init__方法\n",
    "\n",
    "2. <font color=red>**__init__()方法最重要的作用就是初始化实例变量(定义实例变量)**</font>\n",
    "    - 一个抽象类可以实例化出无数个实例对象，每个对象都可以拥有自己自己的独特属性(实例变量，也叫实例属性)\n",
    "        - 这些独特属性就是通过定义__init__方法来实现的：通过给__init__方法定义和传入不同的实例变量来实现\n",
    "    - 也就是使用__init__()方法来定义实例对象独有的属性：实例变量\n",
    "        - 某个属性对于每个实例都是独有的，就需要将其定义为实例变量\n",
    "        - 某个属性是每个实例同共有的就可以定义为类属性\n",
    "\n",
    "3. <font color=red>**__init__() 方法可以包含多个参数，但必须包含一个名为self的参数，且必须作为第一个参数；__init__()方法不需要返回值**</font>\n",
    "    - 参数类型可以是：位置参数、默认参数、可变参数\n",
    "    - 参数的定义与传入与普通函数一样\n",
    "\n",
    "4. 通过在类中重写Python根类object的无参的__init__方法来自定义当前对象的初始化操作\n",
    "    - 初始化当前实例对象的实例变量：也就是使用__init__方法来定义各个对象独有的实例变量\n",
    "    - 实例化类时是可以传入参数的，这些参数会自动传入__init__()方法中，进而达到初始化当前实例对象的实例属性的目的\n",
    "\n",
    "5. 实例变量是定义在__init__方法中的\n",
    "    - __init__()方法也是类中的一个方法，因此其第一个参数也必须是self\n",
    "    - 实例变量是每个实例对象独有的，因此在定义实例变量时，必须是：<font color=red>**self.实例变量名 = 外部形参名(通过self来绑定当前实例对象)**</font>\n",
    "    - 在类中任意地方(所有方法中)都可以使用<font color=red>**\"self.实例属性名\"**</font>来调用实例属性\n",
    "    - 在类外任意地方都可以使用<font color=red>**\"实例名.实例属性名\"**</font>来调用实例属性"
   ]
  },
  {
   "cell_type": "code",
   "execution_count": 2,
   "id": "fec53dcf",
   "metadata": {},
   "outputs": [
    {
     "name": "stdout",
     "output_type": "stream",
     "text": [
      "xiaoming say hello\n"
     ]
    }
   ],
   "source": [
    "# 例1：无__init__方法\n",
    "class Myclass:\n",
    "    # 定义一个无__init__方法的类：实例对象无独有属性(实例属性)\n",
    "    # 此时在实例化类时，会自动调用Python基类的无参的__init__方法(不过没啥影响)\n",
    "    def func(self, myself):\n",
    "        return myself + \" say hello\"\n",
    " \n",
    " \n",
    "myClass = Myclass()\n",
    "print(myClass.func(\"xiaoming\"))"
   ]
  },
  {
   "cell_type": "code",
   "execution_count": 3,
   "id": "aaf19b71",
   "metadata": {},
   "outputs": [
    {
     "name": "stdout",
     "output_type": "stream",
     "text": [
      "xiaoming say hello\n"
     ]
    }
   ],
   "source": [
    "# 无参的__init__方法\n",
    "class Myclass:\n",
    "    \"\"\"\n",
    "     定义了一个无参的__init__方法\n",
    "    在实例化类时，会调用类中的init方法，但由于无参因此该init方法也无实际意义\n",
    "    跟调用根类的无参的init方法没区别\n",
    "    \"\"\"\n",
    "    def __init__(self):\n",
    "        pass\n",
    " \n",
    "    def func(self, myself):\n",
    "        return myself + \" say hello\"\n",
    " \n",
    "myClass = Myclass()\n",
    "print(myClass.func(\"xiaoming\"))"
   ]
  },
  {
   "cell_type": "code",
   "execution_count": 4,
   "id": "916a483c",
   "metadata": {},
   "outputs": [
    {
     "name": "stdout",
     "output_type": "stream",
     "text": [
      "jacksay hello to xiaoMing\n",
      "jacksay hello to xiaoHong\n"
     ]
    }
   ],
   "source": [
    "# 例3：有参的__init__方法\n",
    "class Myclass:\n",
    "    def __init__(self, friend):\n",
    "        \"\"\"\n",
    "        friend属性对于每一个实例对象来说都是独有的，因此将friend定义为实例变量\n",
    "        在实例化类是传入当前实例对象的friend变量值\n",
    "        \"\"\"\n",
    "        self.friend = friend\n",
    " \n",
    "    # 带有参数的类方法\n",
    "    def func(self, myself):\n",
    "        return myself + \"say hello to \" + self.friend\n",
    " \n",
    "# 实例化一个实例对象:在实例化类传入对应的实例变量的值\n",
    "mClass = Myclass(\"xiaoMing\")\n",
    "print(mClass.func(\"jack\"))\n",
    " \n",
    "# 实例化另一个实例对象:在实例化类传入对应的实例变量的值\n",
    "hClass = Myclass(\"xiaoHong\")\n",
    "print(hClass.func(\"jack\"))\n",
    " "
   ]
  },
  {
   "cell_type": "markdown",
   "id": "5600b4d2",
   "metadata": {},
   "source": [
    "注：\n",
    "\n",
    "1. 在python中定义类时，如果没有定义__init__( )方法，则在类实例化时系统会自动调用默认的构造方法(无参数的__init__( )方法)\n",
    "    - 另外__init__( )方法可以有参数，参数通过__init__( )传递到类的实例化操作上\n",
    "\n",
    "2. 一个类中可以定义多个构造方法(__init__( ))，但是实例化类时只会实例化最后的构造方法\n",
    "    - 即后面的构造方法会覆盖前面的构造方法\n",
    "    - 并且会根据最后一个构造方法的形式进行实例化(参数与最后一个构造方法的参数一致)\n",
    "    - 因此一个类中最好只定义一个构造方法\n",
    "\n",
    "3. 初始化实例包括：定义和初始化实例属性或调用类的一些方法\n",
    "\n",
    "4. <font color=red>**定义实例变量：需要使用self来将变量绑定到实例上。self.friend = friend**</font>\n",
    "    - 表示将外部传来的参数friend的值赋值给Myclass类当前实例对象的属性friend(两个name之间无任何关系，只是变量名一致)\n",
    "        - name：只是一个形参，用来接收外部传入的实参值\n",
    "        - self.name：表示当前实例对象的实例属性(当前是哪个实例对象，就表示哪个实例对象的实例属性)\n",
    "\n",
    "5. <font color=red>**实例变量需要绑定当前实例**</font>，这样才能知道当前的实例属性是属于哪个实例的，在类中又是使用self来表示当前实例的，因此结合起来就是self.变量名\n",
    "    - 在类中是不可能出现实例对象名的(实例对象是实例化后才产生的)，因此在类中使用self参数来表示实例对象\n",
    "        - 类中的self参数就相当于一个形参，当类实例化后，实例对象就相当于self参数的实参\n",
    "        - 哪个实例对象在调用，self参数就表示哪个实例对象\n",
    "    - <font color=red>**不管是在类中定义实例变量还是在类中使用实例变量都需要使用\"self.变量名\"**</font>\n",
    "\n",
    "6. <font color=red>**如果一个类定义了__init__方法且该方法中定义了除self参数之外的参数，那么在实例化这个类时就必须传入对应的实例变量的值(实参)**</font>\n"
   ]
  },
  {
   "cell_type": "code",
   "execution_count": 5,
   "id": "d69753b2",
   "metadata": {},
   "outputs": [
    {
     "name": "stdout",
     "output_type": "stream",
     "text": [
      "品牌：奔驰,颜色：奔驰\n"
     ]
    }
   ],
   "source": [
    "class Car():\n",
    "    def __init__(self,color_1,brand_1):\n",
    "        self.color = color_1\n",
    "        self.brand = brand_1\n",
    "    def one_car(self):\n",
    "        print(\"品牌：%s,颜色：%s\" % (self.brand,self.brand))\n",
    " \n",
    "car = Car(\"黑色\",\"奔驰\")\n",
    "car.one_car()\n",
    " \n",
    "#可以看出其实形参名可以不跟实例属性名一致，只是说一致时要方便点\n",
    "#品牌：奔驰,颜色：奔驰"
   ]
  },
  {
   "cell_type": "code",
   "execution_count": 6,
   "id": "72c09152",
   "metadata": {},
   "outputs": [
    {
     "name": "stdout",
     "output_type": "stream",
     "text": [
      "我叫hao，今年20岁\n"
     ]
    }
   ],
   "source": [
    "class Person:\n",
    "    a = 1  # 定义在类中但在函数体外的变量为类变量\n",
    " \n",
    "    def __init__(self, name, age):\n",
    "        # 定义实例变量name和age\n",
    "        self.name = name\n",
    "        self.age = age\n",
    " \n",
    "    def Introduce(self):\n",
    "        # 在函数内部访问自己的属性和方法\n",
    "        print(\"我叫%s，今年%d岁\" % (self.name, self.age))\n",
    " \n",
    " \n",
    "p = Person(\"hao\", 20)\n",
    "p.Introduce()\n",
    "# 上面代码的输出结果为：我叫hao，今年20岁"
   ]
  },
  {
   "cell_type": "markdown",
   "id": "6d6abb2c",
   "metadata": {},
   "source": [
    "注：\n",
    "\n",
    "1. 例子中定义了两个实例变量name和age，在后面的所有类方法中(类中)如果要用到这个两个变量，都需要通过\"self.实例属性名\"的写法来调用\n",
    "    - 类中访问实例变量：self.实例变量名\n",
    "    - 类外访问实例变量：实例名.实例属性名\n",
    "\n",
    "2. <font color=red>在类的内部，访问自己的属性和方法，都需要通过self，self就是外部对象在类内部的表示</font>\n"
   ]
  },
  {
   "cell_type": "markdown",
   "id": "3fcef1c0",
   "metadata": {},
   "source": [
    "## __init__方法的默认参数"
   ]
  },
  {
   "cell_type": "markdown",
   "id": "8c6c416a",
   "metadata": {},
   "source": [
    "1. 构造方法中可以定义除self外的其它各类参数\n",
    "    - <font color=red>**如在__init__方法中定义了其他类型的参数，那么在实例化类时，就需要传入对应的实参**</font>\n",
    "    - 前面的例子中在介绍__init__方法是都是使用的位置参数，因此这里主要介绍下默认参数\n",
    "    \n",
    "2. <font color=red>**__init__方法中除了可以使用位置(必填)参数外还可以使用关键字参数、默认参数、可变参数、组合参数** \n",
    "    </font>\n",
    "3. 在__init__方法中使用其他类型的参数与在普通函数中使用参数是一样的\n"
   ]
  },
  {
   "cell_type": "code",
   "execution_count": 9,
   "id": "ca80ba59",
   "metadata": {},
   "outputs": [
    {
     "name": "stdout",
     "output_type": "stream",
     "text": [
      "a的值为 10\n",
      "water的值为： 0\n",
      "number的值为： 2\n",
      "scour的值为： 0\n",
      "b的值为： 0\n",
      "scour的值为： 1\n",
      "b的值为： 2\n",
      "scour的值为： 1\n"
     ]
    }
   ],
   "source": [
    "# 例6：\n",
    "class Washer:\n",
    "    def __init__(self,number):\n",
    "        self.number = number #位置参数\n",
    "        self.water = 0      #默认参数\n",
    "        self.scour = 0      #默认参数\n",
    " \n",
    "    def add_water(self, a):     #方法中的关键字参数\n",
    "        print('a的值为', a)\n",
    "        print(\"water的值为：\",self.water)\n",
    "        print(\"number的值为：\", self.number)\n",
    "        print(\"scour的值为：\", self.scour)\n",
    " \n",
    "    def start_wash(self,b=0):   #方法中的默认参数\n",
    "        print(\"b的值为：\",b)\n",
    "        self.scour = 1          #在类中重新对实例变量重新赋值：但是会影响到后面的值(所以轻易不要用)\n",
    "        print(\"scour的值为：\", self.scour)\n",
    " \n",
    "if __name__ == '__main__':\n",
    "    w = Washer(2)\n",
    "    w.add_water(10)\n",
    "    w.start_wash()\n",
    "    w.start_wash(2)"
   ]
  },
  {
   "cell_type": "markdown",
   "id": "8323f85f",
   "metadata": {},
   "source": [
    "注：\n",
    "\n",
    "1. 这段代码中__init__方法中定义了四个参数：self，number，water，scour\n",
    "    - self：表示实例对象本身(谁调用，就表示谁)。语法上，类中的方法的第一个参数都是self，这是和普通方法区别的地方\n",
    "    - number：是在__init__方法中的定义的位置参数，在实例化对象时需要按位置传递值进来\n",
    "    - water、scour：是在__init__方法中的定义的默认参数，默认值为0(self.water = 0和self.scour = 0)\n",
    "    - 这种定义方式无法通过外部传值来修改water、scour的值(如果需要改变其值只能对其重新赋值了)，因此这种定义方式意义不大\n",
    "\n",
    "2. 像这个例子中的这种定义默认值的方法一般都不会用到，因为无法通过外部传值来修改其的值\n",
    "\n",
    "3. 也可以看出来：**其实在__init__方法中定义参数的方式与我们一般函数定义参数的方式是一样的，只是说__init__方法的第一个参数必须是self**"
   ]
  },
  {
   "cell_type": "code",
   "execution_count": 10,
   "id": "7ee25155",
   "metadata": {},
   "outputs": [
    {
     "name": "stdout",
     "output_type": "stream",
     "text": [
      "a的值为 10\n",
      "number的值为： 2\n",
      "water的值为： 3\n",
      "scour的值为： 4\n",
      "b的值为： 0\n",
      "scour的值为： 1\n",
      "b的值为： 2\n",
      "scour的值为： 1\n",
      "---------\n",
      "a的值为 1\n",
      "number的值为： 2\n",
      "water的值为： 0\n",
      "scour的值为： 0\n"
     ]
    }
   ],
   "source": [
    "# 例7：\n",
    "\n",
    "class Washer:\n",
    "    def __init__(self,number,water=0,scour=0):\n",
    "        self.number = number\n",
    "        self.water = water\n",
    "        self.scour = scour\n",
    " \n",
    "    def add_water(self, a):\n",
    "        print('a的值为', a)\n",
    "        print(\"number的值为：\", self.number)\n",
    "        print(\"water的值为：\",self.water)\n",
    "        print(\"scour的值为：\", self.scour)\n",
    " \n",
    "    def start_wash(self,b=0):\n",
    "        print(\"b的值为：\",b)\n",
    "        self.scour = 1\n",
    "        print(\"scour的值为：\", self.scour)\n",
    " \n",
    "if __name__ == '__main__':\n",
    "    # 因为在__init__方法中定义了位置参数，那么在实例化类时就必须按位置传入对应变量的值\n",
    "    w = Washer(2,3,4)#传了默认参数的值\n",
    "    w.add_water(10)\n",
    "    w.start_wash()\n",
    "    w.start_wash(2)\n",
    "    print(\"---------\")\n",
    "    s = Washer(2)   #不传默认参数的值\n",
    "    s.add_water(1)"
   ]
  },
  {
   "cell_type": "markdown",
   "id": "4dfa98be",
   "metadata": {},
   "source": [
    "注：\n",
    "\n",
    "1、这个例子中的默认参数的第一方式才是经常使用到的：**在实例化类时传了默认参数的值就用传的值，未传默认参数的值时就是用默认的值**\n",
    "\n",
    "2、上面例子中water=0 scour=0为默认参数：这种写法也支持外部传入实参(self.water = water,self.scour = scour)，当外部传入实参时，就用外部传入的参数，外部未传入实参时，就用默认值\n",
    "\n",
    "3、这里**self.water = water和self.scour = scour**表示实例对象的属性：将外部传来的water和scour，赋值给了实例对象的water和scour属性(只是将形参的名字定义来跟实例属性名一致)\n",
    "\n"
   ]
  },
  {
   "cell_type": "markdown",
   "id": "416b50e6",
   "metadata": {},
   "source": [
    "## 在方法中对实例变量进行重新赋值"
   ]
  },
  {
   "cell_type": "markdown",
   "id": "c0b8cf11",
   "metadata": {},
   "source": [
    "1. 实例变量在整个类中都是可以任意调用、使用的(类外也是任意调用、使用的)\n",
    "\n",
    "2. 也就是说：<font color=red>**如果一个变量在类中的不同方法中都会使用到，为了方便调用，那么最好将其定义为实例变量**</font>\n",
    "    - 毕竟：类方法(非__init__方法)中的定义的变量、参数只能在该方法中使用，即使是同一个类不同方法中也是不能调用的\n",
    "    - 另外：如果使用一个方法来专门返回这个变量的话，也是需要先调用这个方法的\n",
    "    - 总的来说还是将这种\"会在不同方法中使用到的变量\"定义为实例变量在调用时会方便点\n",
    "\n"
   ]
  },
  {
   "cell_type": "code",
   "execution_count": 11,
   "id": "662f2aba",
   "metadata": {},
   "outputs": [
    {
     "name": "stdout",
     "output_type": "stream",
     "text": [
      "张三\n",
      "my name is 张三,my info is age-12,from-china\n",
      "-------------\n",
      "李四\n",
      "my name is 李四,my info is age-13,from-chengdu\n"
     ]
    }
   ],
   "source": [
    "class Studen():\n",
    "    def __init__(self):\n",
    "        self.name = None\n",
    "        self.info = None\n",
    " \n",
    "    def Name(self,name):\n",
    "        # 对默认实例变量self.name进行重新赋值\n",
    "        # 对实例变量重新赋值，只会影响到当前实例，对其他实例是没有影响的\n",
    "        self.name = name\n",
    "        print(self.name)\n",
    "        return self.name\n",
    " \n",
    "    def Info(self,info):\n",
    "        # 对默认实例变量self.info进行重新赋值，并调用前面重新赋值后的self.name\n",
    "        self.info = \"my name is %s,my info is %s\" % (self.name,info)\n",
    "        print(self.info)\n",
    "        return self.info\n",
    " \n",
    " \n",
    "student = Studen()\n",
    "name = student.Name(\"张三\")\n",
    "info = student.Info(\"age-12,from-china\")\n",
    " \n",
    "print(\"-------------\")\n",
    " \n",
    "student1 = Studen()\n",
    "name1 = student1.Name(\"李四\")\n",
    "info1 = student1.Info(\"age-13,from-chengdu\")"
   ]
  },
  {
   "cell_type": "markdown",
   "id": "21ca7f6a",
   "metadata": {},
   "source": [
    "## 返回值作为类的实例变量值"
   ]
  },
  {
   "cell_type": "markdown",
   "id": "691b0993",
   "metadata": {},
   "source": [
    "1. 与定义变量一样，<font color=red>**实例变量的值不仅可以是具体的值，还可以是函数返回值、方法返回值、类的实例名**</font>\n",
    "\n",
    "2. 其实就跟在普通函数中变量的值是其他函数的返回值一样，只是说这里多了个self"
   ]
  },
  {
   "cell_type": "code",
   "execution_count": 12,
   "id": "a16c5dec",
   "metadata": {},
   "outputs": [
    {
     "name": "stdout",
     "output_type": "stream",
     "text": [
      "10\n"
     ]
    }
   ],
   "source": [
    "# 例10：__init__值为其他函数或方法的返回值\n",
    "def add(a,b):\n",
    "    return a + b\n",
    " \n",
    "class Test():\n",
    "    def __init__(self,y):\n",
    "        self.x = add(1,2)\n",
    "        self.y = y\n",
    " \n",
    "    def func(self,c):\n",
    "        return self.x + self.y + c\n",
    " \n",
    "test = Test(3)\n",
    "print(test.func(4))"
   ]
  },
  {
   "cell_type": "code",
   "execution_count": 13,
   "id": "82ac178a",
   "metadata": {},
   "outputs": [
    {
     "name": "stdout",
     "output_type": "stream",
     "text": [
      "姓名：张三,来自于china\n",
      "年龄：13\n"
     ]
    }
   ],
   "source": [
    "# 例11：\n",
    "class Student():\n",
    "    def __init__(self,name,age):\n",
    "        self.name = name\n",
    "        self.age = age\n",
    "    def Name(self):\n",
    "        return self.name\n",
    " \n",
    "class From():\n",
    "    def __init__(self):\n",
    "        self.student = Student(\"张三\",13)   #实例化另一个类并作为这个类的实例变量(属性)\n",
    "        self.studentName = self.student.Name() #调用另一个类的方法，并将其返回值赋值给这个类作为实例变量(属性)\n",
    " \n",
    "    def Info(self,address):\n",
    "        info = \"姓名：%s,来自于%s\" % (self.studentName,address) #在类中调用自己类的实例变量(类中：self.实例变量名)\n",
    "        return info\n",
    " \n",
    "    def Age(self):\n",
    "        return \"年龄：%s\" % self.student.age  #调用其他类的实例变量(类外：实例名.实例变量名，需要注意的是这里的实例名是self.student)\n",
    " \n",
    "comfrom = From()\n",
    "info = comfrom.Info(\"china\")\n",
    "age = comfrom.Age()\n",
    "print(info)\n",
    "print(age)\n"
   ]
  },
  {
   "cell_type": "markdown",
   "id": "c8c0e2f4",
   "metadata": {},
   "source": [
    "注：\n",
    "\n",
    "1. <font color=red>**构造方法可以带有除self外的其它各种参数：**</font>位置参数、关键字参数、默认参数、用元组收集参数、用字典收集关键字参数等。设置参数后，只需要在实例化类时，传入对应的实参即可\n",
    "\n",
    "2. <font color=red>**在定义实例变量的值时，其值也可以是其他函数或方法的返回值，其实就跟在普通函数中变量的值是其他函数的返回值一样，只是说这里多了个self**</font>\n",
    "\n",
    "3. 这里主要是想说明下：在调用Student()类的实例变量age时，用的是**\"self.student.age\"**，而不是\"self.student.self.age\"\n",
    "    - 这个例子中Student()类的实例名是\"self.student\"，因为它是作为From()类的实例变量存在的\n",
    "    - **类中：** self.实例变量名\n",
    "    - **类外：** 实例名.实例变量名"
   ]
  },
  {
   "cell_type": "markdown",
   "id": "f48df4e5",
   "metadata": {},
   "source": [
    "# 类方法"
   ]
  },
  {
   "cell_type": "markdown",
   "id": "d3667c9c",
   "metadata": {},
   "source": [
    "1. Python类是属性和方法的组合\n",
    "    - 属性：分为类属性和实例属性\n",
    "    - 方法：即定义在类中的函数(与普通的函数类似，方法的第一个参数必须为self)\n",
    "\n",
    "2. 类中的方法分为：实例方法、类方法、静态方法。这里主要介绍实例方法(方法中第一个参数必须为self)，感觉其他两种方法用的比较少\n"
   ]
  },
  {
   "cell_type": "markdown",
   "id": "a2840e90",
   "metadata": {},
   "source": [
    "## 定义"
   ]
  },
  {
   "cell_type": "code",
   "execution_count": null,
   "id": "10952127",
   "metadata": {},
   "outputs": [],
   "source": [
    "# 1、语法：\n",
    "def fun_name(self,...);\n",
    " \n",
    "      Pass"
   ]
  },
  {
   "cell_type": "markdown",
   "id": "df744839",
   "metadata": {},
   "source": [
    "注：\n",
    "\n",
    "1. 其中的<font color=red>**参数self代表类的当前实例**</font>，在调用方法时由系统自动提供\n",
    "\n",
    "2. <font color=red>**方法定义时必须指明self参数，但是在调用类方法时，就不需要传递self参数了**</font>\n",
    "\n",
    "3. 简单的来说就是：<font color=red>**self代表的当前的实例对象本身**</font>，这样在调用类方法等时Python就知道当前是哪个实例对象在调用了\n",
    "    - 一个抽象类实例化后，实例对象为a，那么此时self就代表实例对象a\n",
    "    - 一个抽象类实例化后，实例对象为b，那么此时self就代表实例对象b\n"
   ]
  },
  {
   "cell_type": "markdown",
   "id": "472283ae",
   "metadata": {},
   "source": [
    "## 调用"
   ]
  },
  {
   "cell_type": "markdown",
   "id": "f79eea07",
   "metadata": {},
   "source": [
    "1. 类的方法的调用：与普通的函数调用类似\n",
    "    - 类的内部调用：<font color=red>**self.<方法名>(参数列表)，或类名.方法名(self,参数列表）**</font>\n",
    "    - 在类的外部调用：<font color=red>**<实例名>.<方法名>(参数列表)**</font>\n",
    "    - 注意：以上两种调用方法中，提供的参数列表中都不用包括self (类名.方法名(self,参数列表除外)\n",
    "\n"
   ]
  },
  {
   "cell_type": "code",
   "execution_count": 16,
   "id": "7fc5576e",
   "metadata": {},
   "outputs": [
    {
     "name": "stdout",
     "output_type": "stream",
     "text": [
      "mmm and nn\n"
     ]
    }
   ],
   "source": [
    "# 例13：\n",
    "class Num:\n",
    "    def eat(self,name):\n",
    "        self.name = name\n",
    "        print(\"mmm and %s\" % self.name)\n",
    " \n",
    "    def speed(self):\n",
    "        self.eat(\"nn\")           #类中访问方法：self.方法名\n",
    "        #Num.eat(self,\"nn\")      #类中访问方法：类名.方法名（self)\n",
    " \n",
    "num = Num()\n",
    "num.speed()  #类外调用类方法：实例名.方法名"
   ]
  },
  {
   "cell_type": "markdown",
   "id": "d1bece74",
   "metadata": {},
   "source": [
    "# 补充"
   ]
  },
  {
   "cell_type": "markdown",
   "id": "7749c818",
   "metadata": {},
   "source": [
    "## 类\n",
    "\n",
    "1. __init__方法用于定义实例变量：在类中任意地方都可以随意调用实例变量(self.属性名)\n",
    "\n",
    "2. <font color=red>**类方法中也可以定义自己的变量、参数：方法中的变量、参数只能在该方法中使用**</font>\n",
    "    - 即使是同一个类不同方法中也是不能调用的\n",
    "    - 方法中的变量、参数在方法中的调用方式与普通函数调用一样，是不需要绑定实例对象的(不需要使用self来调用)\n",
    "    - 类方法中定义了自己的参数，在调用类方法时就需要传入对应的参数值了\n"
   ]
  },
  {
   "cell_type": "code",
   "execution_count": 17,
   "id": "5e428e98",
   "metadata": {},
   "outputs": [
    {
     "name": "stdout",
     "output_type": "stream",
     "text": [
      "6\n"
     ]
    }
   ],
   "source": [
    "# 例14：\n",
    "class Count():\n",
    "    def __init__(self,a,b):\n",
    "        self.a = int(a)   #实例变量也可以是一个函数等的返回值\n",
    "        self.b = int(b)\n",
    "    def Add(self,c):\n",
    "        # 定义自己的参数c，参数c只能在该方法中使用且不需要通过self来调用\n",
    "        sum = self.a + self.b + c\n",
    "        return sum\n",
    " \n",
    "count = Count(1,2)\n",
    " \n",
    "# 类方法中定义了自己的参数，在调用类方法时就需要传入对应的参数值了\n",
    "print(count.Add(3))\n"
   ]
  },
  {
   "cell_type": "code",
   "execution_count": 18,
   "id": "47dc74ea",
   "metadata": {},
   "outputs": [
    {
     "name": "stdout",
     "output_type": "stream",
     "text": [
      "品牌：宝马,颜色：红色\n",
      "当前行驶速度：50 KM/S\n"
     ]
    }
   ],
   "source": [
    "# 例15：\n",
    "class Car():\n",
    "    \"\"\"这是一个汽车类\"\"\"\n",
    "    brand = \"宝马\"\n",
    "    color = \"红色\"\n",
    " \n",
    "    def run(self,s):\n",
    "        print(\"当前行驶速度：%s KM/S\"% s)\n",
    "        #print(self.__class__)\n",
    " \n",
    "car = Car()\n",
    "#调用类属性(调用类属性时，最好不要中这种方式)\n",
    "print(\"品牌：%s,颜色：%s\" % (car.brand,car.color))\n",
    "#调用类方法\n",
    "car.run(50)\n"
   ]
  },
  {
   "cell_type": "markdown",
   "id": "9951d14d",
   "metadata": {},
   "source": [
    "注：\n",
    "\n",
    "1. **定义好类后，首先需要创建一个类的实例(实例化类后才能使用)：python只需要类名+（）就可以实例化一个类car = Car()**\n",
    "\n",
    "2. 使用点(.)来调用属性和方法\n",
    "\n",
    "3. self代表当前实例，而self.__class__就是Car类"
   ]
  },
  {
   "cell_type": "markdown",
   "id": "6a517ef0",
   "metadata": {},
   "source": [
    "## 类变量\n",
    "\n",
    "1. 上面例子中像brand、color这类变量叫做**类变量，是所有类实例共享的变量：类变量定义在类中但是不属于任何函数**\n",
    "\n",
    "2. 虽然可以向上面例子中那样使用类名来访问并修改类变量，但是不建议这么做，因为当**使用\"类名.类属性名\"来修改了类变量**后，可能会对其他类实例的使用造成影响。**正确的用法是\"实例名.属性\"的方式访问类的属性**\n"
   ]
  },
  {
   "cell_type": "code",
   "execution_count": 19,
   "id": "2feb36ec",
   "metadata": {},
   "outputs": [
    {
     "name": "stdout",
     "output_type": "stream",
     "text": [
      "宝马 140227905828536\n",
      "宝马 140227905828536\n"
     ]
    }
   ],
   "source": [
    "# 例16：\n",
    "class Car():\n",
    "    \"\"\"这是一个汽车类\"\"\"\n",
    "    brand = \"宝马\"\n",
    "    color = \"红色\"\n",
    " \n",
    "    def run(self,s):\n",
    "        print(\"当前行驶速度：%s KM/S\"% s)\n",
    " \n",
    "a = Car()\n",
    "b = Car()\n",
    "print(a.brand,id(a.brand))\n",
    "print(b.brand,id(a.brand))"
   ]
  },
  {
   "cell_type": "markdown",
   "id": "46793c08",
   "metadata": {},
   "source": [
    "注：可见两个实例的brand属性所指向的内存地址是相同的，这就意味着如果修改了Car.brand，那么实例a和实例b的brand值都会发生变化"
   ]
  },
  {
   "cell_type": "code",
   "execution_count": 20,
   "id": "4f2db6ef",
   "metadata": {},
   "outputs": [
    {
     "name": "stdout",
     "output_type": "stream",
     "text": [
      "奔驰 140227905828008\n",
      "奔驰 140227905828008\n"
     ]
    }
   ],
   "source": [
    "# 例17：\n",
    "Car.brand = \"奔驰\"\n",
    "a = Car()\n",
    "b = Car()\n",
    "print(a.brand,id(a.brand))\n",
    "print(b.brand,id(a.brand))\n",
    " "
   ]
  },
  {
   "cell_type": "code",
   "execution_count": 21,
   "id": "4d10a75c",
   "metadata": {},
   "outputs": [
    {
     "name": "stdout",
     "output_type": "stream",
     "text": [
      "宝马 140227905827832\n",
      "宝马 140227905827832\n",
      "奔驰 140227905828536\n",
      "宝马 140227905828536\n"
     ]
    }
   ],
   "source": [
    "# 例18：\n",
    "class Car():\n",
    "    \"\"\"这是一个汽车类\"\"\"\n",
    " \n",
    "    brand = \"宝马\"\n",
    "    color = \"红色\"\n",
    " \n",
    " \n",
    "    def run(self, s):\n",
    "        print(\"当前行驶速度：%s KM/S\" % s)\n",
    " \n",
    " \n",
    "a = Car()\n",
    "b = Car()\n",
    "print(a.brand, id(a.brand))\n",
    "print(b.brand, id(a.brand))\n",
    " \n",
    "a.brand = \"奔驰\"\n",
    "print(a.brand, id(a.brand))\n",
    "print(b.brand, id(a.brand))"
   ]
  },
  {
   "cell_type": "markdown",
   "id": "95c052d5",
   "metadata": {},
   "source": [
    "## 实例变量"
   ]
  },
  {
   "cell_type": "markdown",
   "id": "8cad3e05",
   "metadata": {},
   "source": [
    "1. **类变量表示所有实例都拥有的属性(每个实例的属性都一致)，那对于每个实例都不一样的属性(每个实例独有的属性)**该怎么表示呢？对于这种类型的属性，可以使用实例变量来储存\n",
    "\n",
    "2. **实例变量是定义在方法(__init__)中的变量，只能用于当前类的实例**"
   ]
  },
  {
   "cell_type": "code",
   "execution_count": 22,
   "id": "3efe7f55",
   "metadata": {},
   "outputs": [
    {
     "name": "stdout",
     "output_type": "stream",
     "text": [
      "品牌：宝马,颜色：红色\n",
      "品牌：奔驰,颜色：黑色\n",
      "宝马\n",
      "黑色\n"
     ]
    }
   ],
   "source": [
    "# 例19：\n",
    "class Car():\n",
    "    \"\"\"这是一个汽车类\"\"\"\n",
    "    def __init__(self,brand,color):\n",
    "        self.brand = brand\n",
    "        self.color = color\n",
    " \n",
    "    def run(self,s):\n",
    "        print(\"当前行驶速度：%s KM/S\"% s)\n",
    " \n",
    "    def print_car(self):\n",
    "        print(\"品牌：%s,颜色：%s\" % (self.brand,self.color))\n",
    " \n",
    " \n",
    "car_A = Car(\"宝马\",\"红色\")\n",
    "car_A.print_car()\n",
    " \n",
    "car_B = Car(\"奔驰\",\"黑色\")\n",
    "car_B.print_car()\n",
    " \n",
    "print(car_A.brand)\n",
    "print(car_B.color)\n",
    " "
   ]
  },
  {
   "cell_type": "markdown",
   "id": "c1947237",
   "metadata": {},
   "source": [
    "注：\n",
    "\n",
    "1. **实例变量表示：每个实例独有的属性，需要定义在__init__方法中**\n",
    "\n",
    "2. 方法__init__()叫做构造函数，每当实例化一个类时都会执行这个函数，通常会在这个函数里面为实例属性进行初始化\n",
    "\n",
    "3. **存在构造函数时，在实例化类时就必须传入实例变量的实参：car_A = Car(\"宝马\",\"红色\")，当然如果方法中存在参数，那在调用类的方法时也必须传入实参**\n",
    "\n",
    "4. **在类中调用实例属性时为：self.属性名，在类外调用实例属性时为：实例名.属性名**\n"
   ]
  },
  {
   "cell_type": "code",
   "execution_count": 23,
   "id": "e31b4b43",
   "metadata": {},
   "outputs": [
    {
     "name": "stdout",
     "output_type": "stream",
     "text": [
      "Name :  Zara , Salary:  2000\n",
      "Total Employee 1\n",
      "Name :  Manni , Salary:  5000\n",
      "Total Employee 2\n",
      "emp1年龄为： 8\n",
      "emp2年龄为： 9\n"
     ]
    }
   ],
   "source": [
    "# 例20：\n",
    "class Employee(object):\n",
    "    \"\"\"所有员工的基类\"\"\"\n",
    "    empCount = 0\n",
    "    def __init__(self, name, salary):\n",
    "        self.name = name\n",
    "        self.salary = salary\n",
    "        Employee.empCount += 1#修改类变量的值\n",
    " \n",
    "    def displayCount(self):\n",
    "        print(\"Total Employee %d\" % Employee.empCount)\n",
    " \n",
    "    def displayEmployee(self):\n",
    "        print(\"Name : \", self.name, \", Salary: \", self.salary)\n",
    " \n",
    " \n",
    "#创建Employee类的第一个对象\n",
    "emp1 = Employee(\"Zara\", 2000)\n",
    "emp1.displayEmployee()\n",
    "print(\"Total Employee %d\" % Employee.empCount)\n",
    " \n",
    "#创建 Employee 类的第二个对象\n",
    "emp2 = Employee(\"Manni\", 5000)\n",
    "emp2.displayEmployee()\n",
    "print(\"Total Employee %d\" % Employee.empCount)\n",
    "# 添加一个 'age' 属性\n",
    "emp1.age = 7#增加实例属性\n",
    "# 修改 'age' 属性\n",
    "emp1.age = 8\n",
    "# 删除 'age' 属性\n",
    "print(\"emp1年龄为：\",emp1.age)\n",
    " \n",
    "emp2.age = 9\n",
    "print(\"emp2年龄为：\",emp2.age)"
   ]
  },
  {
   "cell_type": "markdown",
   "id": "653de2c2",
   "metadata": {},
   "source": [
    "## __init__方法\n",
    "\n",
    "1. 实例属性是在__init__方法中定义的：表示各个实例所独有的属性\n",
    "\n",
    "2. __init__方法中第一个参数始终是self：代表当前具体的实例\n",
    "\n",
    "3. 调用实例属性：\n",
    "    - 在类中调用实例属性时为：**self.属性名**\n",
    "    - 在类外调用实例属性时为：**实例名.属性名**\n",
    "\n",
    "4. __init__方法定义格式为：\n"
   ]
  },
  {
   "cell_type": "code",
   "execution_count": 24,
   "id": "7c6fcb19",
   "metadata": {},
   "outputs": [],
   "source": [
    "class Studeng():\n",
    "    def __init__(self,name,score):\n",
    "        self.name = name\n",
    "        self.score = score"
   ]
  },
  {
   "cell_type": "markdown",
   "id": "f1ecad69",
   "metadata": {},
   "source": [
    "上面示例的意思为：把外部参数name的值(形参)传递给具体实例变量的name属性(也算是一个形参吧，只是实例属性名与外部形参名一致)，用self将属性绑定到具体的实例上，明确当前属于哪个实例\n",
    "\n"
   ]
  },
  {
   "cell_type": "markdown",
   "id": "fa686d5e",
   "metadata": {},
   "source": [
    "## self参数"
   ]
  },
  {
   "cell_type": "markdown",
   "id": "3213cb45",
   "metadata": {},
   "source": [
    "1. self参数是实例对象在类内部的表示(即：self表示实例对象)\n",
    "\n",
    "2. 类方法在定义时，第一个参数始终是self参数：告诉python当前是哪个实例在调用方法\n",
    "\n",
    "3. 在类中调用实例属性时，格式为**self.属性名：**告诉python当前是哪个实例在调用属性(该属性属于哪个实例)"
   ]
  },
  {
   "cell_type": "code",
   "execution_count": 25,
   "id": "c2b2a90b",
   "metadata": {},
   "outputs": [
    {
     "name": "stdout",
     "output_type": "stream",
     "text": [
      "7\n",
      "-2\n"
     ]
    }
   ],
   "source": [
    "# 例21：正确的写法\n",
    "class Count():\n",
    "    a = 1\n",
    "    def __init__(self, x, y):\n",
    "        self.x = int(x)\n",
    "        self.y = int(y)\n",
    " \n",
    "    def Add(self, c):\n",
    "        sum = self.x + self.y + c\n",
    "        return sum\n",
    " \n",
    "    def Subtract(self):\n",
    "        subtract = self.x - self.y - 1\n",
    "        return subtract\n",
    " \n",
    "count = Count(2, 3)\n",
    " \n",
    "print(count.Add(2))\n",
    "print(count.Subtract())"
   ]
  },
  {
   "cell_type": "markdown",
   "id": "e1e4bcae",
   "metadata": {},
   "source": [
    "注：\n",
    "\n",
    "1. 这个例子中涉及到了三种类型的变量：\n",
    "    - **类变量a：**直接定义在类中的变量\n",
    "    - **实例变量x和y：**定义在__init__方法中的变量\n",
    "    - **函数内的局部变量c：**定义在方法中的变量，作用域在该函数内\n",
    "\n",
    "2. 这里例子中的局部变量c只能在定义的方法内使用，即使是同一个类中的其他方法也不能调用这个变量\n",
    "\n",
    "3. 这个例子是正确的写法：完全把变量c当做局部变量只能在定义的方法中调用，其他方法都不能调用(既然是定义在方法内的，那么本来就没打算让其他方法调用)"
   ]
  },
  {
   "cell_type": "code",
   "execution_count": 26,
   "id": "ad6f1d5d",
   "metadata": {},
   "outputs": [
    {
     "name": "stdout",
     "output_type": "stream",
     "text": [
      "7\n"
     ]
    },
    {
     "ename": "NameError",
     "evalue": "name 'c' is not defined",
     "output_type": "error",
     "traceback": [
      "\u001b[0;31m---------------------------------------------------------------------------\u001b[0m",
      "\u001b[0;31mNameError\u001b[0m                                 Traceback (most recent call last)",
      "\u001b[0;32m<ipython-input-26-a8a8c6c2cf61>\u001b[0m in \u001b[0;36m<module>\u001b[0;34m\u001b[0m\n\u001b[1;32m     17\u001b[0m \u001b[0;34m\u001b[0m\u001b[0m\n\u001b[1;32m     18\u001b[0m \u001b[0mprint\u001b[0m\u001b[0;34m(\u001b[0m\u001b[0mcount\u001b[0m\u001b[0;34m.\u001b[0m\u001b[0mAdd\u001b[0m\u001b[0;34m(\u001b[0m\u001b[0;36m2\u001b[0m\u001b[0;34m)\u001b[0m\u001b[0;34m)\u001b[0m\u001b[0;34m\u001b[0m\u001b[0;34m\u001b[0m\u001b[0m\n\u001b[0;32m---> 19\u001b[0;31m \u001b[0mprint\u001b[0m\u001b[0;34m(\u001b[0m\u001b[0mcount\u001b[0m\u001b[0;34m.\u001b[0m\u001b[0mSubtract\u001b[0m\u001b[0;34m(\u001b[0m\u001b[0;34m)\u001b[0m\u001b[0;34m)\u001b[0m\u001b[0;34m\u001b[0m\u001b[0;34m\u001b[0m\u001b[0m\n\u001b[0m",
      "\u001b[0;32m<ipython-input-26-a8a8c6c2cf61>\u001b[0m in \u001b[0;36mSubtract\u001b[0;34m(self)\u001b[0m\n\u001b[1;32m     11\u001b[0m \u001b[0;34m\u001b[0m\u001b[0m\n\u001b[1;32m     12\u001b[0m     \u001b[0;32mdef\u001b[0m \u001b[0mSubtract\u001b[0m\u001b[0;34m(\u001b[0m\u001b[0mself\u001b[0m\u001b[0;34m)\u001b[0m\u001b[0;34m:\u001b[0m\u001b[0;34m\u001b[0m\u001b[0;34m\u001b[0m\u001b[0m\n\u001b[0;32m---> 13\u001b[0;31m         \u001b[0msubtract\u001b[0m \u001b[0;34m=\u001b[0m \u001b[0mself\u001b[0m\u001b[0;34m.\u001b[0m\u001b[0mx\u001b[0m \u001b[0;34m-\u001b[0m \u001b[0mself\u001b[0m\u001b[0;34m.\u001b[0m\u001b[0my\u001b[0m \u001b[0;34m-\u001b[0m \u001b[0mc\u001b[0m\u001b[0;34m\u001b[0m\u001b[0;34m\u001b[0m\u001b[0m\n\u001b[0m\u001b[1;32m     14\u001b[0m         \u001b[0;32mreturn\u001b[0m \u001b[0msubtract\u001b[0m\u001b[0;34m\u001b[0m\u001b[0;34m\u001b[0m\u001b[0m\n\u001b[1;32m     15\u001b[0m \u001b[0;34m\u001b[0m\u001b[0m\n",
      "\u001b[0;31mNameError\u001b[0m: name 'c' is not defined"
     ]
    }
   ],
   "source": [
    "# 例22：\n",
    "class Count():\n",
    "    a = 1\n",
    "    def __init__(self, x, y):\n",
    "        self.x = int(x)\n",
    "        self.y = int(y)\n",
    " \n",
    "    def Add(self, c):\n",
    "        sum = self.x + self.y + c\n",
    "        return sum\n",
    " \n",
    "    def Subtract(self):\n",
    "        subtract = self.x - self.y - c\n",
    "        return subtract\n",
    " \n",
    "count = Count(2, 3)\n",
    " \n",
    "print(count.Add(2))\n",
    "print(count.Subtract())"
   ]
  },
  {
   "cell_type": "markdown",
   "id": "ff486f91",
   "metadata": {},
   "source": [
    "注：\n",
    "\n",
    "1. 可以看出：局部变量c只能在定义的方法内使用，即使是同一个类中的其他方法也不能调用这个变量\n",
    "\n",
    "2. 如果想在其他方法中调用这个局部变量的话，那可以修改下定义方法"
   ]
  },
  {
   "cell_type": "code",
   "execution_count": 27,
   "id": "df58e13a",
   "metadata": {},
   "outputs": [
    {
     "name": "stdout",
     "output_type": "stream",
     "text": [
      "7\n",
      "-3\n"
     ]
    }
   ],
   "source": [
    "# 例23：\n",
    "class Count():\n",
    "    a = 1\n",
    "    def __init__(self, x, y):\n",
    "        self.x = int(x)\n",
    "        self.y = int(y)\n",
    " \n",
    "    def Add(self, c):\n",
    "        self.c = c\n",
    "        sum = self.x + self.y + self.c\n",
    "        return sum\n",
    " \n",
    "    def Subtract(self):\n",
    "        subtract = self.x - self.y - self.c\n",
    "        return subtract\n",
    " \n",
    "count = Count(2, 3)\n",
    " \n",
    "print(count.Add(2))\n",
    "print(count.Subtract())"
   ]
  },
  {
   "cell_type": "markdown",
   "id": "772ac1d1",
   "metadata": {},
   "source": [
    "注：\n",
    "\n",
    "1. 这个例子中就将Add()方法中的局部变量c定义成了一个：类似于实例变量的变量(实际上不是实例变量，因为它不会被__init__方法初始化)。这样就可以在其他方法中调用这个局部变量了\n",
    "\n",
    "2. 不过这样写法的话，就必须先执行Add()方法再执行Subtract()方法了，如果直接执行Subtract()方法，那么就会找不到变量c的值\n",
    "\n",
    "3. <font color=red>**当然，我这里只是说明下这么写不会报错，但是实际上这种写法是不对的：**</font>\n",
    "    - 如果你想一个变量能被多个方法调用，那还不如直接定义在__init__方法中或定义为类变量\n",
    "    - 既然是将变量定义在了一个方法内(局部变量)，那么肯定是不想被其他方法调用的，那写成\"self.c = c\"就没任何意义了\n",
    "    - 并且这种写法的话，在调用上很不方便：其他方法在调用这个变量前必须先调用这个定义变量的方法，不然就报错了\n",
    "    - 一句话：<font color=red>**类变量就是类变量、实例变量就是实例变量、局部变量就是局部变量**</font>"
   ]
  },
  {
   "cell_type": "code",
   "execution_count": 29,
   "id": "74c74d39",
   "metadata": {},
   "outputs": [
    {
     "ename": "AttributeError",
     "evalue": "'Count' object has no attribute 'c'",
     "output_type": "error",
     "traceback": [
      "\u001b[0;31m---------------------------------------------------------------------------\u001b[0m",
      "\u001b[0;31mAttributeError\u001b[0m                            Traceback (most recent call last)",
      "\u001b[0;32m<ipython-input-29-0de37f006353>\u001b[0m in \u001b[0;36m<module>\u001b[0;34m\u001b[0m\n\u001b[1;32m     17\u001b[0m \u001b[0;34m\u001b[0m\u001b[0m\n\u001b[1;32m     18\u001b[0m \u001b[0;31m#print(count.Add(2))\u001b[0m\u001b[0;34m\u001b[0m\u001b[0;34m\u001b[0m\u001b[0;34m\u001b[0m\u001b[0m\n\u001b[0;32m---> 19\u001b[0;31m \u001b[0mprint\u001b[0m\u001b[0;34m(\u001b[0m\u001b[0mcount\u001b[0m\u001b[0;34m.\u001b[0m\u001b[0mSubtract\u001b[0m\u001b[0;34m(\u001b[0m\u001b[0;34m)\u001b[0m\u001b[0;34m)\u001b[0m\u001b[0;34m\u001b[0m\u001b[0;34m\u001b[0m\u001b[0m\n\u001b[0m",
      "\u001b[0;32m<ipython-input-29-0de37f006353>\u001b[0m in \u001b[0;36mSubtract\u001b[0;34m(self)\u001b[0m\n\u001b[1;32m     11\u001b[0m \u001b[0;34m\u001b[0m\u001b[0m\n\u001b[1;32m     12\u001b[0m     \u001b[0;32mdef\u001b[0m \u001b[0mSubtract\u001b[0m\u001b[0;34m(\u001b[0m\u001b[0mself\u001b[0m\u001b[0;34m)\u001b[0m\u001b[0;34m:\u001b[0m\u001b[0;34m\u001b[0m\u001b[0;34m\u001b[0m\u001b[0m\n\u001b[0;32m---> 13\u001b[0;31m         \u001b[0msubtract\u001b[0m \u001b[0;34m=\u001b[0m \u001b[0mself\u001b[0m\u001b[0;34m.\u001b[0m\u001b[0mx\u001b[0m \u001b[0;34m-\u001b[0m \u001b[0mself\u001b[0m\u001b[0;34m.\u001b[0m\u001b[0my\u001b[0m \u001b[0;34m-\u001b[0m \u001b[0mself\u001b[0m\u001b[0;34m.\u001b[0m\u001b[0mc\u001b[0m\u001b[0;34m\u001b[0m\u001b[0;34m\u001b[0m\u001b[0m\n\u001b[0m\u001b[1;32m     14\u001b[0m         \u001b[0;32mreturn\u001b[0m \u001b[0msubtract\u001b[0m\u001b[0;34m\u001b[0m\u001b[0;34m\u001b[0m\u001b[0m\n\u001b[1;32m     15\u001b[0m \u001b[0;34m\u001b[0m\u001b[0m\n",
      "\u001b[0;31mAttributeError\u001b[0m: 'Count' object has no attribute 'c'"
     ]
    }
   ],
   "source": [
    "class Count():\n",
    "    a = 1\n",
    "    def __init__(self, x, y):\n",
    "        self.x = int(x)\n",
    "        self.y = int(y)\n",
    " \n",
    "    def Add(self, c):\n",
    "        self.c = c\n",
    "        sum = self.x + self.y + self.c\n",
    "        return sum\n",
    " \n",
    "    def Subtract(self):\n",
    "        subtract = self.x - self.y - self.c\n",
    "        return subtract\n",
    " \n",
    "count = Count(2, 3)\n",
    " \n",
    "#print(count.Add(2))\n",
    "print(count.Subtract())"
   ]
  }
 ],
 "metadata": {
  "kernelspec": {
   "display_name": "Python 3",
   "language": "python",
   "name": "python3"
  },
  "language_info": {
   "codemirror_mode": {
    "name": "ipython",
    "version": 3
   },
   "file_extension": ".py",
   "mimetype": "text/x-python",
   "name": "python",
   "nbconvert_exporter": "python",
   "pygments_lexer": "ipython3",
   "version": "3.6.9"
  },
  "toc": {
   "base_numbering": 1,
   "nav_menu": {},
   "number_sections": true,
   "sideBar": true,
   "skip_h1_title": false,
   "title_cell": "Table of Contents",
   "title_sidebar": "Contents",
   "toc_cell": false,
   "toc_position": {},
   "toc_section_display": true,
   "toc_window_display": false
  }
 },
 "nbformat": 4,
 "nbformat_minor": 5
}
