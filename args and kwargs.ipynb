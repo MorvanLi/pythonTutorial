{
 "cells": [
  {
   "cell_type": "markdown",
   "id": "f425ff38",
   "metadata": {},
   "source": [
    "在Python中的代码中经常会见到这两个词 args 和 kwargs，前面通常还会加上一个或者两个星号。其实这只是编程人员约定的变量名字，args 是 arguments 的缩写，表示位置参数；kwargs 是 keyword arguments 的缩写，表示关键字参数。这其实就是 Python 中可变参数的两种形式，<font color=red>并且 *args 必须放在 **kwargs 的前面，</font> 因为位置参数在关键字参数的前面。"
   ]
  },
  {
   "cell_type": "markdown",
   "id": "8e3ce9ce",
   "metadata": {},
   "source": [
    "# *args的用法"
   ]
  },
  {
   "cell_type": "markdown",
   "id": "e4bc79dc",
   "metadata": {},
   "source": [
    "*args就是就是传递一个可变参数列表给函数实参，这个参数列表的数目未知，甚至长度可以为0。下面这段代码演示了如何使用args"
   ]
  },
  {
   "cell_type": "code",
   "execution_count": 2,
   "id": "778299b4",
   "metadata": {},
   "outputs": [
    {
     "name": "stdout",
     "output_type": "stream",
     "text": [
      "Required argument:  1\n",
      "<class 'tuple'>\n",
      "Optional argument:  2\n",
      "Optional argument:  3\n",
      "Optional argument:  4\n"
     ]
    }
   ],
   "source": [
    "def test_args(first, *args):\n",
    "    print('Required argument: ', first)\n",
    "    print(type(args))\n",
    "    for v in args:\n",
    "        print ('Optional argument: ', v)\n",
    "\n",
    "test_args(1, 2, 3, 4)"
   ]
  },
  {
   "cell_type": "markdown",
   "id": "0b7c7d56",
   "metadata": {},
   "source": [
    "第一个参数是必须要传入的参数，所以使用了第一个形参，而后面三个参数则作为可变参数列表传入了实参，并且是作为元组tuple来使用的。代码的运行结果如下"
   ]
  },
  {
   "cell_type": "markdown",
   "id": "76228780",
   "metadata": {},
   "source": [
    "# **kwargs"
   ]
  },
  {
   "cell_type": "markdown",
   "id": "616e7909",
   "metadata": {},
   "source": [
    "而**kwargs则是将一个可变的关键字参数的字典传给函数实参，同样参数列表长度可以为0或为其他值。下面这段代码演示了如何使用kwargs"
   ]
  },
  {
   "cell_type": "code",
   "execution_count": 4,
   "id": "ba19efb8",
   "metadata": {},
   "outputs": [
    {
     "name": "stdout",
     "output_type": "stream",
     "text": [
      "Required argument:  1\n",
      "<class 'dict'>\n",
      "Optional argument (args):  2\n",
      "Optional argument (args):  3\n",
      "Optional argument (args):  4\n",
      "Optional argument k1 (kwargs): 5\n",
      "Optional argument k2 (kwargs): 6\n"
     ]
    }
   ],
   "source": [
    "def test_kwargs(first, *args, **kwargs):\n",
    "   print('Required argument: ', first)\n",
    "   print(type(kwargs))\n",
    "   for v in args:\n",
    "      print ('Optional argument (args): ', v)\n",
    "   for k, v in kwargs.items():\n",
    "      print ('Optional argument %s (kwargs): %s' % (k, v))\n",
    "\n",
    "test_kwargs(1, 2, 3, 4, k1=5, k2=6)"
   ]
  },
  {
   "cell_type": "markdown",
   "id": "aad9c969",
   "metadata": {},
   "source": [
    "正如前面所说的，args类型是一个tuple，而kwargs则是一个字典dict，并且args只能位于kwargs的前面。"
   ]
  },
  {
   "cell_type": "markdown",
   "id": "84c0973d",
   "metadata": {},
   "source": [
    "# 调用函数"
   ]
  },
  {
   "cell_type": "markdown",
   "id": "25e9a715",
   "metadata": {},
   "source": [
    "args和kwargs不仅可以在函数定义中使用，还可以在函数调用中使用。在调用时使用就相当于pack（打包）和unpack（解包），类似于元组的打包和解包。\n",
    "首先来看一下使用args来解包调用函数的代码，\n",
    "\n"
   ]
  },
  {
   "cell_type": "code",
   "execution_count": 5,
   "id": "bf9a941a",
   "metadata": {},
   "outputs": [
    {
     "name": "stdout",
     "output_type": "stream",
     "text": [
      "arg1: two\n",
      "arg2: 3\n",
      "arg3: 5\n"
     ]
    }
   ],
   "source": [
    "def test_args_kwargs(arg1, arg2, arg3):\n",
    "    print(\"arg1:\", arg1)\n",
    "    print(\"arg2:\", arg2)\n",
    "    print(\"arg3:\", arg3)\n",
    "\n",
    "args = (\"two\", 3, 5)\n",
    "test_args_kwargs(*args)"
   ]
  },
  {
   "cell_type": "markdown",
   "id": "67d0fa35",
   "metadata": {},
   "source": [
    "将元组解包后传给对应的实参，kwargs的用法与其类似。"
   ]
  },
  {
   "cell_type": "code",
   "execution_count": 6,
   "id": "6f4b8235",
   "metadata": {},
   "outputs": [
    {
     "name": "stdout",
     "output_type": "stream",
     "text": [
      "arg1: 5\n",
      "arg2: two\n",
      "arg3: 3\n"
     ]
    }
   ],
   "source": [
    "kwargs = {\"arg3\": 3, \"arg2\": \"two\", \"arg1\": 5}\n",
    "test_args_kwargs(**kwargs)"
   ]
  },
  {
   "cell_type": "markdown",
   "id": "db96052d",
   "metadata": {},
   "source": [
    "args和kwargs组合起来可以传入任意的参数，这在参数未知的情况下是很有效的，同时加强了函数的可拓展性。"
   ]
  },
  {
   "cell_type": "code",
   "execution_count": null,
   "id": "0e9a1714",
   "metadata": {},
   "outputs": [],
   "source": []
  }
 ],
 "metadata": {
  "kernelspec": {
   "display_name": "Python 3",
   "language": "python",
   "name": "python3"
  },
  "language_info": {
   "codemirror_mode": {
    "name": "ipython",
    "version": 3
   },
   "file_extension": ".py",
   "mimetype": "text/x-python",
   "name": "python",
   "nbconvert_exporter": "python",
   "pygments_lexer": "ipython3",
   "version": "3.6.9"
  },
  "toc": {
   "base_numbering": 1,
   "nav_menu": {},
   "number_sections": true,
   "sideBar": true,
   "skip_h1_title": false,
   "title_cell": "Table of Contents",
   "title_sidebar": "Contents",
   "toc_cell": false,
   "toc_position": {},
   "toc_section_display": true,
   "toc_window_display": false
  }
 },
 "nbformat": 4,
 "nbformat_minor": 5
}
