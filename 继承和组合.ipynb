{
 "cells": [
  {
   "cell_type": "markdown",
   "id": "f05d3b3b",
   "metadata": {},
   "source": [
    "# 继承"
   ]
  },
  {
   "cell_type": "markdown",
   "id": "92975d55",
   "metadata": {},
   "source": [
    "1. 面向对象编程带来的好处之一是代码的重用，实现重用的方法之一是通过继承机制，继承完全可以理解成类之间父类型和子类型的关系\n",
    "\n",
    "2. 在面向对象程序设计中，当我们定义一个类时，可以从某个现有的类继承\n",
    "    - **<font color=red>定义的新class称为子类(派生类)(subclass)</font>**\n",
    "    - **<font color=red>被继承的class称为基类、父类或超类(Base class,Super class)</font>**\n",
    "\n",
    "3. 在考虑使用继承时，有一点需要注意，那就是两个类之间的关系应该是\"属于\"关系\n",
    "    - 一个类可以继承于任意一个基类，不过既然是继承，那么两个类肯定会有一定的关系\n",
    "    - 比如：子类要用到父类的方法或属性等等"
   ]
  },
  {
   "cell_type": "markdown",
   "id": "c09347b4",
   "metadata": {},
   "source": [
    "## 类继承的定义\n",
    "\n",
    "1. 继承的语法为：class 派生类名(基类名)\n",
    "2. 示例：\n",
    "\n",
    "class subClassName(BaseClassName):\n",
    "    <statement-1>\n",
    "    .\n",
    "    .\n",
    "    .\n",
    "    <statement-N>"
   ]
  },
  {
   "cell_type": "markdown",
   "id": "a30ee44b",
   "metadata": {},
   "source": [
    "注：\n",
    "\n",
    "1. 定义一个类的时候，若类无继承，那么类名后可以加圆括号(空圆括号)，也可以不加圆括号\n",
    "\n",
    "2. 定义一个类的时候，若类有继承，那么类名后必须加圆括号，且圆括号中写父类名字\n",
    "    - subClassName：子类名，与定义普通类一样\n",
    "    - BaseClassName：基类名，基类名写在括号里\n",
    "        - 基类是在子类定义的时候在元组之中指明的\n"
   ]
  },
  {
   "cell_type": "markdown",
   "id": "7bc0ae25",
   "metadata": {},
   "source": [
    "## 继承的优缺点"
   ]
  },
  {
   "cell_type": "markdown",
   "id": "35c5286e",
   "metadata": {},
   "source": [
    "1. 优点\n",
    "    ⑴代码共享，减少创建类的工作量，每个子类都拥有父类的方法和属性\n",
    "        ①子类可以继承父类的非私有属性和方法，使得子类可以减少代码的书写\n",
    "    ⑵子类可以通过重写父类的方法、属性等来增加子类的功能\n",
    "\n",
    "2. 缺点\n",
    "    ⑴增强了耦合性。当父类的常量、变量和方法被修改时，需要考虑子类的修改\n",
    "\n",
    "注：\n",
    "1. 下面两点是我自己理解的可能不对，仅做参考\n",
    "    - 一般情况下(未使用继承)：一个类A要调用另一个类B的类属性、实例属性、类方法，都需要先在类A中实例化类B，然后通过实例名来调用\n",
    "    - 如果使用了继承的话(类A继承于类B)：类A和类B就相当于是一个类，那么类A调用类B的类属性、实例属性、类方法都是在同一个类中进行的\n",
    "        - 即：在一个类类中调用自己的类属性、实例属性、类方法，这样就不需要进行实例化等操作了，就比较方便了\n"
   ]
  },
  {
   "cell_type": "markdown",
   "id": "e6b75e18",
   "metadata": {},
   "source": [
    "## Python继承的使用"
   ]
  },
  {
   "cell_type": "markdown",
   "id": "b2ff9318",
   "metadata": {},
   "source": [
    "### 子类调用父类的属性、方法"
   ]
  },
  {
   "cell_type": "markdown",
   "id": "414ed68e",
   "metadata": {},
   "source": [
    "1. 前面说过：类A继承于类B后，类A和类B就相当于是一个类，那么类A调用类B的属性、方法等都是在同一个类中进行的\n",
    "    - 也就是：**<font color=red>子类可以继承父类的非私有属性和非私有方法</font>**\n",
    "\n",
    "2. 因此子类在类中调用父类的方法、属性时，需要带上self参数或父类名\n",
    "    - 就跟调用自己类的属性和方法是一样的\n",
    "3. **<font color=red>子类不仅可以继承父类的方法、属性还可以拥有自己的方法、属性**</font>\n",
    "    - 子类会继承基类的类属性、实例属性、类方法等(拥有父类的方法和属性)\n",
    "    - 同时也可以定义属于自己的方法或属性\n"
   ]
  },
  {
   "cell_type": "code",
   "execution_count": 3,
   "id": "d1ca3dea",
   "metadata": {},
   "outputs": [
    {
     "name": "stdout",
     "output_type": "stream",
     "text": [
      "类外通过子类调用父类方法: Animal is running\n",
      "mouse\n",
      "类中调用父类中的类属性： mouse\n",
      "类中调用子类自己的类属性： china\n",
      "类中调用父类中的方法1： Animal is running\n",
      "类中调用父类中的方法2： Animal is running\n"
     ]
    }
   ],
   "source": [
    "# 例1：子类调用父类的非私有属性和方法\n",
    "\n",
    "class Animal:  # 定义一个父类\n",
    "    name = \"mouse\"\n",
    " \n",
    "    def run(self):\n",
    "        return \"Animal is running\"\n",
    " \n",
    "# 定义一个Cat子类并继承Animal类\n",
    "class Cat(Animal):\n",
    "    # 定义子类自己的属性\n",
    "    country = \"china\"\n",
    "    # 定义子类自己的方法\n",
    "    def Name(self):\n",
    "        # 子类中调用父类的类属性\n",
    "        print(\"类中调用父类中的类属性：\", Animal.name)\n",
    "        print(\"类中调用子类自己的类属性：\", Cat.country)\n",
    " \n",
    "    # 定义子类自己的方法\n",
    "    def func(self):\n",
    "        # 子类中调用父类方法\n",
    "        print(\"类中调用父类中的方法1：\", Animal.run(self))\n",
    "        # 也可以这么写\n",
    "        print(\"类中调用父类中的方法2：\", self.run())\n",
    " \n",
    "cat = Cat()\n",
    "# 类外：通过子类调用父类方法\n",
    "print(\"类外通过子类调用父类方法:\", cat.run())\n",
    "print(cat.name)\n",
    "# 类外：子类调用自己的方法\n",
    "cat.Name()\n",
    "cat.func()"
   ]
  },
  {
   "cell_type": "markdown",
   "id": "9a8ad0ac",
   "metadata": {},
   "source": [
    "注：\n",
    "\n",
    "1. 子类可以获得父类的全部非私有的功能：在子类中可以调用父类中任意的非私有方法、属性\n",
    "    - **<font color=red>子类中调用父类方法：self.父类方法名()名或父类名.父类方法名(self)</font>**\n",
    "    - **<font color=red>子类中调用父类类属性：父类名.父类类属性名</font>**\n",
    "    - **<font color=red>类外通过子类实例名来调用父类方法：子类实例名.父类方法名()</font>**\n",
    "    - 总的来说就是：子类继承父类后，两者就相当于是同一个类\n",
    "\n",
    "2. Python中的继承：**<font color=red>一个类可以被多个不同的类继承，一个类也可以继承多个类</font>**\n",
    "\n",
    "3. 在Dog类中，子类不仅执行了父类的方法，又执行了自己的方法\n",
    "\n",
    "4. 子类可以获得父类的全部非私有的功能：在子类中可以调用父类中任意的非私有方法、非私有属性\n",
    "    - 注意：子类只能调用父类的非私有属性或非私有方法\n",
    "    - **<font color=red>子类不能继承父类中的私有方法、私有属性，也就是不能调用父类的私有方法、私有属性</font>**\n"
   ]
  },
  {
   "cell_type": "code",
   "execution_count": 4,
   "id": "4055c432",
   "metadata": {},
   "outputs": [
    {
     "ename": "AttributeError",
     "evalue": "'Dog' object has no attribute '__run'",
     "output_type": "error",
     "traceback": [
      "\u001b[0;31m---------------------------------------------------------------------------\u001b[0m",
      "\u001b[0;31mAttributeError\u001b[0m                            Traceback (most recent call last)",
      "\u001b[0;32m<ipython-input-4-06d8e85f362b>\u001b[0m in \u001b[0;36m<module>\u001b[0;34m\u001b[0m\n\u001b[1;32m     10\u001b[0m \u001b[0;34m\u001b[0m\u001b[0m\n\u001b[1;32m     11\u001b[0m \u001b[0mdog\u001b[0m \u001b[0;34m=\u001b[0m \u001b[0mDog\u001b[0m\u001b[0;34m(\u001b[0m\u001b[0;34m)\u001b[0m\u001b[0;34m\u001b[0m\u001b[0;34m\u001b[0m\u001b[0m\n\u001b[0;32m---> 12\u001b[0;31m \u001b[0mdog\u001b[0m\u001b[0;34m.\u001b[0m\u001b[0m__run\u001b[0m\u001b[0;34m(\u001b[0m\u001b[0;34m)\u001b[0m\u001b[0;34m\u001b[0m\u001b[0;34m\u001b[0m\u001b[0m\n\u001b[0m\u001b[1;32m     13\u001b[0m \u001b[0;34m\u001b[0m\u001b[0m\n\u001b[1;32m     14\u001b[0m \u001b[0;31m# AttributeError: 'Dog' object has no attribute '__run'\u001b[0m\u001b[0;34m\u001b[0m\u001b[0;34m\u001b[0m\u001b[0;34m\u001b[0m\u001b[0m\n",
      "\u001b[0;31mAttributeError\u001b[0m: 'Dog' object has no attribute '__run'"
     ]
    }
   ],
   "source": [
    "# 例2：\n",
    "class Animal:\n",
    "    # 父类中存在私有方法\n",
    "    def __run(self):\n",
    "        print(\"Animal is running\")\n",
    " \n",
    "class Dog(Animal):\n",
    "    def eat(self):\n",
    "        print(\"Dog is eating\")\n",
    " \n",
    "dog = Dog()\n",
    "dog.__run()\n",
    " \n",
    "# AttributeError: 'Dog' object has no attribute '__run'"
   ]
  },
  {
   "cell_type": "markdown",
   "id": "f6acbf4d",
   "metadata": {},
   "source": [
    "注：\n",
    "1. 子类不能调用父类的私有方法：子类虽然继承了父类但是在调用父类的私有方法时，相当于从外部调用类中的方法，因此调用不成功\n",
    "    - 不管是在子类类中还是子类类外都不能调用父类的私有方法\n",
    "    - 同理子类也不能调用父类的私有属性(类属性和实例属性)\n",
    "\n"
   ]
  },
  {
   "cell_type": "markdown",
   "id": "0dc2eaed",
   "metadata": {},
   "source": [
    "### 子类重写父类的属性、方法"
   ]
  },
  {
   "cell_type": "markdown",
   "id": "acfc49e2",
   "metadata": {},
   "source": [
    "1. **<font color=red>如果子类中的属性名或方法名与父类中的重复了，那么子类中的属性或方法会覆盖掉父类中</font>**\n",
    "    - 因此可以使用这种特性来在子类中重写父类方法或属性\n",
    "\n",
    "2. 如果我们对父类的属性、方法需要修改，那么可以在子类中重构该属性、方法\n",
    "    - 如果子类中定义与父类同名的方法或属性，则会自动覆盖父类对应的方法或属性\n",
    "\n",
    "3. **<font color=red>属性或方法的查找顺序：在自己类中查找(子类)->在父类中查找->在父类的父类中查找->...->Object**</font>\n",
    "    - 先在本类中查找调用的方法、属性，找不到才去基类中找\n",
    "    - 继承可以一级一级的继承下来，就好像从爷爷到爸爸再到儿子的关系，所有类最终都可以追溯到根类object\n"
   ]
  },
  {
   "cell_type": "code",
   "execution_count": 6,
   "id": "3a99acce",
   "metadata": {},
   "outputs": [
    {
     "name": "stdout",
     "output_type": "stream",
     "text": [
      "Dog is eating:apple\n",
      "origin\n"
     ]
    }
   ],
   "source": [
    "# 例3：通过子类调用\n",
    "class Animal:\n",
    "    name = \"apple\"\n",
    "    def run(self):\n",
    "        print(\"Animal is running\")\n",
    " \n",
    "class Dog(Animal):\n",
    "    name = \"origin\"\n",
    " \n",
    "    # 该方法会覆盖父类中的run()方法\n",
    "    def run(self):\n",
    "        print(\"Dog is eating:%s\" % Animal.name) # 类中调用父类类属性\n",
    " \n",
    "dog = Dog()\n",
    "dog.run()\n",
    "# 类外调用父类类属性\n",
    "print(dog.name)"
   ]
  },
  {
   "cell_type": "markdown",
   "id": "a819443c",
   "metadata": {},
   "source": [
    "注：\n",
    "1. 子类和父类有相同名称的属性或方法时：通过子类来调用时子类中的会覆盖父类中的属性或方法\n",
    "\n",
    "2. 如果是在子类类中调用父类的类属性，那么是不会覆盖父类的类属性的，毕竟在类中是通过\"父类名.属性名\"来调用的\n",
    "    - 指明了是哪一个类，因此不会覆盖掉父类的类属性\n",
    "\n",
    "3. 如果是在类外，并通过子类来调用父类的类属性，那么就会覆盖父类中的类属性\n",
    "\n",
    "4. 另外先说下：感觉覆盖父类的属性，主要是针对于类属性的\n",
    "    - 因为如果父类有实例属性的话，子类必须先继承父类的实例属性，就不会存在覆盖的问题了\n",
    "    - 也就是子类的实例属性必须包含父类的实例属性\n",
    "\n",
    "5. 如果是直接通过父类来调用父类的属性和方法的话，也就不会存在覆盖的问题了\n"
   ]
  },
  {
   "cell_type": "code",
   "execution_count": 7,
   "id": "cb123fb3",
   "metadata": {},
   "outputs": [
    {
     "name": "stdout",
     "output_type": "stream",
     "text": [
      "Animal is running\n",
      "apple\n"
     ]
    }
   ],
   "source": [
    "# 例4：直接通过父类调用\n",
    "class Animal:\n",
    "    name = \"apple\"\n",
    "    def run(self):\n",
    "        print(\"Animal is running\")\n",
    " \n",
    "class Dog(Animal):\n",
    "    name = \"origin\"\n",
    " \n",
    "    # 该方法会覆盖父类中的run()方法\n",
    "    def run(self):\n",
    "        print(\"Dog is eating:%s\" % Animal.name) # 类中调用父类类属性\n",
    " \n",
    "animal = Animal()\n",
    "animal.run()\n",
    "# 类外调用父类类属性\n",
    "print(animal.name)"
   ]
  },
  {
   "cell_type": "code",
   "execution_count": 9,
   "id": "65e16c8e",
   "metadata": {},
   "outputs": [
    {
     "name": "stdout",
     "output_type": "stream",
     "text": [
      "Animal is running\n",
      "Dog is eating\n",
      "Animal is running\n",
      "父类中的类属性为： mouse\n",
      "Animal is running\n",
      "子类中调用父类方法： None\n"
     ]
    }
   ],
   "source": [
    "# 例5：\n",
    "class Animal:      #定义一个父类\n",
    "    name = \"mouse\"\n",
    "    def run(self):\n",
    "        print(\"Animal is running\")\n",
    " \n",
    "class Dog(Animal):                #定义一个Dog子类\n",
    "    def eat(self):\n",
    "        print(\"Dog is eating\")\n",
    " \n",
    "class Cat(Animal):                #定义一个Cat子类\n",
    "    def Name(self):\n",
    "        print(\"父类中的类属性为：\",Animal.name)  #调用父类中的类属性\n",
    " \n",
    "    def func(self):\n",
    "        print(\"子类中调用父类方法：\", Animal.run(self)) #子类中调用父类方法\n",
    "        #print(\"子类中调用父类方法：\",self.run())\n",
    " \n",
    "dog = Dog()\n",
    "dog.run ()                        #子类调用父类的方法\n",
    "dog.eat()                         #子类调用自己的方法\n",
    " \n",
    "cat = Cat()\n",
    "cat.run()                         #子类调用父类的方法\n",
    "cat.Name()\n",
    "cat.func()"
   ]
  },
  {
   "cell_type": "markdown",
   "id": "191e9f9e",
   "metadata": {},
   "source": [
    "### **<font color=red>构造函数的继承</font>**　"
   ]
  },
  {
   "cell_type": "markdown",
   "id": "1c0bc6fa",
   "metadata": {},
   "source": [
    "1. 如果我们要给实例属性传参(父类中有构造函数__init__)，就要使用到构造函数，那么构造函数该如何继承，同时子类中又如何定义自己的实例属性？\n",
    "\n",
    "2. 在继承中，基类的构造方法(__init__)不会被自动调用，需要在子类的构造方法中专门调用\n",
    "\n",
    "3. 继承父类的构造方法(调用父类的构造方法)：\n",
    "    - 经典类的写法：**<font color=red>父类名称.\\__init__(self,参数1，参数2，...)</font>**\n",
    "    - 新式类的写法：**<font color=red>super().\\__init__(参数1，参数2，....)</font>**"
   ]
  },
  {
   "cell_type": "code",
   "execution_count": 10,
   "id": "a559affd",
   "metadata": {},
   "outputs": [
    {
     "name": "stdout",
     "output_type": "stream",
     "text": [
      "A的构造方法\n"
     ]
    },
    {
     "ename": "TypeError",
     "evalue": "__init__() missing 1 required positional argument: 'name'",
     "output_type": "error",
     "traceback": [
      "\u001b[0;31m---------------------------------------------------------------------------\u001b[0m",
      "\u001b[0;31mTypeError\u001b[0m                                 Traceback (most recent call last)",
      "\u001b[0;32m<ipython-input-10-18d703dc4022>\u001b[0m in \u001b[0;36m<module>\u001b[0;34m\u001b[0m\n\u001b[1;32m     10\u001b[0m \u001b[0mb1\u001b[0m \u001b[0;34m=\u001b[0m \u001b[0mB\u001b[0m\u001b[0;34m(\u001b[0m\u001b[0;34m\"名字\"\u001b[0m\u001b[0;34m)\u001b[0m\u001b[0;34m\u001b[0m\u001b[0;34m\u001b[0m\u001b[0m\n\u001b[1;32m     11\u001b[0m \u001b[0;31m# 如果没有传入父类的实例属性，则会报错\u001b[0m\u001b[0;34m\u001b[0m\u001b[0;34m\u001b[0m\u001b[0;34m\u001b[0m\u001b[0m\n\u001b[0;32m---> 12\u001b[0;31m \u001b[0mb2\u001b[0m \u001b[0;34m=\u001b[0m \u001b[0mB\u001b[0m\u001b[0;34m(\u001b[0m\u001b[0;34m)\u001b[0m\u001b[0;34m\u001b[0m\u001b[0;34m\u001b[0m\u001b[0m\n\u001b[0m",
      "\u001b[0;31mTypeError\u001b[0m: __init__() missing 1 required positional argument: 'name'"
     ]
    }
   ],
   "source": [
    "# 例6：子类无构造方法，父类有构造方法\n",
    "class A():\n",
    "    def __init__(self, name):\n",
    "        print(\"A的构造方法\")\n",
    " \n",
    "class B(A):\n",
    "    pass\n",
    " \n",
    "# 父类有构造方法、子类无构造方法：在实例化子类时必须传入父类的实例属性\n",
    "b1 = B(\"名字\")\n",
    "# 如果没有传入父类的实例属性，则会报错\n",
    "b2 = B()"
   ]
  },
  {
   "cell_type": "code",
   "execution_count": 11,
   "id": "bb5dcd9d",
   "metadata": {},
   "outputs": [
    {
     "name": "stdout",
     "output_type": "stream",
     "text": [
      "my name is : nn\n",
      "名字是： mouse\n"
     ]
    }
   ],
   "source": [
    "# 例6_1：子类无构造方法，父类有构造方法\n",
    "class Animal:\n",
    "    def __init__(self,name):\n",
    "        self.name = name       #self代表的是类的实例，代表当前对象的地址，而self.name则指向类\n",
    " \n",
    "    def run(self):\n",
    "        print(\"my name is :\",self.name)\n",
    " \n",
    "    def speak(self,name):\n",
    "        print(\"名字是：\",name)\n",
    " \n",
    "class Dog(Animal):   #子类中没有定义构造函数\n",
    "    def eat(self):\n",
    "        print(\"Dog is eating\")\n",
    " \n",
    "dog = Dog(\"nn\")     #调用父类的方法时，调用父类的构造方法\n",
    "dog.run ()\n",
    "dog.speak(\"mouse\")  #父类的speak()方法定义了自己的参数，因此在调用方法时需要传入对应的实参"
   ]
  },
  {
   "cell_type": "markdown",
   "id": "54e21fa9",
   "metadata": {},
   "source": [
    "注：\n",
    "1. 这个例子中父类中定义了构造函数(\\__init__方法)，子类中没有定义构造方法。其子类在实例化时就需要传入对应的实例变量\n",
    "    - **<font color=red>如果子类没有构造方法，在单继承中则会直接调用父类的构造方法，那么在实用化子类时需要传入其父类的实例属性</font>**\n",
    "    - 如果子类有多个基类并且子类没有自己的构造函数，则会按顺序查找父类，找到第一个有构造函数的基类并执行(继承顺序)\n",
    "\n",
    "2. 不管是子类还是父类，只要方法中定义了形参，那么在调用方法时都是需要传入方法的实参。这个跟一般类是一样的\n"
   ]
  },
  {
   "cell_type": "code",
   "execution_count": 12,
   "id": "4e0ba33c",
   "metadata": {},
   "outputs": [
    {
     "name": "stdout",
     "output_type": "stream",
     "text": [
      "my name is : mouse\n"
     ]
    }
   ],
   "source": [
    "# 例7：父类无构造方法，子类有构造方法\n",
    "class Dog():  # 父类中无构造方法\n",
    "    def eat(self):\n",
    "        print(\"Dog is eating\")\n",
    " \n",
    "class Animal(Dog):\n",
    "    # 子类中有构造方法：直接调用子类自己的构造方法\n",
    "    def __init__(self, name):\n",
    "        self.name = name\n",
    " \n",
    "    def run(self):\n",
    "        print(\"my name is :\", self.name)\n",
    " \n",
    "animal = Animal(\"mouse\")\n",
    "animal.run()"
   ]
  },
  {
   "cell_type": "code",
   "execution_count": 13,
   "id": "29b25e3a",
   "metadata": {},
   "outputs": [
    {
     "name": "stdout",
     "output_type": "stream",
     "text": [
      "我的位置： 1 1\n",
      "吃货的梦想就是天天吃\n"
     ]
    },
    {
     "ename": "AttributeError",
     "evalue": "'Shark' object has no attribute 'x'",
     "output_type": "error",
     "traceback": [
      "\u001b[0;31m---------------------------------------------------------------------------\u001b[0m",
      "\u001b[0;31mAttributeError\u001b[0m                            Traceback (most recent call last)",
      "\u001b[0;32m<ipython-input-13-2e58996e4d09>\u001b[0m in \u001b[0;36m<module>\u001b[0;34m\u001b[0m\n\u001b[1;32m     29\u001b[0m \u001b[0mshark\u001b[0m\u001b[0;34m.\u001b[0m\u001b[0meat\u001b[0m\u001b[0;34m(\u001b[0m\u001b[0;34m)\u001b[0m  \u001b[0;31m#子类调用子类方法\u001b[0m\u001b[0;34m\u001b[0m\u001b[0;34m\u001b[0m\u001b[0m\n\u001b[1;32m     30\u001b[0m \u001b[0;34m\u001b[0m\u001b[0m\n\u001b[0;32m---> 31\u001b[0;31m \u001b[0mshark\u001b[0m\u001b[0;34m.\u001b[0m\u001b[0mmove\u001b[0m\u001b[0;34m(\u001b[0m\u001b[0;34m)\u001b[0m  \u001b[0;31m#子类调用父类方法\u001b[0m\u001b[0;34m\u001b[0m\u001b[0;34m\u001b[0m\u001b[0m\n\u001b[0m",
      "\u001b[0;32m<ipython-input-13-2e58996e4d09>\u001b[0m in \u001b[0;36mmove\u001b[0;34m(self)\u001b[0m\n\u001b[1;32m      8\u001b[0m \u001b[0;34m\u001b[0m\u001b[0m\n\u001b[1;32m      9\u001b[0m     \u001b[0;32mdef\u001b[0m \u001b[0mmove\u001b[0m\u001b[0;34m(\u001b[0m\u001b[0mself\u001b[0m\u001b[0;34m)\u001b[0m\u001b[0;34m:\u001b[0m\u001b[0;34m\u001b[0m\u001b[0;34m\u001b[0m\u001b[0m\n\u001b[0;32m---> 10\u001b[0;31m         \u001b[0mself\u001b[0m\u001b[0;34m.\u001b[0m\u001b[0mx\u001b[0m \u001b[0;34m-=\u001b[0m \u001b[0;36m1\u001b[0m  \u001b[0;31m# 重写self.x变量\u001b[0m\u001b[0;34m\u001b[0m\u001b[0;34m\u001b[0m\u001b[0m\n\u001b[0m\u001b[1;32m     11\u001b[0m         \u001b[0mprint\u001b[0m\u001b[0;34m(\u001b[0m\u001b[0;34m\"我的位置：\"\u001b[0m\u001b[0;34m,\u001b[0m \u001b[0mself\u001b[0m\u001b[0;34m.\u001b[0m\u001b[0mx\u001b[0m\u001b[0;34m,\u001b[0m \u001b[0mself\u001b[0m\u001b[0;34m.\u001b[0m\u001b[0my\u001b[0m\u001b[0;34m)\u001b[0m\u001b[0;34m\u001b[0m\u001b[0;34m\u001b[0m\u001b[0m\n\u001b[1;32m     12\u001b[0m \u001b[0;34m\u001b[0m\u001b[0m\n",
      "\u001b[0;31mAttributeError\u001b[0m: 'Shark' object has no attribute 'x'"
     ]
    }
   ],
   "source": [
    "# **例8：子类、父类都有构造方法**\n",
    "import random\n",
    " \n",
    "class Fish:\n",
    "    def __init__(self):\n",
    "        self.x = random.randint(1, 10)  #直接给出了实例变量的值，因此不需要参数了\n",
    "        self.y = random.randint(1, 10)\n",
    " \n",
    "    def move(self):\n",
    "        self.x -= 1  # 重写self.x变量\n",
    "        print(\"我的位置：\", self.x, self.y)\n",
    " \n",
    "class Shark(Fish):\n",
    "    def __init__(self):\n",
    "        self.hungry = True\n",
    " \n",
    "    def eat(self):\n",
    "        if self.hungry == True:\n",
    "            print(\"吃货的梦想就是天天吃\")\n",
    "            self.hungry = False\n",
    "        else:\n",
    "            print(\"吃不下了\")\n",
    " \n",
    " \n",
    "fish = Fish()\n",
    "fish.move()  # 父类调用move()方法\n",
    " \n",
    "shark = Shark()\n",
    "shark.eat()  #子类调用子类方法\n",
    " \n",
    "shark.move()  #子类调用父类方法"
   ]
  },
  {
   "cell_type": "markdown",
   "id": "e55906c4",
   "metadata": {},
   "source": [
    "注：\n",
    "1. 子类的实例对象shark在调用父类的move()方法时，抛出了异常：Shark对象没有x属性\n",
    "    - 原因是：在Shark类中重写了__init__方法，且新的__init__方法中也没有初始化Shark的x,y值，因此其在调用move()方法时就报错了\n",
    "\n",
    "2. **<font color=red>如果子类有自己的构造方法，那么在实例化子类的时候就会执行子类的构造方法，不会执行基类的构造方法</font>**\n",
    "    - 这个例子中子类有构造方法，但是其构造方法中没有定义实例变量x和y，因此在执行时报错了\n",
    "    - 所以需要在继承父类时同时继承父类的构造方法\n",
    "\n",
    "3. 如果我们只是简单的在子类(Shark)中定义一个构造函数，其实就是在重构，这样子类就不能继承父类的属性了(实例属性)\n",
    "    - 所以我们在定义子类的构造函数时，**<font color=red>要先继承再构造</font>**，这样我们也能获取父类的实例属性了\n",
    "    - **<font color=red>在子类中定义\\__init__方法的时候需要先调用(手动继承)父类的\\__init__方法：调用未绑定的父类方法和使用super函数</font>**"
   ]
  },
  {
   "cell_type": "code",
   "execution_count": 14,
   "id": "1fb53b9d",
   "metadata": {},
   "outputs": [],
   "source": [
    "# 例9：调用未绑定的父类方法\n",
    "class Shark(Fish):\n",
    "    def __init__(self):\n",
    "        Fish.__init__(self)      #__init__后面跟的参数要与父类__init__后面的参数一致\n",
    "        self.hungry = True"
   ]
  },
  {
   "cell_type": "markdown",
   "id": "ca09930b",
   "metadata": {},
   "source": [
    "注：\n",
    "1. Fish.\\__init__(self)中的self并不是父类Fish的实例对象，而是子类Shark的实例对象。因此未绑定是指并不需要绑定父类的实例对象，使用子类的实例对象代替即可\n",
    "\n",
    "2. 使用此方法时，\\__init__后面跟的参数要与父类\\__init__后面的参数一致"
   ]
  },
  {
   "cell_type": "code",
   "execution_count": 15,
   "id": "46aff98e",
   "metadata": {},
   "outputs": [],
   "source": [
    "# 例10：使用super()函数:\n",
    "class Shark(Fish):\n",
    "    def __init__(self):\n",
    "        super().__init__()       #__init__后面跟的参数要与父类__init__后面的参数一致\n",
    "        self.hungry = True"
   ]
  },
  {
   "cell_type": "markdown",
   "id": "b97c31c5",
   "metadata": {},
   "source": [
    "注：\n",
    "1. 使用super()函数的优点在于不需要给出任何基类的名字，它会自动找出所有基类以及对应的方法"
   ]
  },
  {
   "cell_type": "code",
   "execution_count": 16,
   "id": "14962536",
   "metadata": {},
   "outputs": [
    {
     "name": "stdout",
     "output_type": "stream",
     "text": [
      "my name is Bob,my gender is Male,my score is 88\n"
     ]
    }
   ],
   "source": [
    "# 例11：\n",
    "class Person(object):\n",
    "    def __init__(self, name, gender):\n",
    "        self.name = name\n",
    "        self.gender = gender\n",
    " \n",
    " \n",
    "class Student(Person):\n",
    "    def __init__(self, name, gender, score):     #子类____init__的所有参数:父类的所有实例变量和子类自己的实例变量\n",
    "        Person.__init__(self, name, gender)      #父类__init__的所有参数，这句相当于继承父类的的构造函数\n",
    "        #super().__init__(name, gender)          #__init__后面跟的参数要与父类__init__后面的参数一致\n",
    "        self.score = score                       #子类自己的实例变量\n",
    " \n",
    "    def speak(self):\n",
    "        print(\"my name is %s,my gender is %s,my score is %s\" % (self.name, self.gender,self. score))\n",
    " \n",
    "s = Student('Bob', 'Male', 88)\n",
    "s.speak()"
   ]
  },
  {
   "cell_type": "code",
   "execution_count": 19,
   "id": "95a0f01a",
   "metadata": {},
   "outputs": [
    {
     "name": "stdout",
     "output_type": "stream",
     "text": [
      "品牌：奔驰,颜色：蓝色\n",
      "动力：Fuel\n"
     ]
    }
   ],
   "source": [
    "# 例12：\n",
    "class Car():\n",
    "    \"\"\"这是一个汽车类\"\"\"\n",
    "    def __init__(self,brand,color):\n",
    "        self.brand = brand\n",
    "        self.color = color\n",
    " \n",
    "    def run(self, s):\n",
    "        print(\"当前行驶速度：%s KM/S\" % s)\n",
    " \n",
    "    def print_car(self):\n",
    "        print(\"品牌：%s,颜色：%s\" % (self.brand, self.color))\n",
    " \n",
    " \n",
    "class OilCar(Car):\n",
    "    def __init__(self,car_power,brand,color):\n",
    "        super().__init__(brand,color)\n",
    "        self.car_power = car_power\n",
    " \n",
    "    \"\"\"这是燃油汽车类\"\"\"\n",
    "    def power(self):\n",
    "        print(\"我使用汽油作为动力\")\n",
    " \n",
    "    def print_car(self):\n",
    "        super().print_car() #重写一个普通类方法\n",
    "        print(\"动力：%s\" % self.car_power)\n",
    " \n",
    "olicar = OilCar(\"Fuel\",\"奔驰\",\"蓝色\")\n",
    "olicar.print_car()"
   ]
  },
  {
   "cell_type": "code",
   "execution_count": 20,
   "id": "8506c60d",
   "metadata": {},
   "outputs": [
    {
     "name": "stdout",
     "output_type": "stream",
     "text": [
      "mouse is speaking FUCK!!!\n"
     ]
    }
   ],
   "source": [
    "# 例13：存在构造方法是重写父类方法\n",
    "class Person(object):\n",
    " \n",
    "    def __init__(self, name, age):\n",
    "        self.name = name\n",
    "        self.age = age\n",
    "        self.weight = 'weight'\n",
    " \n",
    "    def talk(self):\n",
    "        print(\"person is talking....\")\n",
    " \n",
    " \n",
    "class Chinese(Person):\n",
    " \n",
    "    def __init__(self, name, age, language):\n",
    "        Person.__init__(self, name, age)\n",
    "        self.language = language\n",
    "        #print(self.name, self.age, self.weight, self.language)\n",
    " \n",
    "    def talk(self):  # 子类 重构方法\n",
    "        print('%s is speaking %s' % (self.name,self.language))\n",
    " \n",
    "    def walk(self):\n",
    "        print('is walking...')\n",
    " \n",
    " \n",
    "c = Chinese('mouse', 22, 'FUCK!!!')\n",
    "c.talk()"
   ]
  },
  {
   "cell_type": "markdown",
   "id": "c27b81eb",
   "metadata": {},
   "source": [
    "## 继承的好处"
   ]
  },
  {
   "cell_type": "markdown",
   "id": "c77236cb",
   "metadata": {},
   "source": [
    "1. 这部分是自己理解的，可能是错的\n",
    "\n",
    "2. 一般情况下，在一个类的类中或类外都可以调用这个类的类属性、实例属性、类方法\n",
    "\n",
    "3. 类中调用类属性、实例属性、类方法\n",
    "    - **类中调用类属性**：类名.类属性名\n",
    "    - **类中调用实例属性**：self.实例属性名\n",
    "    - **类中调用类方法**：self.类方法名(参数)或类名.方法名(self,参数)\n",
    "\n",
    "4. 类外调用类属性、实例属性、类方法(类外的话需要先实例化这个类)\n",
    "    - **类外调用类属性**：类名.类属性名或实例名.类属性名\n",
    "    - **类外调用实例属性**：实例名.实例属性名\n",
    "    - **类外调用类方法**：实例名.类方法名(参数)\n"
   ]
  },
  {
   "cell_type": "code",
   "execution_count": 21,
   "id": "47949516",
   "metadata": {},
   "outputs": [
    {
     "name": "stdout",
     "output_type": "stream",
     "text": [
      "当前行驶速度：20 KM/S\n",
      "调用其他类的类属性： 1000\n",
      "调用其他类的实例属性： 奔驰\n",
      "调用自己类的实例属性： Fuel\n",
      "调用自己类的实例属性： None\n",
      "当前行驶速度：444 KM/S\n",
      "调用其他类的类方法： None\n"
     ]
    }
   ],
   "source": [
    "# 例14：\n",
    "class Car():\n",
    "    \"\"\"这是一个汽车类\"\"\"\n",
    "    money = 1000\n",
    " \n",
    "    def __init__(self, brand, color):\n",
    "        self.brand = brand\n",
    "        self.color = color\n",
    " \n",
    "    def run(self, s):\n",
    "        print(\"当前行驶速度：%s KM/S\" % s)\n",
    " \n",
    "    def print_car(self):\n",
    "        print(\"品牌：%s,颜色：%s\" % (self.brand, self.color))\n",
    " \n",
    " \n",
    "class OilCar():\n",
    "    \"\"\"这是燃油汽车类\"\"\"\n",
    " \n",
    "    def __init__(self, car_power):\n",
    "        # 实例化一个类并将其实例名作为另一个类的实例变量，这样做的话，在整个类的所有方法中都可以直接调用这个实例\n",
    "        # 而不用A方法调用就需要实例化一次，B方法调用又要去实例化一次\n",
    "        # 这里主要是想说明下类的实例名和方法返回值都可以作为类的实例变量\n",
    "        self.car = Car(\"奔驰\", \"蓝色\")\n",
    "        self.run = self.car.run(20) # 将一个类方法的返回值作为另一个类的实例变量\n",
    "        self.car_power = car_power\n",
    " \n",
    "    def power(self):\n",
    "        print(\"调用其他类的类属性：\", self.car.money)     # 类外调用其他类的类属性：实例名.类属性名(self.car就是Car类的实例名)\n",
    "        print(\"调用其他类的实例属性：\", self.car.brand)    # 类外调用其他类的实例属性：实例名.实例属性名\n",
    "        print(\"调用自己类的实例属性：\", self.car_power)    # 类中调用自己类的实例属性：self.实例属性名\n",
    " \n",
    " \n",
    "    def Info(self):\n",
    "        print(\"调用自己类的实例属性：\", self.run)  #  类中调用自己类的实例属性：self.实例属性名\n",
    "        print(\"调用其他类的类方法：\", self.car.run(444))  # 类外调用其他类的类方法：实例名.类方法名(参数)\n",
    " \n",
    "olicar = OilCar(\"Fuel\") # 实例化一个类\n",
    "olicar.power()  # 类外调用类方法：实例名.方法名(参数)\n",
    "olicar.Info()   # 类外调用类方法：实例名.方法名(参数)"
   ]
  },
  {
   "cell_type": "markdown",
   "id": "7c45baa4",
   "metadata": {},
   "source": [
    "注：\n",
    "1. 可以看到，如果不适用继承的话，就这两个类就是两个完全不相干的两个类\n",
    "    - **一个类A要调用另一个类B的类属性、实例属性、类方法，都需要先实例化这个类B，然后通过实例名来调用**\n",
    "    - **如果使用的是继承的话，类A和类B就相当于是一个类，都是在类中进行的调用(在一个类类中调用自己的类属性、实例属性、类方法)**\n"
   ]
  },
  {
   "cell_type": "code",
   "execution_count": 22,
   "id": "3908c7bf",
   "metadata": {},
   "outputs": [
    {
     "name": "stdout",
     "output_type": "stream",
     "text": [
      "品牌：奔驰,颜色：蓝色\n",
      "子类中调用父类类属性： 1000\n",
      "子类中调用父类实例属性： 奔驰\n",
      "子类中调用子类实例属性： Fuel\n",
      "当前行驶速度：444 KM/S\n",
      "子类中调用父类方法： None\n"
     ]
    }
   ],
   "source": [
    "# 例15：\n",
    "class Car():\n",
    "    \"\"\"这是一个汽车类\"\"\"\n",
    "    money = 1000\n",
    "    def __init__(self, brand, color):\n",
    "        self.brand = brand\n",
    "        self.color = color\n",
    " \n",
    "    def run(self, s):\n",
    "        print(\"当前行驶速度：%s KM/S\" % s)\n",
    " \n",
    "    def print_car(self):\n",
    "        print(\"品牌：%s,颜色：%s\" % (self.brand, self.color))\n",
    " \n",
    " \n",
    "class OilCar(Car):\n",
    "    \"\"\"这是燃油汽车类\"\"\"\n",
    "    def __init__(self, car_power, brand, color):\n",
    "        super().__init__(brand, color)\n",
    "        self.car_power = car_power\n",
    " \n",
    "    def power(self):\n",
    "        #因为OilCar类是继承于Car类的，因此可以把两个类看成一个类\n",
    "        #即：OilCar类中就相当于是在Car类中\n",
    "        print(\"子类中调用父类类属性：\",Car.money)           #类中调用类属性：父类名.类属性名\n",
    "        print(\"子类中调用父类实例属性：\",self.brand)        #类中调用实例属性：self.实例属性名\n",
    "        print(\"子类中调用子类实例属性：\", self.car_power)   #类中调用类属性：self.实例属性名\n",
    " \n",
    "    def Info(self):\n",
    "        print(\"子类中调用父类方法：\",self.run(444))   #类中调用类方法：self.方法名(参数)\n",
    " \n",
    " \n",
    "olicar = OilCar(\"Fuel\", \"奔驰\", \"蓝色\")\n",
    "olicar.print_car()   #类外通过子类实例名调用父类方法：子类实例名.方法名(参数)\n",
    "olicar.power()       #子类实例名.方法名(参数)\n",
    "olicar.Info()        #子类实例名.方法名(参数)"
   ]
  },
  {
   "cell_type": "markdown",
   "id": "6382d08c",
   "metadata": {},
   "source": [
    "注：\n",
    "\n",
    "**<font color=red>类继承，就相当于是把子类和父类组合成一个类</font>**：在子类中调用父类的类属性、实例属性、类方法就相当于是在父类中调用父类的类属性、实例属性、类方法(调用方式是一样的)"
   ]
  },
  {
   "cell_type": "markdown",
   "id": "81defb0e",
   "metadata": {},
   "source": [
    "# 组合"
   ]
  },
  {
   "cell_type": "markdown",
   "id": "d1ce9486",
   "metadata": {},
   "source": [
    "1. 组合指的是，在一个类中以另外一个类的对象作为数据属性，称为类的组合。\n",
    "\n",
    "2. 作用是可以将两个本来不相关的类联系起来。一般是两个类之间有显著的不同，很多时候还要附属关系(有相同的属性也有不同的属性)。比如人和头，手机和电池等等\n",
    "\n",
    "3. **<font color=red>无纵向关系时用组合，有纵向关系时用继承</font>**\n",
    "\n",
    "4. 组合就是一个类中使用到另一个类，从而把几个类拼到一起。组合的功能也是为了减少重复代码。\n"
   ]
  },
  {
   "cell_type": "code",
   "execution_count": 23,
   "id": "77ea48f6",
   "metadata": {},
   "outputs": [],
   "source": [
    "class Turtle:\n",
    "    def __init__(self,x):\n",
    "        self.num = x\n",
    " \n",
    "class Fish:\n",
    "    def __init__(self,x):\n",
    "        self.num = x\n",
    " \n",
    "class Pool:\n",
    "    def __init__(self,x,y):\n",
    "        self.turtle = Turtle(x)\n",
    "        self.fish = Fish(y)\n",
    " \n",
    "    def number(self):\n",
    "        print(\"水池里总共%s只乌龟，共%s条鱼\" % (self.turtle.num,self.fish.num))"
   ]
  },
  {
   "cell_type": "code",
   "execution_count": 24,
   "id": "e1821067",
   "metadata": {},
   "outputs": [
    {
     "name": "stdout",
     "output_type": "stream",
     "text": [
      "alex\n",
      "alex is walking\n",
      "alex is teaching\n",
      "The birth is 1989-9-2\n",
      "The birth is 1995-2-8\n"
     ]
    }
   ],
   "source": [
    "class Date:\n",
    "    def __init__(self,year,mon,day):\n",
    "        self.year=year\n",
    "        self.mon=mon\n",
    "        self.day=day\n",
    " \n",
    "    def birth_info(self):\n",
    "        print(\"The birth is %s-%s-%s\"%(self.year,self.mon,self.day))\n",
    " \n",
    "class People:\n",
    "    def __init__(self,name,age,year,mon,day):\n",
    "        self.name=name\n",
    "        self.age=age\n",
    "        self.birth = Date(year,mon,day)    #这就是组合\n",
    " \n",
    "    def walk(self):\n",
    "        print(\"%s is walking\"%self.name)\n",
    " \n",
    "class Teacher(People):\n",
    "    def __init__(self,name,age,year,mon,day,course):\n",
    "        People.__init__(self,name,age,year,mon,day)\n",
    "        self.course=course\n",
    " \n",
    "    def teach(self):\n",
    "        print(\"%s is teaching\"%self.name)\n",
    " \n",
    "class Student(People):\n",
    "    def __init__(self,name,age,year,mon,day,group):\n",
    "        People.__init__(self,name,age,year,mon,day)\n",
    "        self.group=group\n",
    " \n",
    "    def study(self):\n",
    "        print(\"%s is studying\"%self.name)\n",
    "t1=Teacher(\"alex\",28,1989,9,2,\"python\")\n",
    "s1=Student(\"jack\",22,1995,2,8,\"group2\")\n",
    " \n",
    "print(t1.name)\n",
    " \n",
    "t1.walk()\n",
    "t1.teach()\n",
    " \n",
    "t1.birth.birth_info()\n",
    "s1.birth.birth_info()\n",
    " "
   ]
  },
  {
   "cell_type": "markdown",
   "id": "2c83f8eb",
   "metadata": {},
   "source": [
    "注：\n",
    "\n",
    "这个birth是子类Teacher从父类People继承过来的，而父类People的birth又是与Date这个类组合在一起的，所以，这个birth是一个对象。而在Date类下面有一个birth_info的技能，这样就可以通过调用Date下面的birth_info这个函数属性来知道老师t1的生日了。"
   ]
  },
  {
   "cell_type": "code",
   "execution_count": 27,
   "id": "3be7346d",
   "metadata": {},
   "outputs": [
    {
     "name": "stdout",
     "output_type": "stream",
     "text": [
      "Base_class is speak nn\n"
     ]
    }
   ],
   "source": [
    "class Base_class:\n",
    "    def __init__(self,name,age):\n",
    "        self.name = name\n",
    "        self.age = age\n",
    " \n",
    "    def speak(self,name):\n",
    "        print(\"Base_class is speak %s\" % name)\n",
    "if __name__ == \"__main__\":\n",
    "    base_class = Base_class(\"mm\",\"12\")\n",
    "    base_class.speak(\"nn\")"
   ]
  },
  {
   "cell_type": "code",
   "execution_count": 32,
   "id": "1f0aa043",
   "metadata": {},
   "outputs": [
    {
     "name": "stdout",
     "output_type": "stream",
     "text": [
      "mm talking a story\n",
      "Base_class is speak a story\n"
     ]
    }
   ],
   "source": [
    "class Subclass(Base_class):                  #调用其他模块中的类\n",
    "    def __init__(self,name,age,salary):\n",
    "        super().__init__(name,age)   #在类中调用父类的方法时，需要加上self参数\n",
    "        self.salary = salary\n",
    "    def talk(self,sth):\n",
    "        self.sth = sth\n",
    "        print(\"%s talking %s\" % (self.name,self.sth))\n",
    "        self.speak(self.sth)      #在类中调用父类的方法时，需要加上self参数\n",
    " \n",
    "if __name__ == \"__main__\":\n",
    "    s = Subclass(\"mm\",1,100)\n",
    "    s.talk(\"a story\")"
   ]
  },
  {
   "cell_type": "code",
   "execution_count": null,
   "id": "908fa000",
   "metadata": {},
   "outputs": [],
   "source": []
  }
 ],
 "metadata": {
  "kernelspec": {
   "display_name": "Python 3",
   "language": "python",
   "name": "python3"
  },
  "language_info": {
   "codemirror_mode": {
    "name": "ipython",
    "version": 3
   },
   "file_extension": ".py",
   "mimetype": "text/x-python",
   "name": "python",
   "nbconvert_exporter": "python",
   "pygments_lexer": "ipython3",
   "version": "3.6.9"
  },
  "toc": {
   "base_numbering": 1,
   "nav_menu": {},
   "number_sections": true,
   "sideBar": true,
   "skip_h1_title": false,
   "title_cell": "Table of Contents",
   "title_sidebar": "Contents",
   "toc_cell": false,
   "toc_position": {},
   "toc_section_display": true,
   "toc_window_display": false
  }
 },
 "nbformat": 4,
 "nbformat_minor": 5
}
