{
 "cells": [
  {
   "cell_type": "markdown",
   "metadata": {},
   "source": [
    "# 内嵌函数"
   ]
  },
  {
   "cell_type": "markdown",
   "metadata": {},
   "source": [
    "python是一种面向对象的编程语言，在python中一切皆对象，这样就使得变量所拥有的属性，函数也同样拥有这样我们就可以理解在函数内创建一个函数的行为是完全合法的。这种函数被叫做内嵌函数，这种函数只可以在外部函数的作用域内被正常调用，在外部函数的作用域之外调用会报错"
   ]
  },
  {
   "cell_type": "code",
   "execution_count": 1,
   "metadata": {},
   "outputs": [
    {
     "name": "stdout",
     "output_type": "stream",
     "text": [
      "<function Func.<locals>.Add at 0x7faa50e0e8c8>\n",
      "15\n"
     ]
    }
   ],
   "source": [
    "# 例1\n",
    "def Func():\n",
    "    def Add(data):\n",
    "        result = 0\n",
    "        for number in data:\n",
    "            result += number\n",
    "        return result\n",
    "    return Add\n",
    " \n",
    "func = Func()  # 返回的是一个函数(函数的内存地址)：可以把func理解成就是函数\"Add()\"\n",
    "print(func)\n",
    " \n",
    "result = func([1, 2, 3, 4, 5])\n",
    "print(result)"
   ]
  },
  {
   "cell_type": "markdown",
   "metadata": {},
   "source": [
    "注：\n",
    "1. 上面这个例子的大概流程是：调用Func()，由于其返回值是一个函数，因此把这个作为返回值的函数的内存地址返回(返回一个函数的内存地址)\n",
    "    - 因此，执行\"func = Func()\"时，func是一个函数地址。感觉可以把func理解成就是函数\"Add()\"：python中函数也是可以赋值给变量的\n",
    "    - 此时只是返回了一个函数的地址，并没有真正的执行这个函数Add()。而是在执行func()时才是真正的调用了Add()函数\n",
    "\n",
    "2. 函数后有圆括号时表示的是：调用、执行函数，返回函数执行结果\n",
    "    - 调用函数时如果函数需要传入参数，那么就需要在调用函数时并在圆括号中传入对应的参数值\n",
    "    - 带括号(此时必须传入需要的参数)，调用的是函数的return结果，需要等待函数执行完成的结果。**<font color=red>返回函数的执行结果</font>**\n",
    "\n",
    "3. 函数后无圆括号表示的是：调用的是这个函数本身 ，是整个函数体，是一个函数对象，不需等该函数执行完成\n",
    "    - 函数不加括号表示引用，可以理解成一个变量，指向函数代码所在的地址。**<font color=red>返回的数函数的内存地址</font>**"
   ]
  },
  {
   "cell_type": "code",
   "execution_count": 2,
   "metadata": {},
   "outputs": [
    {
     "ename": "NameError",
     "evalue": "name 'Add' is not defined",
     "traceback": [
      "\u001b[0;31m---------------------------------------------------------------------------\u001b[0m",
      "\u001b[0;31mNameError\u001b[0m                                 Traceback (most recent call last)",
      "\u001b[0;32m<ipython-input-2-3e5ea686922f>\u001b[0m in \u001b[0;36m<module>\u001b[0;34m\u001b[0m\n\u001b[1;32m      9\u001b[0m \u001b[0;34m\u001b[0m\u001b[0m\n\u001b[1;32m     10\u001b[0m \u001b[0;31m# 内层函数在外部函数的作用域之外调用会报错\u001b[0m\u001b[0;34m\u001b[0m\u001b[0;34m\u001b[0m\u001b[0;34m\u001b[0m\u001b[0m\n\u001b[0;32m---> 11\u001b[0;31m \u001b[0mresult\u001b[0m \u001b[0;34m=\u001b[0m \u001b[0mAdd\u001b[0m\u001b[0;34m(\u001b[0m\u001b[0;34m[\u001b[0m\u001b[0;36m1\u001b[0m\u001b[0;34m,\u001b[0m\u001b[0;36m2\u001b[0m\u001b[0;34m,\u001b[0m\u001b[0;36m3\u001b[0m\u001b[0;34m,\u001b[0m\u001b[0;36m4\u001b[0m\u001b[0;34m]\u001b[0m\u001b[0;34m)\u001b[0m\u001b[0;34m\u001b[0m\u001b[0;34m\u001b[0m\u001b[0m\n\u001b[0m",
      "\u001b[0;31mNameError\u001b[0m: name 'Add' is not defined"
     ],
     "output_type": "error"
    }
   ],
   "source": [
    "# 例1_1\n",
    "def Func():\n",
    "    def Add(data):\n",
    "        result = 0\n",
    "        for number in data:\n",
    "            result += number\n",
    "        return result\n",
    "    return Add\n",
    " \n",
    "# 内层函数在外部函数的作用域之外调用会报错\n",
    "result = Add([1,2,3,4])"
   ]
  },
  {
   "cell_type": "markdown",
   "metadata": {},
   "source": [
    "# 闭包函数"
   ]
  },
  {
   "cell_type": "markdown",
   "metadata": {},
   "source": [
    "1. 如果内部函数里引用了外部函数里定义的对象（甚至是外层之外，但不是全局变量），那么此时内部函数就被称为闭包函数\n",
    "\n",
    "2. 闭包函数所引用的外部定义的变量被叫做自由变量\n",
    "\n",
    "3. 闭包从语法上看非常简单，但是却有强大的作用。闭包可以将其自己的代码和作用域以及外部函数的作用结合在一起\n",
    "\n",
    "4. 闭包函数主要是满足两点：**<font color=red>函数内部定义的函数；引用了外部变量但非全局变量</font>**\n"
   ]
  },
  {
   "cell_type": "code",
   "execution_count": 3,
   "metadata": {},
   "outputs": [
    {
     "name": "stdout",
     "output_type": "stream",
     "text": [
      "<function Func.<locals>.Add at 0x7faa50dbc378>\n",
      "15\n"
     ]
    }
   ],
   "source": [
    "# 例2\n",
    "def Func(data):\n",
    "    def Add():\n",
    "        result = 0\n",
    "        for number in data: #引用外层函数的变量\n",
    "            result += number\n",
    "        return result\n",
    "    return Add\n",
    " \n",
    " \n",
    " \n",
    "func = Func([1, 2, 3, 4, 5])\n",
    "print(func)\n",
    " \n",
    "result = func()\n",
    "print(result)"
   ]
  },
  {
   "cell_type": "code",
   "execution_count": 4,
   "metadata": {},
   "outputs": [
    {
     "name": "stdout",
     "output_type": "stream",
     "text": [
      "<function count.<locals>.sum at 0x7faa50dbc730>\n",
      "2\n"
     ]
    }
   ],
   "source": [
    "# 例2_1\n",
    "def count():\n",
    "    a = 1\n",
    "    b = 1\n",
    "    def sum():\n",
    "        c = 1\n",
    "        return a + c  # 引用外函数的变量：a - 自由变量\n",
    "    return sum\n",
    " \n",
    "#调用外函数：返回值为内函数的地址\n",
    "result = count()\n",
    "print(result)\n",
    "#调用内函数\n",
    "print(result())"
   ]
  },
  {
   "cell_type": "markdown",
   "metadata": {},
   "source": [
    "# python装饰器"
   ]
  },
  {
   "cell_type": "markdown",
   "metadata": {},
   "source": [
    "1. 有了闭包函数的概念，我们再去理解装饰器会相对容易一些\n",
    "\n",
    "2. python装饰器本质上就是一个函数，它可以让其他函数在不需要做任何代码变动的前提下增加额外的功能，装饰器的返回值也是一个函数对象(函数的指针)\n",
    "\n",
    "3. **<font color=red>装饰器函数的外部函数传入要装饰的函数名字，返回经过修饰后函数的名字；</font>**内层函数（闭包）负责修饰被修饰函数\n",
    "\n",
    "4. 从上面这段描述中我们需要记住装饰器的几点属性，以便后面能更好的理解：\n",
    "    - **实质：** 是一个函数\n",
    "    - **参数：** 是要装饰的函数名（并非函数调用）\n",
    "    - **返回：** 是装饰完的函数名（也非函数调用）\n",
    "    - **作用：** 为已经存在的对象添加额外的功能\n",
    "    - **特点：** 不需要对对象做任何的代码上的变动"
   ]
  },
  {
   "cell_type": "code",
   "execution_count": 5,
   "metadata": {},
   "outputs": [
    {
     "name": "stdout",
     "output_type": "stream",
     "text": [
      "---装饰器内：在被装饰的函数执行之前执行的代码---\n",
      "---原函数'test1'内执行的代码---\n",
      "---装饰器内：在被装饰的函数执行之后执行的代码---\n",
      "---装饰器内：在被装饰的函数执行之前执行的代码---\n",
      "---原函数'test2'内执行的代码---\n",
      "---装饰器内：在被装饰的函数执行之后执行的代码---\n"
     ]
    }
   ],
   "source": [
    "# 例3\n",
    "def set_func(func):  #func表示传入到装饰器中的被装饰函数\n",
    "    def call_func():\n",
    "        print(\"---装饰器内：在被装饰的函数执行之前执行的代码---\")\n",
    "        func() #执行、调用被装饰函数\n",
    "        print(\"---装饰器内：在被装饰的函数执行之后执行的代码---\")\n",
    "    return call_func\n",
    " \n",
    "@set_func\n",
    "def test1():\n",
    "    print(\"---原函数'test1'内执行的代码---\")\n",
    " \n",
    "@set_func\n",
    "def test2():\n",
    "    print(\"---原函数'test2'内执行的代码---\")\n",
    " \n",
    "test1()\n",
    "test2()"
   ]
  },
  {
   "cell_type": "markdown",
   "metadata": {},
   "source": [
    "注：\n",
    "1. 上面代码中\n",
    "    - **函数set_func()：** 就是我们定义的装饰器(实际上是一个闭包函数)\n",
    "    - **函数test1()和test()2：** 就是被装饰的函数\n",
    "    - 可以看到：在不修改原函数(被装饰的函数：test1和test2)任何代码的情况下，在经过装饰器装饰后就都多出了两个功能(这里以打印字符串代替)\n",
    "\n",
    "2. **\"@set_func\"：** 表示调用装饰，语法为**<font color=red>\"@装饰器函数名字\"</font>**\n",
    "    - @set_func这个语法相当于 执行 func = set_func(test1)\n",
    "\n",
    "3. 装饰器set_func()外层函数中：\n",
    "    - **接收一个必填参数func：** 其表示被装饰的函数，也就是这里的test1和test2\n",
    "    - 返回值是内层函数。也就是这里的call_func函数，其实就相当于闭包函数，内层函数起到装饰给定函数的作用\n",
    "\n",
    "4. 装饰器set_func()内层函数中：\n",
    "    - 先是打印了一个字符串：也可以再将其理解为其他业务代码\n",
    "    - 然后调用外层函数传入的参数：也就是调用被装饰的函数。注意这里是调用，所以加了圆括号\n",
    "    - 最后打印了一个字符串：也可以再将其理解为其他业务代码\n",
    "\n",
    "5. 所以，**整个被装饰函数和装饰函数的执行顺序**可以根据打印结果来看：**<font color=red>都是先执行装饰器代码</font>**\n",
    "    - 调用被装饰函数，比如\"test1()\"时，发现其有装饰器\n",
    "    - 因此将test1函数整体(函数引用)作为参数传递给装饰器外层函数\n",
    "    - 外层函数返回值为内层函数，因此继续执行内层函数\n",
    "    - 内层函数中由上到下执行，先执行第一个打印字符串，然后调用被装饰的函数，最后打印最后一个字符串\n",
    "    - 最后终端代码执行完成\n",
    "\n",
    "6. 总结：\n",
    "    - **<font color=red>装饰器是通过闭包的方式实现的，外函数接收一个函数作为外函数的临时变量，然后在内函数中执行这个函数</font>**\n",
    "    - 使用装饰器来装饰函数时，在被装饰的函数的前一行，使用@装饰器函数名的形式来装饰，则函数本身的功能正常实现，装饰器中添加的功能也实现了"
   ]
  },
  {
   "cell_type": "code",
   "execution_count": 6,
   "metadata": {},
   "outputs": [
    {
     "name": "stdout",
     "output_type": "stream",
     "text": [
      "---装饰器内：在被装饰的函数执行之前执行的代码---\n",
      "---原函数'test1'内执行的代码---\n",
      "---装饰器内：在被装饰的函数执行之后执行的代码---\n"
     ]
    }
   ],
   "source": [
    "# 例3_1\n",
    "#上面代码就相当于\n",
    "def set_func(func):\n",
    "    def call_func():\n",
    "        print(\"---装饰器内：在被装饰的函数执行之前执行的代码---\")\n",
    "        func()\n",
    "        print(\"---装饰器内：在被装饰的函数执行之后执行的代码---\")\n",
    "    return call_func\n",
    " \n",
    "def test1():\n",
    "    print(\"---原函数'test1'内执行的代码---\")\n",
    " \n",
    "func = set_func(test1)\n",
    "func()"
   ]
  },
  {
   "cell_type": "code",
   "execution_count": 7,
   "metadata": {},
   "outputs": [
    {
     "name": "stdout",
     "output_type": "stream",
     "text": [
      "函数执行时间为： 0.8008561134338379\n"
     ]
    }
   ],
   "source": [
    "# 例4：计算一段代码的运行时间\n",
    "import time\n",
    " \n",
    "def decorator(func):\n",
    "    def wrapper():\n",
    "        start_time = time.time()\n",
    "        # 在装饰器内调用原函数(被装饰的函数)\n",
    "        func()\n",
    "        end_time = time.time()\n",
    "        print(\"函数执行时间为：\",end_time - start_time)\n",
    "    return wrapper\n",
    " \n",
    "@decorator\n",
    "def func():\n",
    "    time.sleep(0.8)\n",
    " \n",
    "func()"
   ]
  },
  {
   "cell_type": "markdown",
   "metadata": {},
   "source": [
    "注：\n",
    "1. **<font color=red>一个函数存在装饰器时，肯定先执行的是装饰器代码</font>**\n",
    "    - 被装饰的函数什么时候被执行，就需要看装饰器内层函数中什么时候调用被装饰的函数了"
   ]
  },
  {
   "cell_type": "markdown",
   "metadata": {},
   "source": [
    "## 装饰器中的返回值"
   ]
  },
  {
   "cell_type": "markdown",
   "metadata": {},
   "source": [
    "前面几个例子中，我们都没有用到返回值(return)，那么如果原函数(被装饰的函数)存在返回值时该怎么写呢"
   ]
  },
  {
   "cell_type": "code",
   "execution_count": 8,
   "metadata": {},
   "outputs": [
    {
     "name": "stdout",
     "output_type": "stream",
     "text": [
      "函数执行时间为： 0.8008151054382324\n",
      "None\n"
     ]
    }
   ],
   "source": [
    "# 例5\n",
    "import time\n",
    " \n",
    "def decorator(func):\n",
    "    def wrapper():\n",
    "        start_time = time.time()\n",
    "        # 在装饰器内调用原函数(被装饰的函数)\n",
    "        func()\n",
    "        end_time = time.time()\n",
    "        print(\"函数执行时间为：\",end_time - start_time)\n",
    "    return wrapper\n",
    " \n",
    "@decorator\n",
    "def func():\n",
    "    count = 1\n",
    "    time.sleep(0.8)\n",
    "    # 被装饰函数存在返回值\n",
    "    return count\n",
    " \n",
    "# 将其返回值赋值给一个变量\n",
    "count = func()\n",
    "# 打印返回值\n",
    "print(count)"
   ]
  },
  {
   "cell_type": "markdown",
   "metadata": {},
   "source": [
    "注：从上面例子可以看出\n",
    "1. 被装饰的函数是有返回值的，但是最后返回的却是None。这是为什么呢\n",
    "2. 因为：\n",
    "    - 函数存在装饰器时，先执行的是装饰器\n",
    "    - **<font color=red>原函数存在装饰器时，是将被装饰函数的引用作为参数传递给装饰器。此时被装饰函数都还没有执行，肯定不存在返回值了</font>**"
   ]
  },
  {
   "cell_type": "code",
   "execution_count": 9,
   "metadata": {},
   "outputs": [
    {
     "name": "stdout",
     "output_type": "stream",
     "text": [
      "函数执行时间为： 0.8008143901824951\n",
      "11111\n"
     ]
    }
   ],
   "source": [
    "# 例5_1\n",
    "import time\n",
    "def decorator(func):\n",
    "    def wrapper():\n",
    "        start_time = time.time()\n",
    "        # 在装饰器内调用原函数(被装饰的函数),并将其返回值赋值给一个变量\n",
    "        count = func()\n",
    "        end_time = time.time()\n",
    "        print(\"函数执行时间为：\",end_time - start_time)\n",
    "        # 在装饰器中返回被装饰函数的返回值\n",
    "        return count\n",
    " \n",
    "    return wrapper\n",
    " \n",
    "@decorator\n",
    "def func():\n",
    "    count = 11111\n",
    "    time.sleep(0.8)\n",
    "    # 被装饰函数存在返回值\n",
    "    return count\n",
    " \n",
    "# 将其返回值赋值给一个变量\n",
    "count = func()\n",
    "# 打印返回值\n",
    "print(count)"
   ]
  },
  {
   "cell_type": "code",
   "execution_count": 10,
   "metadata": {},
   "outputs": [
    {
     "name": "stdout",
     "output_type": "stream",
     "text": [
      "被装饰的函数的返回值为： 11111\n",
      "函数执行时间为： 0.8009152412414551\n",
      "22222\n"
     ]
    }
   ],
   "source": [
    "# 例5_2\n",
    "import time\n",
    " \n",
    "def decorator(func):\n",
    "    def wrapper():\n",
    "        start_time = time.time()\n",
    "        count = func()\n",
    "        print(\"被装饰的函数的返回值为：\",count)\n",
    "        number = 22222\n",
    "        end_time = time.time()\n",
    "        print(\"函数执行时间为：\",end_time - start_time)\n",
    "        return number\n",
    " \n",
    "    return wrapper\n",
    " \n",
    "@decorator\n",
    "def func():\n",
    "    count = 11111\n",
    "    time.sleep(0.8)\n",
    "    return count\n",
    " \n",
    "count = func()\n",
    "print(count)"
   ]
  },
  {
   "cell_type": "markdown",
   "metadata": {},
   "source": [
    "这个例子中可以看出：被装饰函数具体返回什么是由装饰器返回什么决定的"
   ]
  },
  {
   "cell_type": "code",
   "execution_count": 11,
   "metadata": {},
   "outputs": [
    {
     "name": "stdout",
     "output_type": "stream",
     "text": [
      "函数执行时间为： 0.8008136749267578\n",
      "12111\n"
     ]
    }
   ],
   "source": [
    "# 例5_3\n",
    "import time\n",
    "def decorator(func):\n",
    "    def wrapper():\n",
    "        start_time = time.time()\n",
    "        # 在装饰器内调用原函数(被装饰的函数),并将其返回值赋值给一个变量\n",
    "        count = func()\n",
    "        #此时被装饰的函数的返回值是可以在装饰器中使用的\n",
    "        count = count + 1000\n",
    "        end_time = time.time()\n",
    "        print(\"函数执行时间为：\",end_time - start_time)\n",
    "        # 在装饰器中返回被装饰函数的返回值\n",
    "        return count\n",
    " \n",
    "    return wrapper\n",
    " \n",
    "@decorator\n",
    "def func():\n",
    "    count = 11111\n",
    "    time.sleep(0.8)\n",
    "    # 被装饰函数存在返回值\n",
    "    return count\n",
    " \n",
    "# 将其返回值赋值给一个变量\n",
    "count = func()\n",
    "# 打印返回值\n",
    "print(count)"
   ]
  },
  {
   "cell_type": "markdown",
   "metadata": {},
   "source": [
    "注：从上面例子可以看出\n",
    "1. 采用这种写法时**(在装饰器中调用被装饰的函数)：被装饰的函数是无法直接return返回值的**\n",
    "\n",
    "2. 被装饰的函数想要return返回值的话：\n",
    "    - 需要先将返回值传递给装饰器：在装饰器中调用被装饰函数时接收被装饰函数的返回值\n",
    "    - 然后再将收到的(被装饰函数的)返回值，在装饰器中返回(此时在装饰器中是可以使用被装饰的函数的返回值的)\n",
    "\n",
    "3. 函数存在装饰器时，被装饰函数具体return什么，是由装饰器决定的\n",
    "    - 比如例5_2中，被装饰函数返回的是count，但装饰器返回的是number。因此最后整个返回的是number"
   ]
  },
  {
   "cell_type": "markdown",
   "metadata": {},
   "source": [
    "## 存在参数的装饰器"
   ]
  },
  {
   "cell_type": "markdown",
   "metadata": {},
   "source": [
    "1. 前面的例子中，我们被装饰器的函数都是没有参数的，并且装饰器在接收参数时，也只是接收了一个参数(外层函数接收的被装饰函数的引用)\n",
    "\n",
    "2. Python提供了可变参数*args和关键字参数**kwargs，有了这两个参数，装饰器就可以用于任意目标函数了\n",
    "    - <font color=red>*args和\\**kwargs都是可变参数：</font> **不管被装饰函数是否需要参数还是需要几个参数。这两个都可以很好的处理，因此可以适用于任意目标函数**\n",
    "\n",
    "3. **<font color=red>内函数将需要的参数接收进来并传给执行的函数，</font>**然后将执行结果返回\n",
    "    - 在内函数中，可以添加额外的功能的代码，这些额外的功能就是装饰器添加的功能。最后外函数将内函数返回"
   ]
  },
  {
   "cell_type": "code",
   "execution_count": 12,
   "metadata": {},
   "outputs": [
    {
     "name": "stdout",
     "output_type": "stream",
     "text": [
      "函数执行时间为： 0.8008511066436768\n",
      "(600, 'decorator')\n"
     ]
    }
   ],
   "source": [
    "import time\n",
    " \n",
    "def decorator(func):\n",
    "    # 在内层函数中接收被装饰函数的参数：*args,**kwargs\n",
    "    def wrapper(*args,**kwargs):\n",
    "        start_time = time.time()\n",
    "        # 调用被装饰函数时，需要传入对应的参数\n",
    "        count, name = func(*args,**kwargs)\n",
    "        end_time = time.time()\n",
    "        print(\"函数执行时间为：\",end_time - start_time)\n",
    "        return count, name\n",
    " \n",
    "    return wrapper\n",
    " \n",
    "@decorator\n",
    "def func(num1, num2, num3, name):\n",
    "    count = num1 + num2 + num3\n",
    "    time.sleep(0.8)\n",
    "    return count, name\n",
    " \n",
    "count = func(100, 200, 300, name=\"decorator\")\n",
    "print(count)"
   ]
  },
  {
   "cell_type": "code",
   "execution_count": null,
   "metadata": {},
   "outputs": [],
   "source": []
  }
 ],
 "metadata": {
  "kernelspec": {
   "display_name": "Python 3",
   "language": "python",
   "name": "python3"
  },
  "language_info": {
   "codemirror_mode": {
    "name": "ipython",
    "version": 3
   },
   "file_extension": ".py",
   "mimetype": "text/x-python",
   "name": "python",
   "nbconvert_exporter": "python",
   "pygments_lexer": "ipython3",
   "version": "3.6.9"
  },
  "toc": {
   "base_numbering": 1.0,
   "nav_menu": {},
   "number_sections": true,
   "sideBar": true,
   "skip_h1_title": false,
   "title_cell": "Table of Contents",
   "title_sidebar": "Contents",
   "toc_cell": false,
   "toc_position": {},
   "toc_section_display": true,
   "toc_window_display": false
  }
 },
 "nbformat": 4,
 "nbformat_minor": 5
}
