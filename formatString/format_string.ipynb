{
 "cells": [
  {
   "cell_type": "markdown",
   "id": "1229ba21",
   "metadata": {},
   "source": [
    "# python format 用法详解"
   ]
  },
  {
   "cell_type": "markdown",
   "id": "1f36d673",
   "metadata": {},
   "source": [
    "format是python2.6新增的一个格式化字符串的方法，相对于老版的%格式方法，它有很多优点。\n",
    "\n",
    "- 不需要理会数据类型的问题，在%方法中%s只能替代字符串类型\n",
    "- 单个参数可以多次输出，参数顺序可以不相同\n",
    "- 填充方式十分灵活，对齐方式十分强大\n",
    "- 官方推荐用的方式，%方式将会在后面的版本被淘汰\n"
   ]
  },
  {
   "cell_type": "markdown",
   "id": "a9383008",
   "metadata": {},
   "source": [
    "**<font color=red>str.format()方法</font>**------->**{[index][:[[fil]align][sign][#][m][,][.n][type]]}**"
   ]
  },
  {
   "cell_type": "markdown",
   "id": "81941c8c",
   "metadata": {},
   "source": [
    "**index:参数的序号或者键**"
   ]
  },
  {
   "cell_type": "markdown",
   "id": "d586feeb",
   "metadata": {},
   "source": [
    "**fill:填充的符号**"
   ]
  },
  {
   "cell_type": "markdown",
   "id": "0ea72426",
   "metadata": {},
   "source": [
    "**align:对齐方式<font color=red><左对齐 >右对齐 ^居中对齐 =右对齐符号在最左侧</font> 需要配合占位宽度使用**"
   ]
  },
  {
   "cell_type": "markdown",
   "id": "6fdba606",
   "metadata": {},
   "source": [
    "**sign: 符号选项 +正数正号，负数负号 -正数不变，负号负号 ''空格 正数加空格 负数负号**"
   ]
  },
  {
   "cell_type": "markdown",
   "id": "71af96a4",
   "metadata": {},
   "source": [
    "**#:十六进制 八进制 二进制数千米加0x 0o 0b**"
   ]
  },
  {
   "cell_type": "markdown",
   "id": "fd5ed133",
   "metadata": {},
   "source": [
    "**m:占位宽度**"
   ]
  },
  {
   "cell_type": "markdown",
   "id": "95766f26",
   "metadata": {},
   "source": [
    "**.n: 小数位数**"
   ]
  },
  {
   "cell_type": "markdown",
   "id": "604aaef6",
   "metadata": {},
   "source": [
    "**type: 格式化字符类型 s d b x o f**"
   ]
  },
  {
   "cell_type": "markdown",
   "id": "3daa440d",
   "metadata": {},
   "source": [
    "##  位置"
   ]
  },
  {
   "cell_type": "code",
   "execution_count": 7,
   "id": "921f5b36",
   "metadata": {},
   "outputs": [
    {
     "name": "stdout",
     "output_type": "stream",
     "text": [
      "hello world, this is python.\n",
      "hello world, this is python.\n",
      "hello world, this is python. python is a new language.\n"
     ]
    }
   ],
   "source": [
    "print(\"hello {0}, this is {1}.\".format(\"world\", \"python\"))  # 根据位置下标进行填充\n",
    "print(\"hello {}, this is {}.\".format(\"world\", \"python\"))  # 根据顺序自动填充\n",
    "print(\"hello {0}, this is {1}. {1} is a new language.\".format(\"world\", \"python\"))  # 同一参数可以填充多次"
   ]
  },
  {
   "cell_type": "markdown",
   "id": "051cb3b4",
   "metadata": {},
   "source": [
    "## key"
   ]
  },
  {
   "cell_type": "code",
   "execution_count": 8,
   "id": "51f46dc0",
   "metadata": {},
   "outputs": [
    {
     "name": "stdout",
     "output_type": "stream",
     "text": [
      "hello world, this is python.\n"
     ]
    }
   ],
   "source": [
    "obj = \"world\"\n",
    "name = \"python\"\n",
    "print(\"hello {obj}, this is {name}.\".format(obj = obj, name = name))"
   ]
  },
  {
   "cell_type": "markdown",
   "id": "3a6cfaf7",
   "metadata": {},
   "source": [
    "## 列表"
   ]
  },
  {
   "cell_type": "code",
   "execution_count": 12,
   "id": "f442ae82",
   "metadata": {},
   "outputs": [
    {
     "name": "stdout",
     "output_type": "stream",
     "text": [
      "hello world, this is python.\n"
     ]
    }
   ],
   "source": [
    "list = [\"world\", \"python\"]\n",
    "print(\"hello {names[0]}, this is {names[1]}.\".format(names = list))"
   ]
  },
  {
   "cell_type": "markdown",
   "id": "8534e0a1",
   "metadata": {},
   "source": [
    "## 字典"
   ]
  },
  {
   "cell_type": "code",
   "execution_count": 13,
   "id": "40437b75",
   "metadata": {},
   "outputs": [
    {
     "name": "stdout",
     "output_type": "stream",
     "text": [
      "hello world, this is python.\n"
     ]
    }
   ],
   "source": [
    "dict = {\"obj\":\"world\", \"name\":\"python\"}\n",
    "print(\"hello {names[obj]}, this is {names[name]}.\".format(names = dict))"
   ]
  },
  {
   "cell_type": "markdown",
   "id": "04ea3624",
   "metadata": {},
   "source": [
    "## 类属性"
   ]
  },
  {
   "cell_type": "code",
   "execution_count": 15,
   "id": "9b4feefb",
   "metadata": {},
   "outputs": [
    {
     "name": "stdout",
     "output_type": "stream",
     "text": [
      "hello world, this is python.\n"
     ]
    }
   ],
   "source": [
    "class Names():\n",
    "    obj = \"world\"\n",
    "    name = \"python\"\n",
    "\n",
    "print(\"hello {names.obj}, this is {names.name}.\".format(names = Names))"
   ]
  },
  {
   "cell_type": "markdown",
   "id": "e1297a44",
   "metadata": {},
   "source": [
    "## 魔法参数"
   ]
  },
  {
   "cell_type": "code",
   "execution_count": 16,
   "id": "f8f40fd3",
   "metadata": {},
   "outputs": [
    {
     "name": "stdout",
     "output_type": "stream",
     "text": [
      "hello world, this is python.\n"
     ]
    }
   ],
   "source": [
    "args = [\",\", \"inx\"]\n",
    "kwargs = {\"obj\": \"world\", \"name\": \"python\"}\n",
    "print(\"hello {obj}{} this is {name}.\".format(*args, **kwargs))"
   ]
  },
  {
   "cell_type": "markdown",
   "id": "bfac8452",
   "metadata": {},
   "source": [
    "# format 格式转换"
   ]
  },
  {
   "cell_type": "markdown",
   "id": "c5972d4d",
   "metadata": {},
   "source": [
    "![numberString](./images/numberString.png)"
   ]
  },
  {
   "cell_type": "code",
   "execution_count": null,
   "id": "2a624ab5",
   "metadata": {},
   "outputs": [],
   "source": []
  }
 ],
 "metadata": {
  "kernelspec": {
   "display_name": "Python [conda env:morvanli] *",
   "language": "python",
   "name": "conda-env-morvanli-py"
  },
  "language_info": {
   "codemirror_mode": {
    "name": "ipython",
    "version": 3
   },
   "file_extension": ".py",
   "mimetype": "text/x-python",
   "name": "python",
   "nbconvert_exporter": "python",
   "pygments_lexer": "ipython3",
   "version": "3.6.13"
  },
  "toc": {
   "base_numbering": 1,
   "nav_menu": {},
   "number_sections": true,
   "sideBar": true,
   "skip_h1_title": false,
   "title_cell": "Table of Contents",
   "title_sidebar": "Contents",
   "toc_cell": false,
   "toc_position": {},
   "toc_section_display": true,
   "toc_window_display": false
  }
 },
 "nbformat": 4,
 "nbformat_minor": 5
}
