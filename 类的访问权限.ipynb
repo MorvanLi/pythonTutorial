{
 "cells": [
  {
   "cell_type": "markdown",
   "id": "f104f1ef",
   "metadata": {},
   "source": [
    "# 公有变量和方法"
   ]
  },
  {
   "cell_type": "markdown",
   "id": "647e197e",
   "metadata": {},
   "source": [
    "在Python中默认上对象的属性和方法都是公开的，可以通过点操作符( . )来进行访问"
   ]
  },
  {
   "cell_type": "code",
   "execution_count": 1,
   "id": "66490129",
   "metadata": {},
   "outputs": [
    {
     "name": "stdout",
     "output_type": "stream",
     "text": [
      "修改前的属性名： 95\n",
      "学生：小明,分数为：95\n",
      "修改后的属性名： 0\n",
      "学生：小明,分数为：0\n"
     ]
    }
   ],
   "source": [
    "# 例1：\n",
    "class Student:\n",
    "    def __init__(self,name,score):\n",
    "        self.name = name\n",
    "        self.score = score\n",
    "    def get_information(self):\n",
    "        print(\"学生：%s,分数为：%s\" % (self.name ,self.score)) #类中访问实例变量通过 self.属性名\n",
    " \n",
    "person = Student(\"小明\",\"95\")\n",
    " \n",
    "print(\"修改前的属性名：\",person.score)    #类外访问实例变量通过 实例名.属性名\n",
    "person.get_information()\n",
    " \n",
    "person.score = 0                        #通过实例名.属性名修改实例变量的值\n",
    "print(\"修改后的属性名：\",person.score)\n",
    "person.get_information()"
   ]
  },
  {
   "cell_type": "markdown",
   "id": "8a10d9f7",
   "metadata": {},
   "source": [
    "由上面的代码和输出结果可以看出，在类中定义的非构造方法可以调用类中构造方法中的实例变量的属性，调用方式为self.实例变量属性名，如代码中的self.name和self.score。且可以在类的外部修改类的内部属性"
   ]
  },
  {
   "cell_type": "markdown",
   "id": "44272508",
   "metadata": {},
   "source": [
    "# 私有变量"
   ]
  },
  {
   "cell_type": "markdown",
   "id": "ea7f5f75",
   "metadata": {},
   "source": [
    "要让内部属性不被外部访问可以在属性名称前加**<font color=red>两个下划线( __ )</font>**。在python中，实例变量名前如果以__开头，就会变成私有变量，只有内部可以访问，外部不能访问"
   ]
  },
  {
   "cell_type": "code",
   "execution_count": 2,
   "id": "b9c47992",
   "metadata": {},
   "outputs": [
    {
     "ename": "AttributeError",
     "evalue": "'Student' object has no attribute '__score'",
     "output_type": "error",
     "traceback": [
      "\u001b[0;31m---------------------------------------------------------------------------\u001b[0m",
      "\u001b[0;31mAttributeError\u001b[0m                            Traceback (most recent call last)",
      "\u001b[0;32m<ipython-input-2-372bd33d3466>\u001b[0m in \u001b[0;36m<module>\u001b[0;34m\u001b[0m\n\u001b[1;32m      9\u001b[0m \u001b[0mperson\u001b[0m \u001b[0;34m=\u001b[0m \u001b[0mStudent\u001b[0m\u001b[0;34m(\u001b[0m\u001b[0;34m\"小明\"\u001b[0m\u001b[0;34m,\u001b[0m\u001b[0;34m\"95\"\u001b[0m\u001b[0;34m)\u001b[0m\u001b[0;34m\u001b[0m\u001b[0;34m\u001b[0m\u001b[0m\n\u001b[1;32m     10\u001b[0m \u001b[0;34m\u001b[0m\u001b[0m\n\u001b[0;32m---> 11\u001b[0;31m \u001b[0mprint\u001b[0m\u001b[0;34m(\u001b[0m\u001b[0;34m\"修改前的属性名：\"\u001b[0m\u001b[0;34m,\u001b[0m\u001b[0mperson\u001b[0m\u001b[0;34m.\u001b[0m\u001b[0m__score\u001b[0m\u001b[0;34m)\u001b[0m   \u001b[0;31m#在类的外部访问私有属性\u001b[0m\u001b[0;34m\u001b[0m\u001b[0;34m\u001b[0m\u001b[0m\n\u001b[0m\u001b[1;32m     12\u001b[0m \u001b[0;34m\u001b[0m\u001b[0m\n\u001b[1;32m     13\u001b[0m \u001b[0;31m#上面代码的输出结果为：AttributeError: 'Student' object has no attribute '__score'\u001b[0m\u001b[0;34m\u001b[0m\u001b[0;34m\u001b[0m\u001b[0;34m\u001b[0m\u001b[0m\n",
      "\u001b[0;31mAttributeError\u001b[0m: 'Student' object has no attribute '__score'"
     ]
    }
   ],
   "source": [
    "# 例2：\n",
    "class Student:\n",
    "    def __init__(self,name,score):\n",
    "        self.__name = name\n",
    "        self.__score = score\n",
    "    def get_information(self):\n",
    "        print(\"学生：%s,分数为：%s\" % (self.__name ,self.__score))\n",
    " \n",
    "person = Student(\"小明\",\"95\")\n",
    " \n",
    "print(\"修改前的属性名：\",person.__score)   #在类的外部访问私有属性\n",
    " \n",
    "#上面代码的输出结果为：AttributeError: 'Student' object has no attribute '__score'"
   ]
  },
  {
   "cell_type": "markdown",
   "id": "18a6db9a",
   "metadata": {},
   "source": [
    "1. 将变量定义为私有变量，可以确保外部代码不能随意修改对象内部的状态，通过访问限制的保护，代码更加安全\n",
    "2. 若在类外部直接修改私有变量的值，是不会影响到最终实例(私有)变量的值"
   ]
  },
  {
   "cell_type": "code",
   "execution_count": 3,
   "id": "49990e11",
   "metadata": {},
   "outputs": [
    {
     "name": "stdout",
     "output_type": "stream",
     "text": [
      "学生：小明,分数为：95\n",
      "修改后的属性名： 0\n",
      "学生：小明,分数为：95\n"
     ]
    }
   ],
   "source": [
    "# 例3：\n",
    "class Student:\n",
    "    def __init__(self,name,score):\n",
    "        self.__name = name\n",
    "        self.__score = score\n",
    "    def get_information(self):\n",
    "        print(\"学生：%s,分数为：%s\" % (self.__name ,self.__score))\n",
    " \n",
    " \n",
    "person = Student(\"小明\",\"95\")\n",
    " \n",
    "person.get_information()\n",
    " \n",
    "person.__score = 0                         #修改私有变量的值\n",
    "print(\"修改后的属性名：\",person.__score)     #此处访问的__score是上一行修改的__score值，相当于一个类变量\n",
    "person.get_information()                   #修改后并不会影响到私有变量的值(伪修改)"
   ]
  },
  {
   "cell_type": "markdown",
   "id": "6b266bfc",
   "metadata": {},
   "source": [
    "# 在类的外部获取私有变量"
   ]
  },
  {
   "cell_type": "markdown",
   "id": "2f5bf430",
   "metadata": {},
   "source": [
    "在类中，可以通过为类增加的**<font color=red>get_attrs</font>**方法来获取类中的私有变量(定义一个get_属性名的方法)"
   ]
  },
  {
   "cell_type": "code",
   "execution_count": 7,
   "id": "d522a229",
   "metadata": {},
   "outputs": [
    {
     "name": "stdout",
     "output_type": "stream",
     "text": [
      "修改前的属性名： 95\n",
      "学生：小明,分数为：95\n",
      "修改后的属性名： 0\n",
      "学生：小明,分数为：95\n"
     ]
    }
   ],
   "source": [
    "# 例4：\n",
    "class Student:\n",
    "    def __init__(self,name,score):\n",
    "        self.__name = name\n",
    "        self.__score = score\n",
    "    def get_information(self):\n",
    "        print(\"学生：%s,分数为：%s\" % (self.__name ,self.__score))\n",
    "    def get_score(self):                    #定义get_attrs方法\n",
    "        return self.__score\n",
    " \n",
    "person = Student(\"小明\",\"95\")\n",
    " \n",
    "print(\"修改前的属性名：\",person.get_score())  #通过get_实例变量名的方法来获取私有变量的值\n",
    "person.get_information()\n",
    " \n",
    "person.__score = 0\n",
    "print(\"修改后的属性名：\",person.__score)      #此处访问的__score是上一行修改的__score值，相当于一个类变量\n",
    "person.get_information()"
   ]
  },
  {
   "cell_type": "markdown",
   "id": "ec5fb8ca",
   "metadata": {},
   "source": [
    "在类的外部可以使用 **<font color=red>\"实例名._类名__变量名\"**</font>的方法获取私有变量"
   ]
  },
  {
   "cell_type": "code",
   "execution_count": 8,
   "id": "5bacfd14",
   "metadata": {},
   "outputs": [
    {
     "name": "stdout",
     "output_type": "stream",
     "text": [
      "修改前的属性名： 95\n",
      "学生：小明,分数为：95\n",
      "修改后的属性名： 0\n",
      "学生：小明,分数为：95\n"
     ]
    }
   ],
   "source": [
    "# 例5：\n",
    "class Student:\n",
    "    def __init__(self,name,score):\n",
    "        self.__name = name\n",
    "        self.__score = score\n",
    "    def get_information(self):\n",
    "        print(\"学生：%s,分数为：%s\" % (self.__name ,self.__score))\n",
    " \n",
    " \n",
    "person = Student(\"小明\",\"95\")\n",
    "print(\"修改前的属性名：\",person._Student__score)     #通过实例名._类名__私有变量名来访问私有变量\n",
    "person.get_information()\n",
    " \n",
    "person.__score = 0                                 #修改私有变量的值\n",
    "print(\"修改后的属性名：\",person.__score)\n",
    "person.get_information()"
   ]
  },
  {
   "cell_type": "markdown",
   "id": "fdf7f21b",
   "metadata": {},
   "source": [
    "# 通过外部修改私有变量的值"
   ]
  },
  {
   "cell_type": "markdown",
   "id": "4edbe538",
   "metadata": {},
   "source": [
    "在python中，可以通过**<font color=red>set__attrs</font>**的方法来修改私有变量的值"
   ]
  },
  {
   "cell_type": "code",
   "execution_count": 13,
   "id": "c25f7f6e",
   "metadata": {},
   "outputs": [
    {
     "name": "stdout",
     "output_type": "stream",
     "text": [
      "修改前的属性名： 95\n",
      "学生：小明,分数为：95\n",
      "修改后的属性名： 0\n",
      "学生：小明,分数为：0\n"
     ]
    }
   ],
   "source": [
    "# 例6：\n",
    "class Student:\n",
    "    def __init__(self,name,score):\n",
    "        self.__name = name\n",
    "        self.__score = score\n",
    "    def get_information(self):\n",
    "        print(\"学生：%s,分数为：%s\" % (self.__name ,self.__score))\n",
    "    def get_score(self):\n",
    "        return self.__score\n",
    "    def set_score(self,new_score):           #通过set_变量名的方法修改实例变量的值\n",
    "        self.__score = new_score\n",
    " \n",
    "person = Student(\"小明\",\"95\")\n",
    " \n",
    "print(\"修改前的属性名：\",person.get_score())   #通过get_实例变量名的方法来获取私有变量的值(实例变量)\n",
    "person.get_information()\n",
    " \n",
    "person.set_score(0)                           #通过set_实例变量名的方法来修改私有变量的值(实例变量)\n",
    "print(\"修改后的属性名：\",person.get_score())\n",
    "person.get_information()"
   ]
  },
  {
   "cell_type": "markdown",
   "id": "70f5bf82",
   "metadata": {},
   "source": [
    "在python中，通过定义私有变量和对应的set方法可以帮助我们做参数检查，避免传入无效的参数"
   ]
  },
  {
   "cell_type": "code",
   "execution_count": 14,
   "id": "6b3a9647",
   "metadata": {},
   "outputs": [
    {
     "name": "stdout",
     "output_type": "stream",
     "text": [
      "修改前的属性名： 95\n",
      "学生：小明,分数为：95\n",
      "输入的份值错误，\n",
      "修改后的属性名： 10\n",
      "学生：小明,分数为：10\n"
     ]
    }
   ],
   "source": [
    "# 例7：\n",
    "class Student:\n",
    "    def __init__(self,name,score):\n",
    "        self.__name = name\n",
    "        self.__score = score\n",
    "    def get_information(self):\n",
    "        print(\"学生：%s,分数为：%s\" % (self.__name ,self.__score))\n",
    "    def get_score(self):\n",
    "        return self.__score\n",
    "    def set_score(self,new_score):        #通过set_变量名的方法修改实例变量的值\n",
    "        if  0 <= new_score <= 100:\n",
    "            self.__score = new_score\n",
    "        else:\n",
    "            print(\"输入的份值错误，\")\n",
    " \n",
    "person = Student(\"小明\",\"95\")\n",
    " \n",
    "print(\"修改前的属性名：\",person.get_score()) #通过get_实例变量名的方法来获取私有变量的值(实例变量)\n",
    "person.get_information()\n",
    " \n",
    "person.set_score(-10)   #通过set_实例变量名的方法来修改私有变量的值(实例变量)\n",
    "person.set_score(10)\n",
    " \n",
    "print(\"修改后的属性名：\",person.get_score())\n",
    "person.get_information()"
   ]
  },
  {
   "cell_type": "markdown",
   "id": "5fbf551b",
   "metadata": {},
   "source": [
    "# 类的私有方法"
   ]
  },
  {
   "cell_type": "markdown",
   "id": "2541abbe",
   "metadata": {},
   "source": [
    "类也有私有方法。类的私有方法也是以两个下划线开头，声明该方法为私有方法，不能再类外使用。 私有方法的调用方法为self.方法名"
   ]
  },
  {
   "cell_type": "code",
   "execution_count": 16,
   "id": "e439f45c",
   "metadata": {},
   "outputs": [
    {
     "name": "stdout",
     "output_type": "stream",
     "text": [
      "通过调用公有方法来间接调用私有方法\n",
      "现在为公有方法，接下来调用私有方法\n",
      "这是私有方法\n"
     ]
    }
   ],
   "source": [
    "# 例8：\n",
    "class Student:\n",
    "    def __init__(self):\n",
    "        pass\n",
    "    def __func(self):           #定义一个私有方法\n",
    "        print(\"这是私有方法\")\n",
    "    def func(self):             #定义一个公有方法\n",
    " \n",
    "        print(\"现在为公有方法，接下来调用私有方法\")\n",
    "        self.__func()\n",
    " \n",
    "student = Student()\n",
    "print(\"通过调用公有方法来间接调用私有方法\")\n",
    "student.func()\n",
    "#student.__func()  #直接调用私有方法报错：AttributeError: 'Student' object has no attribute '__func'"
   ]
  },
  {
   "cell_type": "code",
   "execution_count": null,
   "id": "d941c94e",
   "metadata": {},
   "outputs": [],
   "source": []
  }
 ],
 "metadata": {
  "kernelspec": {
   "display_name": "Python 3",
   "language": "python",
   "name": "python3"
  },
  "language_info": {
   "codemirror_mode": {
    "name": "ipython",
    "version": 3
   },
   "file_extension": ".py",
   "mimetype": "text/x-python",
   "name": "python",
   "nbconvert_exporter": "python",
   "pygments_lexer": "ipython3",
   "version": "3.6.9"
  },
  "toc": {
   "base_numbering": 1,
   "nav_menu": {},
   "number_sections": true,
   "sideBar": true,
   "skip_h1_title": false,
   "title_cell": "Table of Contents",
   "title_sidebar": "Contents",
   "toc_cell": false,
   "toc_position": {},
   "toc_section_display": true,
   "toc_window_display": false
  }
 },
 "nbformat": 4,
 "nbformat_minor": 5
}
