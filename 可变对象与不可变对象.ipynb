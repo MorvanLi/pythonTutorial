{
 "cells": [
  {
   "cell_type": "markdown",
   "id": "62d012f6",
   "metadata": {},
   "source": [
    "# Python中的变量"
   ]
  },
  {
   "cell_type": "markdown",
   "id": "05466650",
   "metadata": {},
   "source": [
    "1. 变量代表某个值的名字，是指向各种类型值的名字，以后用到这个值时，直接引用其名字即可，就不用再写具体的值\n",
    "\n",
    "2. 使用变量，可以提高我们程序的多样性、适应性\n",
    "    - 值不是固定的(没有写死)，我们需要什么就传入什么"
   ]
  },
  {
   "cell_type": "markdown",
   "id": "1287f440",
   "metadata": {},
   "source": [
    "## 定义变量"
   ]
  },
  {
   "cell_type": "markdown",
   "id": "b93e3116",
   "metadata": {},
   "source": [
    "1. 在Python中，**<font color=red>变量在使用前都必须赋值</font>**(也就是必须先定义这个变量：指明这个变量的值)\n",
    "    - 否则会报错，没有值的变量是没有意义的\n",
    "    - 变量赋值以后该变量才会被创建\n",
    "\n",
    "2. 使用等号(=)来给变量赋值，等号左边是一个变量名、等号右边是变量的值：**<font color=red>变量名 = 值</font>**\n",
    "    - 等号\"=\"：赋值操作符，用来给变量赋值，左边是变量名，右边是值，不能写反了\n",
    "    - \"=\"左边：是变量名(最好能做到见名知意)\n",
    "    - \"=\"右边：是变量所指向的值\n",
    "    - 变量定义之后，后续就可以直接使用了\n",
    "\n",
    "3. **<font color=red>在Python中赋值是将变量名指向对象(对象所在的内存地址)：</font>** 变量名引用对象，将变量名与值关联起来\n",
    "    - 定义变量时会在内存中开辟一块空间用于存变量的值，然后将变量名指向值(引用)\n",
    "\n",
    "4. 查看变量的内存空间存储地址，用id(变量名)方法查看\n",
    "\n",
    "5. 不要把赋值语句的等号等同于数学的等号(在python中用\"==\"表示数学上的等号，两个值相等)\n"
   ]
  },
  {
   "cell_type": "code",
   "execution_count": 1,
   "id": "b28df4b1",
   "metadata": {},
   "outputs": [
    {
     "name": "stdout",
     "output_type": "stream",
     "text": [
      "变量a的内存地址： 10914560\n",
      "对象3的内存地址： 10914560\n"
     ]
    }
   ],
   "source": [
    "# 例1：定义一个变量\n",
    "a = 3  #定义一个变量a，并给其赋值为3\n",
    " \n",
    "print(\"变量a的内存地址：\",id(a))\n",
    "print(\"对象3的内存地址：\",id(3))"
   ]
  },
  {
   "cell_type": "markdown",
   "id": "541cf88e",
   "metadata": {},
   "source": [
    "注：\n",
    "\n",
    "1. 通过赋值操作将变量名与值关联起来：此时变量名指向对象(对象所在内存地址)，变量名a就表示对象3(所以内存地址一样)\n",
    "    - 对象的内存地址可通过id()方法查看\n",
    "\n",
    "2. 上面例子中，Python将执行三个步骤来完成a = 3的赋值操作\n",
    "    - 创建变量a\n",
    "    - 创建一个对象(分配一块内存)，来存储值3(值的类型为整型)\n",
    "    - 将变量与对象，通过指针连接起来，从变量到对象的连接称之为引用(变量引用对象)\n",
    "\n",
    "3. 变量赋值操作可以使用下图来表示"
   ]
  },
  {
   "cell_type": "markdown",
   "id": "b1707165",
   "metadata": {},
   "source": [
    "![jupyter](./images/可变对象与不可变对象fig1.png) "
   ]
  },
  {
   "cell_type": "markdown",
   "id": "9a77a048",
   "metadata": {},
   "source": [
    "## 多次赋值"
   ]
  },
  {
   "cell_type": "markdown",
   "id": "d4206c0f",
   "metadata": {},
   "source": [
    "1. 在Python中支持对变量名或对象(值)进行多次赋值操作，主要有两种场景\n",
    "    - 将同一个对象(值)赋值给不同的变量\n",
    "    - 将不同的对象(值)赋值给同一个变量\n",
    "\n",
    "2. **<font color=red>将同一个对象(值)赋值给不同的变量</font>**\n",
    "    - 这种赋值的实际意义是：不同变量引用(指向)同一个对象(值)\n",
    "    - 这种场景适用于需要定义多个值一样的变量\n",
    "3. **<font color=red>将不同的对象(值)赋值给同一个变量</font>**\n",
    "    - 这种赋值的实际意义是：同一个变量引用(指向)不同的对象(值)    \n",
    "    - 不过这种赋值需要注意：一个变量在多次赋值后，后面的值会覆盖前面的值\n",
    "    - 这种场景适用于需要改变变量值，也就是需要对变量值进行重新赋值(重新定义)"
   ]
  },
  {
   "cell_type": "code",
   "execution_count": 8,
   "id": "fd5e9f21",
   "metadata": {},
   "outputs": [
    {
     "name": "stdout",
     "output_type": "stream",
     "text": [
      "变量a的内存地址： 140564519286128\n",
      "变量b的内存地址： 140564519286128\n",
      "变量x的内存地址： 10914560\n",
      "变量y的内存地址： 10914560\n"
     ]
    }
   ],
   "source": [
    "# 例2：将同一个对象(值)赋值给不同的变量\n",
    "a = 'ABC'\n",
    "b = a  # 将变量a值赋值给变量b\n",
    " \n",
    "print(\"变量a的内存地址：\",id(a))\n",
    "print(\"变量b的内存地址：\",id(a))\n",
    "\n",
    " \n",
    "x = y = 3 # 将对象3赋值给两个变量\n",
    "print(\"变量x的内存地址：\",id(x))\n",
    "print(\"变量y的内存地址：\",id(y))"
   ]
  },
  {
   "cell_type": "markdown",
   "id": "ef7187d2",
   "metadata": {},
   "source": [
    "注：\n",
    "\n",
    "1. 上面分别使用了两种不同的赋值方式来：将同一个对象(值)赋值给不同的变量\n",
    "\n",
    "2. 通过查看变量的内存地址可以发现：不同的变量指向(引用)的是同一个对象(值)\n",
    "\n",
    "3. 理解变量在计算机内存中的表示也非常重要。当我们写：a = 'ABC'时，Python解释器干了两件事情：\n",
    "    - 在内存中创建了一个'ABC'的字符串(对象)\n",
    "    - 在内存中创建了一个名为a的变量，并把它指向'ABC'\n",
    "    - 也可以继续把变量a赋值给另一个变量b(a=b)，这个操作实际上是把变量b指向变量a所指向的数据(值)\n",
    "    \n",
    "4. 这种赋值(定义变量)方式可以使用下图来表示：\n",
    "\n",
    "![jupyter](./images/可变对象与不可变对象fig2.png) "
   ]
  },
  {
   "cell_type": "code",
   "execution_count": 9,
   "id": "3a4a689e",
   "metadata": {},
   "outputs": [
    {
     "name": "stdout",
     "output_type": "stream",
     "text": [
      "变量值为： 4\n",
      "变量内存地址为： 10914592\n",
      "变量值为： 5\n",
      "变量内存地址为： 10914624\n"
     ]
    }
   ],
   "source": [
    "# 例3：将不同的对象(值)赋值给同一个变量\n",
    "a = 4\n",
    "print(\"变量值为：\",a)\n",
    "print(\"变量内存地址为：\",id(a))\n",
    " \n",
    "# 对变量a重新赋值(重新定义变量a)\n",
    "a = 5\n",
    "print(\"变量值为：\",a)\n",
    "print(\"变量内存地址为：\",id(a))"
   ]
  },
  {
   "cell_type": "markdown",
   "id": "97025117",
   "metadata": {},
   "source": [
    "注：\n",
    "1. 可以看到：可以将不同的对象(值)赋值给同一个变量\n",
    "\n",
    "2. **<font color=red>对一个变量重新赋值(重新定义变量)后：后面的值会覆盖前面的值</font>**\n",
    "\n",
    "3. 这个过程可以理解成：\n",
    "    - 变量名指向(引用)新的值(5)\n",
    "    - 旧值(4)会被Python解释器回收(这个对象就没用了，此时没有变量名指向这个对象)\n",
    "    - 可以使用下图表示\n",
    "    \n",
    "\n",
    "![jupyter](./images/可变对象与不可变对象fig3.png) "
   ]
  },
  {
   "cell_type": "markdown",
   "id": "ed787526",
   "metadata": {},
   "source": [
    "# Python中的可变对象和不可变对象"
   ]
  },
  {
   "cell_type": "markdown",
   "id": "93076c9d",
   "metadata": {},
   "source": [
    "1. Python中一切皆对象\n",
    "    - 不管是基本数据类型：数字、字符串、列表、元组、字典、集合等\n",
    "    - 还是我们自定义的函数、类或者是内置的函数、类或第三方库的函数、类都是对象\n",
    "\n",
    "2. **<font color=red>在Python中对象(值)分为：可变对象和不可变对象</font>**\n",
    "    - 可变对象和不可变对象主要针对的是Python的基本数据类型\n",
    "    - 也就是：数字、字符串、列表、元组、字典、集合\n",
    "\n",
    "3. Python中\n",
    "    - 不可变对象：数字(int、float、bool)、字符串str、元组tuple\n",
    "    - 可变对象：列表list、字典dict、集合set\n"
   ]
  },
  {
   "cell_type": "markdown",
   "id": "1549381f",
   "metadata": {},
   "source": [
    "## 不可变对象"
   ]
  },
  {
   "cell_type": "markdown",
   "id": "110f3f9e",
   "metadata": {},
   "source": [
    "1. **<font color=red>不可变对象：对象在内存中的值不能被改变</font>**\n",
    "    - 当不可变对象的值发生了改变，那么它对应的内存地址也会发生改变\n",
    "\n",
    "2. 当改变不可变对象的值的时候，由于其内存地址和值均不能被改变，因此就会把原来的值复制一份后再改变，这个过程中会开辟一个新的内存地址并存入改变后的新值，变量再指向这个新的地址(值)\n",
    "    - **<font color=red>原对象(值)的内存地址不会发生变化，内存中的值也不会变化</font>**\n",
    "    - **<font color=red>只是变量名的引用发生了变化：</font>** 变量名指向(引用)的对象(值)发生了变化，指向新值\n",
    "\n",
    "3. 不可变对象：数字(int、float、bool)、字符串str、元组tuple\n",
    "\n",
    "4. 从不可变对象的定义可以看出：不可变对象的值是不能被修改的，如果需要修改其值就只能重新赋值(重新定义)\n",
    "    - 字符串、元组、数字等不可变对象的内置方法也不是操作的原对象，而是新生成一个修改后的对象\n",
    "    - 原对象始终是没有变的"
   ]
  },
  {
   "cell_type": "code",
   "execution_count": 10,
   "id": "b4ab3009",
   "metadata": {},
   "outputs": [
    {
     "name": "stdout",
     "output_type": "stream",
     "text": [
      "未重新赋值时，变量a内存地址为： 140564214746168 140564214746168\n",
      "重新赋值后，变量a内存地址为： 140564215923120 140564214746168\n"
     ]
    },
    {
     "data": {
      "text/plain": [
       "'\\n未重新赋值时，变量a内存地址为： 3196475444000 3196475444000\\n重新赋值后，变量a内存地址为： 3196476968048 3196475444000\\n注：这种都是新生成的值，不是在原来原来值上变化的\\n    新生成一个字符串，然后将字符串存入一块新的内存中，原字符串内存地址、值均不变\\n'"
      ]
     },
     "execution_count": 10,
     "metadata": {},
     "output_type": "execute_result"
    }
   ],
   "source": [
    "# 例4：不可变对象(字符串)\n",
    "\n",
    "a = 'hello'\n",
    "print(\"未重新赋值时，变量a内存地址为：\", id(a), id('hello'))\n",
    " \n",
    "# 改变变量值：重新赋值\n",
    "a = a + ' world'\n",
    "print(\"重新赋值后，变量a内存地址为：\", id(a), id('hello'))\n",
    " \n",
    "\"\"\"\n",
    "未重新赋值时，变量a内存地址为： 3196475444000 3196475444000\n",
    "重新赋值后，变量a内存地址为： 3196476968048 3196475444000\n",
    "注：这种都是新生成的值，不是在原来原来值上变化的\n",
    "    新生成一个字符串，然后将字符串存入一块新的内存中，原字符串内存地址、值均不变\n",
    "\"\"\""
   ]
  },
  {
   "cell_type": "markdown",
   "id": "92ac8ddf",
   "metadata": {},
   "source": [
    "注：\n",
    "1. 从上面输出结果可以看出，对象\"hello\"的内存地址始终没有变化。有变化的只是变量a所指向的内存地址\n",
    "\n",
    "2. 不可变对象：未改变之前指向内存中\"hello\"，改变后开辟一块新内存来存a + ' world'，并使变量a指向对象a + ' world'，也就是值\"hello world\"\n",
    "\n",
    "3. 对不可变对象的操作可以使用下图表示\n",
    "![jupyter](./images/可变对象与不可变对象fig4.png) "
   ]
  },
  {
   "cell_type": "code",
   "execution_count": 11,
   "id": "7d34a338",
   "metadata": {},
   "outputs": [
    {
     "name": "stdout",
     "output_type": "stream",
     "text": [
      "未重新赋值时，变量a内存地址为： 10914592 10914592\n",
      "重新赋值后，变量a内存地址为： 10914624 10914624 10914592\n"
     ]
    }
   ],
   "source": [
    "# 例5：不可变对象(数字)\n",
    "a = 4\n",
    "print(\"未重新赋值时，变量a内存地址为：\", id(a), id(4))\n",
    " \n",
    "# 重新赋值，也相当于修改变量值\n",
    "a = 5\n",
    "print(\"重新赋值后，变量a内存地址为：\", id(a), id(5), id(4))\n"
   ]
  },
  {
   "cell_type": "markdown",
   "id": "2f1e5673",
   "metadata": {},
   "source": [
    "**<font color=red>注：不可变对象，内存中的值不允许被改变</font>**\n",
    "\n",
    "1. 当值要改变时，实际上是把原来的值复制一份改变后，并开辟一个新的内存地址并存入改变后的新值，变量再指向这个新的地址\n",
    "\n",
    "2. 原对象(值)的内存地址不会发生变化，内存中的值也不会变化，只是变量名的引用发生了变化\n",
    "\n",
    "3. 其实我感觉这种并不算是修改对象的值：不可变对象是不能修改值的\n",
    "    - 这种只能算是重新赋值或定义一个新变量\n",
    "        - 前面a + ' world'表示字符串拼接，这种操作的本身就是返回一个修改后的新对象\n",
    "        - 返回的新对象肯定与原来的对象是两个不同的对象：id值不一致\n",
    "        - 只是说两个对象被同一个变量名引用，前面的值被后面的值覆盖了\n",
    "    - 不过对于不可变对象也只能这样来举例了"
   ]
  },
  {
   "cell_type": "markdown",
   "id": "fe397b27",
   "metadata": {},
   "source": [
    "## 可变对象"
   ]
  },
  {
   "cell_type": "markdown",
   "id": "64fa2ac6",
   "metadata": {},
   "source": [
    "1. **<font color=red>可变对象：对象在内存中的值可以被改变</font>**\n",
    "    - 当可变对象的值发生了改变，对象(值)的内存地址不会发生改变，但存的值会发生变化\n",
    "    - 内存地址不变，但是内存地址中的值变化了\n",
    "\n",
    "2. **<font color=red>当改变可变对象的值的时候，会在原值上直接修改，没有发生复制行为，也没有开辟新的出地址，通俗点说就是原地改变</font>**\n",
    "    - 对象的内存地址不会发生变化，但是内存中存的值发生了变化\n",
    "    - **<font color=red>变量的引用也没有变化：</font>**依旧指向原内存地址(只是内存中的值已经变了)\n",
    "\n",
    "3. 可变对象：列表list、字典dict、集合set    \n",
    "    - 可变对象的内置方法中很多就是直接在原数据上操作的，不会生成新的对象\n"
   ]
  },
  {
   "cell_type": "code",
   "execution_count": 12,
   "id": "450fe900",
   "metadata": {},
   "outputs": [
    {
     "name": "stdout",
     "output_type": "stream",
     "text": [
      "未重新赋值时，变量a内存地址为： [1, 2, 3, 4] 140564215274952\n",
      "重新赋值后，变量a内存地址为： [1, 2, 5, 4] 140564215274952\n"
     ]
    }
   ],
   "source": [
    "# 例6：可变对象\n",
    "a = [1, 2, 3, 4]\n",
    "print(\"未重新赋值时，变量a内存地址为：\", a,id(a))\n",
    " \n",
    "# 修改变量值\n",
    "a[2] = 5\n",
    "print(\"重新赋值后，变量a内存地址为：\", a,id(a))"
   ]
  },
  {
   "cell_type": "markdown",
   "id": "b6d216a6",
   "metadata": {},
   "source": [
    "注：\n",
    "1. 列表a的值在改变前后内存地址始终未发生改变：改变的只是内存中存储的值\n",
    "    - 直接原地改变，所以不会开辟新的内存，改变前后id不变(只是值变了)\n",
    "    - 变量的引用也没有变化：依旧指向原内存地址\n",
    "\n",
    "2. 对可变对象的操作可以使用下图表示\n",
    "\n",
    "![jupyter](./images/可变对象与不可变对象fig5.png) "
   ]
  },
  {
   "cell_type": "markdown",
   "id": "050f4899",
   "metadata": {},
   "source": [
    "**<font color=red>注：可变对象在内存的值可以被修改</font>**\n",
    "\n",
    "1. 所以无需复制一份之后再改变，直接原地改变，所以不会开辟新的内存\n",
    "\n",
    "2. 改变前后对象(值)的内存地址不变(只是值变了)。变量的引用也不变"
   ]
  },
  {
   "cell_type": "code",
   "execution_count": 15,
   "id": "74c313e9",
   "metadata": {},
   "outputs": [
    {
     "name": "stdout",
     "output_type": "stream",
     "text": [
      "原对象： [1, 2, 3] 140564215939976\n",
      "新对象： [1, 2, 3, 'a'] 140564217476552\n"
     ]
    }
   ],
   "source": [
    "# 例7：\n",
    "data = [1,2,3]\n",
    " \n",
    "# 拼接：这种是新生成一个对象；赋值产生一个新的对象\n",
    "newData = data + [\"a\"]\n",
    " \n",
    "print(\"原对象：\",data,id(data))\n",
    "print(\"新对象：\",newData,id(newData))\n",
    " "
   ]
  },
  {
   "cell_type": "markdown",
   "id": "0270f475",
   "metadata": {},
   "source": [
    " 注：\n",
    "1. 这个例子与前面修改可变对象值是不一样的\n",
    "    - 可变对象与不可对象概念的前提是：修改对象在内存中的值时是否会生成新对象、内存地址是否会改变等来分类的\n",
    "        - <font color=red>\"修改对象在内存中的值\"：是在对象值本身上进行的操作，是对值的一种修改</font>\n",
    "\n",
    "2. 而这个例子中的data + [\"a\"]，不是对对象值的操作(不是修改值)，而是返回一个新的对象，是生成了一个新的对象(值)并将其赋值给变量newData\n",
    "    - 序列拼接：返回一个新的序列，方法本身就会返回一个修改后的新序列\n",
    "        - 是一种赋值操作(产生新对象并将其赋值给一个变量)\n",
    "    - 新定义的变量与原变量指向两个不同的对象，它们之间肯定不会有关系\n",
    "\n",
    "3. **<font color=red>可变对象与不可对象的前提是：修改对象自身值</font>**\n",
    "    - 如果某个操作是返回一个新对象、新定义一个变量(不涉及对象值的修改)是不涉及可变对象与不可变对象的\n",
    "    - 返回一个新对象、新定义一个变量：不管操作的是可变对象还是不可变对象，新对象和原对象肯定是两个不同的对象\n",
    "    - **<font color=red>一定要注意：改变变量值和重新赋值的区别</font>**\n",
    "\n",
    "4. **<font color=red>只要涉及到修改对象值(内存地址中的值)时就需要留意可变对象与不可变对象</font>**\n",
    "    - 特别是可变对象，修改其值后可能会影响到其他的\n",
    "    - **<font color=red>修改对象值(内存地址中的值)肯定是在对象本身上进行操作的，不会有返回值(返回值为None)</font>**\n",
    "\n",
    "5. **<font color=red>如果是进行赋值操作(返回一个新对象)、不涉及到修改对象值的话，就完全不需要考虑可变对象和不可变对象了</font>**\n",
    "    - 新定义一个变量、返回一个新对象，肯定是新开辟一个内存地址来存放值，是独立的一个对象，不会影响到其他对象"
   ]
  },
  {
   "cell_type": "markdown",
   "id": "6138075d",
   "metadata": {},
   "source": [
    "![jupyter](./images/可变对象与不可变对象fig6.png) "
   ]
  },
  {
   "cell_type": "markdown",
   "id": "23a71160",
   "metadata": {},
   "source": [
    "# python中的赋值"
   ]
  },
  {
   "cell_type": "markdown",
   "id": "f56295c1",
   "metadata": {},
   "source": [
    "1. 前面介绍了可变对象与不可变对象在修改其对象值时的区别以及其逻辑\n",
    "    - 那在使用可变对象或不可变对象时我们需要注意什么呢？\n",
    "    - 在哪些场景下需要注意呢？\n",
    "\n",
    "2. **<font color=red>Python中同一个对象是可以指向多个变量名的</font>**\n",
    "    ⑴将一个对象(值)赋值给多个变量\n",
    "\n",
    "3. 当我们写：a = 'ABC'时，Python解释器干了两件事情：\n",
    "    - 在内存中创建了一个'ABC'的字符串(对象)\n",
    "    - 在内存中创建了一个名为a的变量，并把它指向'ABC'\n",
    "    - 也可以继续把变量a赋值给另一个变量b(a=b)，这个操作实际上是把变量b指向变量a所指向的数据(值)\n",
    "\n",
    "4. 不管变量值是可变对象还是不可变对象：将同一个对象赋值给多个变量都可以使用下图表示\n",
    "    - 因此执行a=b时：是将变量名a、b指向同一个对象\n",
    "        - 而不是说将对象复制一份后指向b\n",
    "        - Python中赋值语句总是创建对象的引用，而不是复制对象\n"
   ]
  },
  {
   "cell_type": "code",
   "execution_count": 16,
   "id": "9eae27c1",
   "metadata": {},
   "outputs": [
    {
     "name": "stdout",
     "output_type": "stream",
     "text": [
      "原对象的id为： 140564215059880\n",
      "新对象的id为： 140564215059880\n",
      "原对象的id为： 140563871180488\n",
      "新对象的id为： 140563871180488\n"
     ]
    }
   ],
   "source": [
    "# 例8：\n",
    "#将不可变对象赋值给其他变量\n",
    "data = \"hello\"\n",
    "newData = data\n",
    "print(\"原对象的id为：\",id(data))\n",
    "print(\"新对象的id为：\",id(newData))\n",
    "\n",
    "# 将可变对象赋值给其他变量\n",
    "data1 = [1,2,3,4]\n",
    "newData1 = data1\n",
    "print(\"原对象的id为：\",id(data1))\n",
    "print(\"新对象的id为：\",id(newData1))\n"
   ]
  },
  {
   "cell_type": "markdown",
   "id": "d7e8030a",
   "metadata": {},
   "source": [
    "注：**<font color=red>将同一个对象赋值给多个变量时：始终只有一个对象，只是对应的变量名不一致</font>**\n",
    "  ⑴不同的变量引用的是同一个对象：对象id值一样"
   ]
  },
  {
   "cell_type": "markdown",
   "id": "4a6d7cc6",
   "metadata": {},
   "source": [
    "## 修改不可变对象"
   ]
  },
  {
   "cell_type": "markdown",
   "id": "96a63645",
   "metadata": {},
   "source": [
    "1. **<font color=red>不可变对象：对象在内存中的值不能被改变</font>**\n",
    "\n",
    "2. 在修改不可变对象值时为：新生成一个修改后的对象，然后将变量名指向新生成的对象\n",
    "    - 两个对象的id值不一致，不是同一个对象"
   ]
  },
  {
   "cell_type": "code",
   "execution_count": 17,
   "id": "4b5edd68",
   "metadata": {},
   "outputs": [
    {
     "name": "stdout",
     "output_type": "stream",
     "text": [
      "原对象的id为： 140564215059880\n",
      "新对象的id为： 140564215059880\n",
      "原数据为： hello\n",
      "新数据为： hello world\n",
      "原对象的id为： 140564215059880\n",
      "新对象的id为： 140563871622896\n"
     ]
    }
   ],
   "source": [
    "# 例9：\n",
    "\n",
    "data = \"hello\"\n",
    "# 将不可变对象赋值给其他变量\n",
    "newData = data\n",
    "print(\"原对象的id为：\",id(data))\n",
    "print(\"新对象的id为：\",id(newData))\n",
    " \n",
    "# 修改其中一个变量\n",
    "newData = newData + \" world\"\n",
    "print(\"原数据为：\",data)\n",
    "print(\"新数据为：\",newData)\n",
    "print(\"原对象的id为：\",id(data))\n",
    "print(\"新对象的id为：\",id(newData))"
   ]
  },
  {
   "cell_type": "markdown",
   "id": "2f444edf",
   "metadata": {},
   "source": [
    "注：当执行\"newData = data\"时，就相当于是变量newData、data都指向了同一个内存地址(多个指向一个)"
   ]
  },
  {
   "cell_type": "markdown",
   "id": "132a1dec",
   "metadata": {},
   "source": [
    "    - 即使一开始它们是指向同一个内存地址的\n",
    "    - 但由于为不可变对象：当变量newData值变化时，就重新开辟了一块内存地址来存新值，变量newData指向这个新地址\n",
    "    - 变量data始终指向旧值\n",
    "    - 所以newData、data间就没关系了，不会相互影响"
   ]
  },
  {
   "cell_type": "markdown",
   "id": "5eac0ea6",
   "metadata": {},
   "source": [
    "![jupyter](./images/可变对象与不可变对象fig7.png) "
   ]
  },
  {
   "cell_type": "markdown",
   "id": "96378a25",
   "metadata": {},
   "source": [
    "注：\n",
    "\n",
    "1. 对不可变对象来说：不管是修改原数据还是新数据，都不会影响到对方\n",
    "    - 两个对象之间无任何联系\n",
    "\n",
    "2. 也就是说：将同一个不可变对象赋值给不同的变量后\n",
    "    - 不管我们操作哪一个变量、不管如何操作**<font color=red>(修改值)</font>**，都不会对另一个变量及其值产生影响\n",
    "    - 所以在这种场景下对于不可变对象可以放心操作，不需要担心改变其对象值会影响到其他\n"
   ]
  },
  {
   "cell_type": "markdown",
   "id": "ac9e15b2",
   "metadata": {},
   "source": [
    "## 修改可变对象"
   ]
  },
  {
   "cell_type": "markdown",
   "id": "0d8a2134",
   "metadata": {},
   "source": [
    "1. **<font color=red>可变对象：对象在内存中的值可以被改变</font>**\n",
    "\n",
    "2. 在修改可变对象值时为：直接在原对象上修改(不会新生成一个对象)\n",
    "    - 多个变量始终指向的是同一个对象"
   ]
  },
  {
   "cell_type": "code",
   "execution_count": 20,
   "id": "f4a658b8",
   "metadata": {},
   "outputs": [
    {
     "name": "stdout",
     "output_type": "stream",
     "text": [
      "原对象的id为： 140564215670920\n",
      "新对象的id为： 140564215670920\n",
      "原数据为： ['mouse', 2, 3, 4]\n",
      "新数据为： ['mouse', 2, 3, 4]\n",
      "原对象的id为： 140564215670920\n",
      "新对象的id为： 140564215670920\n"
     ]
    }
   ],
   "source": [
    "# 例10：\n",
    "data = [1,2,3,4]\n",
    "# 将可变对象赋值给其他变量\n",
    "newData = data\n",
    "print(\"原对象的id为：\",id(data))\n",
    "print(\"新对象的id为：\",id(newData))\n",
    " \n",
    "# 修改其中一个变量\n",
    "newData[0] = \"mouse\"\n",
    "print(\"原数据为：\",data)\n",
    "print(\"新数据为：\",newData)\n",
    "print(\"原对象的id为：\",id(data))\n",
    "print(\"新对象的id为：\",id(newData))"
   ]
  },
  {
   "cell_type": "markdown",
   "id": "3be1e184",
   "metadata": {},
   "source": [
    "注：当执行\"newData = data\"时，就相当于是变量newData、data都指向了同一个内存地址(多个指向一个)"
   ]
  },
  {
   "cell_type": "markdown",
   "id": "ab858a93",
   "metadata": {},
   "source": [
    "1. 即使一开始它们是指向同一个内存地址的\n",
    "2. 但由于为可变对象：当变量newData值变化时，直接在原来的内存地址上改变**<font color=red>(内存地址不变、但里面的值变了)</font>**\n",
    "3. 变量newData、data依旧**<font color=red>指向这个内存地址</font>**，因此data的值也就跟着变化了 "
   ]
  },
  {
   "cell_type": "markdown",
   "id": "1d605fe5",
   "metadata": {},
   "source": [
    "![jupyter](./images/可变对象与不可变对象fig8.png) "
   ]
  },
  {
   "cell_type": "markdown",
   "id": "4cf5f823",
   "metadata": {},
   "source": [
    "注：\n",
    "\n",
    "1. **<font color=red>对可变对象来说：不管是修改原数据还是新数据，都会影响到对方</font>**\n",
    "    - 因为都是在同一个对象上修改的且均指向(引用)同一个对象\n",
    "\n",
    "2. 也就是说：将同一个可变对象赋值给不同的变量后\n",
    "    - 不管我们操作哪一个变量、不管如何操作**<font color=red>(修改值)</font>**，都会对另一个变量及其值产生影响\n",
    "    - 所以在这种场景下对于可变对象就需要小心操作了，说不定改变其对象值就影响到其他了\n",
    "\n",
    "3. 下面的场景可能更容易遇见，一定要注意\n"
   ]
  },
  {
   "cell_type": "code",
   "execution_count": 22,
   "id": "731b4f1a",
   "metadata": {},
   "outputs": [
    {
     "name": "stdout",
     "output_type": "stream",
     "text": [
      "未修改前，data的值及其内存地址： [] 140564215678792\n",
      "每次修改后，data的值及其内存地址： [2] 140564215678792\n",
      "每次修改后，data的值及其内存地址： [2, 3] 140564215678792\n",
      "每次修改后，data的值及其内存地址： [2, 3, 4] 140564215678792\n",
      "每次修改后，data的值及其内存地址： [2, 3, 4, 5] 140564215678792\n",
      "[2, 3, 4, 5]\n",
      "最终data的值及其内存地址： [2, 3, 4, 5] 140564215678792\n"
     ]
    }
   ],
   "source": [
    "# 例11：\n",
    "\"\"\"\n",
    "需求：将序列中的元素+1后全部一次性返回\n",
    "思路：遍历序列后，将+1后的数添加到一个列表中，最后整体返回这个列表\n",
    "\"\"\"\n",
    "data = []\n",
    "print(\"未修改前，data的值及其内存地址：\", data, id(data))\n",
    " \n",
    " \n",
    "def func():\n",
    "    for i in range(1, 5):\n",
    "        data.append(i + 1)\n",
    "        print(\"每次修改后，data的值及其内存地址：\", data, id(data))\n",
    "    return data\n",
    " \n",
    " \n",
    "print(func())\n",
    "print(\"最终data的值及其内存地址：\", data, id(data))"
   ]
  },
  {
   "cell_type": "markdown",
   "id": "ebc740c5",
   "metadata": {},
   "source": [
    "注：从上面代码的执行结果可以看出\n",
    "1. 每次进行for循环遍历后：将遍历出来的元素添加到列表中，变量data的内存地址始终是没有变的(始终是同一个内存地址)，有变化的仅仅是内存地址中存储的值\n",
    "    - 也就是说：**<font color=red>变量data的值的每次变化都是在上一次变化的基础上继续变化(都是在原列表上变化的)</font>**\n",
    "    - 当然，这种变化就是我们想要的：将遍历出来的值进行某些处理后，添加到一个列表中。**我们需要的就是值变化后的最后一个变量data(当然也是需要分清场景的)**\n"
   ]
  },
  {
   "cell_type": "code",
   "execution_count": 23,
   "id": "09c5b917",
   "metadata": {},
   "outputs": [
    {
     "name": "stdout",
     "output_type": "stream",
     "text": [
      "未修改前，dictData的值及其内存地址： {} 140564213478024\n",
      "未修改前，listData的值及其内存地址： [] 140563872219336\n",
      "修改后，dictData的值及其内存地址： {'A': 1} 140564213478024\n",
      "修改后，listData的值及其内存地址： [{'A': 1}] 140563872219336\n",
      "修改后，dictData的值及其内存地址： {'A': 2} 140564213478024\n",
      "修改后，listData的值及其内存地址： [{'A': 2}, {'A': 2}] 140563872219336\n",
      "最终dictData的值及其内存地址: {'A': 2} 140564213478024\n",
      "最终listData的值及其内存地址: [{'A': 2}, {'A': 2}] 140563872219336\n"
     ]
    }
   ],
   "source": [
    "# 例12：\n",
    "\"\"\"\n",
    "需求：将遍历出来的元素，组成一个字典，然后将组装好的字段整体添加到一个列表中\n",
    "\"\"\"\n",
    "listData = []\n",
    "dictData = {}\n",
    "print(\"未修改前，dictData的值及其内存地址：\", dictData, id(dictData))\n",
    "print(\"未修改前，listData的值及其内存地址：\", listData, id(listData))\n",
    " \n",
    "for i in range(1, 3):\n",
    "    dictData[\"A\"] = i\n",
    "    listData.append(dictData)\n",
    "    print(\"修改后，dictData的值及其内存地址：\", dictData, id(dictData))\n",
    "    print(\"修改后，listData的值及其内存地址：\", listData, id(listData))\n",
    " \n",
    "print(\"最终dictData的值及其内存地址:\", dictData, id(dictData))\n",
    "print(\"最终listData的值及其内存地址:\", listData, id(listData))"
   ]
  },
  {
   "cell_type": "markdown",
   "id": "5a94f2e1",
   "metadata": {},
   "source": [
    "注：从上面代码的执行结果可以看出\n",
    "\n",
    "1. 实际输出的列表的值与我们预期的结果是不一样的：我们预期的结果应该是[{'A': 1}, {'A': 2}]，但实际输出的是[{'A': 2}, {'A': 2}]\n",
    "\n",
    "2. 从打印的过程可以看出：第一次遍历后组装成字典并添加到列表中，这个过程是正确的。但是在经过第二次遍历后组装成字典并添加到列表中后，此时列表值就不是预期的了\n",
    "    - 当经过第一次循环后，dictData = {'A': 1}，listData=[{'A': 1}]\n",
    "    - 当经过第二次循环时，**<font color=red>依旧是在同一个dictData字典(字典id值一样)上进行的</font>**\n",
    "        - 此时执行dictData[\"A\"] = i(i=2)操作时，由于此时dictData = {'A': 1}中已经有名为\"A\"的键了\n",
    "        - 因此只是将其值更新为{'A': 2}，并将其添加到listData列表中\n",
    "     - **<font color=red>又字典是可变对象：内存地址、变量指针(引用)均不变，但内存地址里面的值变了</font>**\n",
    "        - 此时dictData字典所指向的内存地址不变，但地址里面存储的值已经变为了{'A': 2}\n",
    "        - 由于第一次循环结果的**<font color>listData列表引用了这个dictData字典(内存地址)作为元素</font>**(此时字典所指向的值已经变了)\n",
    "        - 因此会将第一次循环结果[{'A': 1}]中的字典值变为[{'A': 2}]，列表中字典所引用的值变了\n",
    "    - 因此最终结果为[{'A': 2}, {'A': 2}]\n"
   ]
  },
  {
   "cell_type": "code",
   "execution_count": 24,
   "id": "649fcc7f",
   "metadata": {},
   "outputs": [
    {
     "name": "stdout",
     "output_type": "stream",
     "text": [
      "未修改前，listData的值及其内存地址： [] 140564349567368\n",
      "修改后，dictData的值及其内存地址： {'A': 1} 140564349439504\n",
      "修改后，listData的值及其内存地址： [{'A': 1}] 140564349567368\n",
      "修改后，dictData的值及其内存地址： {'A': 2} 140564213478024\n",
      "修改后，listData的值及其内存地址： [{'A': 1}, {'A': 2}] 140564349567368\n",
      "最终listData的值及其内存地址: [{'A': 1}, {'A': 2}] 140564349567368\n"
     ]
    }
   ],
   "source": [
    "\n",
    "# 例13：解决办法\n",
    "\"\"\"\n",
    "需求：将遍历出来的元素，组成一个字典，然后将组装好的字段整体添加到一个列表中\n",
    "\"\"\"\n",
    "listData = []\n",
    "print(\"未修改前，listData的值及其内存地址：\", listData, id(listData))\n",
    " \n",
    "for i in range(1, 3):\n",
    "    dictData = {}\n",
    "    dictData[\"A\"] = i\n",
    "    listData.append(dictData)\n",
    "    print(\"修改后，dictData的值及其内存地址：\", dictData, id(dictData))\n",
    "    print(\"修改后，listData的值及其内存地址：\", listData, id(listData))\n",
    " \n",
    "print(\"最终listData的值及其内存地址:\", listData, id(listData))\n"
   ]
  },
  {
   "cell_type": "markdown",
   "id": "7dbecd87",
   "metadata": {},
   "source": [
    "注：\n",
    "\n",
    "1. 解决办法：\n",
    "    - **<font color=red>将空字典定义在循环内：每次循环时生成一个新的、不同的字典，这些生成的字典id值不一致(不是同一个字典对象)，只是指向的值相同(都为空)</font>**\n",
    "\n",
    "2. 可以看到每次生成的新字典的id值是不一样的：这样每次进行dict[\"A\"] = i操作时，都是在不同的字典上进行的，进而字典键就不会相互影响\n"
   ]
  },
  {
   "cell_type": "code",
   "execution_count": 28,
   "id": "68f49940",
   "metadata": {},
   "outputs": [
    {
     "name": "stdout",
     "output_type": "stream",
     "text": [
      "140563877602936\n",
      "140563877604088\n",
      "140563877604880\n",
      "[{'code': 'AAA', 'value': 'BBB'}, {'code': 'CCC', 'value': 'DDD'}, {'code': 'EEE', 'value': 'FFF'}]\n"
     ]
    }
   ],
   "source": [
    "# 例13：\n",
    "data = [{'CODE': 'aaa', 'VALUE': 'bbb'}, {'CODE': 'ccc', 'VALUE': 'ddd'}, {'CODE': \"eee\", 'VALUE': 'fff'}]\n",
    " \n",
    "def func(data):\n",
    "    data_list = []\n",
    "    for each_data in data:\n",
    "        data_dict = {}\n",
    "        # 打印当前新字典的内存地址\n",
    "        print(id(data_dict))\n",
    "        for key, value in each_data.items():\n",
    "            # 将字典的键变为小写后添加到新字典中去\n",
    "            data_dict[key.lower()] = value.upper()\n",
    "        # 将新生成的字典添加到列表中去\n",
    "        data_list.append(data_dict)\n",
    "    # 最后统一返回大列表\n",
    "    return data_list\n",
    " \n",
    "res = func(data)\n",
    "print(res)\n",
    " "
   ]
  },
  {
   "cell_type": "markdown",
   "id": "0e058e1a",
   "metadata": {},
   "source": [
    "注：\n",
    "\n",
    "1. 容器类数据指的是：列表、元组、字典、集合等类型数据，用于存放一些数据(元素)的数据\n",
    "\n",
    "2. 这些容器类数据在计算机内存中并不是整个存放的\n",
    "    - **<font color=red>容器对象和元素对象不是整个一起存放在一个内存地址中的</font>**\n",
    "    - **<font color=red>而是分开存放的：容器与元素分开存放的，存在不同的内存地址中</font>**\n",
    "\n",
    "3. **<font color=red>只要涉及到修改对象值(内存地址中的值)时就需要留意可变对象与不可变对象</font>**\n",
    "    - 特别是可变对象，修改其值后可能会影响到其他的\n",
    "    - 修改对象值(内存地址中的值)肯定是在对象本身上进行操作的，不会有返回值(返回值为None)\n",
    "\n",
    "4. **<font color=red>如果是进行赋值操作(定义变量)、返回一个新对象，不涉及到修改对象值(内存地址中的值)的话，就完全不需要考虑可变对象和不可变对象了</font>**\n",
    "    - 新定义一个变量、返回一个新对象，肯定是新开辟一个内存地址来存放值，是独立的一个对象，不会影响到其他对象"
   ]
  },
  {
   "cell_type": "markdown",
   "id": "9ab82986",
   "metadata": {},
   "source": [
    "![jupyter](./images/可变对象与不可变对象fig9.png) "
   ]
  },
  {
   "cell_type": "markdown",
   "id": "ccea2b08",
   "metadata": {},
   "source": [
    "# Python函数参数的传递"
   ]
  },
  {
   "cell_type": "markdown",
   "id": "a58f0108",
   "metadata": {},
   "source": [
    "1. 所有的语言都有函数，函数有输入和输出，输入的部分就会涉及到参数的传递\n",
    "    - 但不同的语言，对如何传递参数的模式有一些不同的实现方式\n",
    "\n",
    "2. Python中的参数可以分为两类：形式参数和实际参数\n",
    "    - **<font color=red>形式参数：</font>** 简称形参，在定义函数时，函数名后面小括号中自定义的参数\n",
    "        - 也就是在函数体中用于代替某些值的变量\n",
    "        - 形参又可以分为：位置参数、默认参数、可变参数\n",
    "    - **<font color=red>实际参数：</font>** 简称实参，在调用函数时，函数名后面小括号中传入的参数值\n",
    "        - 也就是调用函数时实际传入的值，用于代替形参的值    \n",
    "\n",
    "3. 在Python中，一切皆对象。Python的数据类型可分为：不可变对象和可变对象\n",
    "    - **<font color=red>可以向函数的形参传入任意类型的实参(只要函数功能支持)</font>**\n",
    "\n",
    "4. 在Python变量的赋值，只是表示让变量指向了某个对象，并不表示拷贝对象给变量\n",
    "    - 一个对象，可以被多个变量所指向\n",
    "\n",
    "5. **<font color=red>函数形参传值类似于变量赋值：参数传递时，只是让形参指向某个对象(给形参赋值)</font>**\n",
    "    - 形参指向实参所指向的对象(值)"
   ]
  },
  {
   "cell_type": "markdown",
   "id": "4269ddb8",
   "metadata": {},
   "source": [
    "## 传递不可变对象"
   ]
  },
  {
   "cell_type": "markdown",
   "id": "811efa1e",
   "metadata": {},
   "source": [
    "1. **<font color=red>传递不可变对象：类似c++的值传递</font>**\n",
    "    - 不可变对象：数字、字符串、元组\n",
    "    - 注意：这里说的是类似c++的值传递\n",
    "\n",
    "2. **<font color=red>值传递：实参传递给形参的是值，实参和形参在内存上是两个独立的变量，修改形参不会对实参产生影响</font>**"
   ]
  },
  {
   "cell_type": "code",
   "execution_count": 30,
   "id": "bf29599d",
   "metadata": {},
   "outputs": [
    {
     "name": "stdout",
     "output_type": "stream",
     "text": [
      "执行函数后形参的值为： 12 10914848\n",
      "实参的值为： 2 10914528\n"
     ]
    }
   ],
   "source": [
    "# 例14：\n",
    "def function(y):\n",
    "    y = y + 10\n",
    "    return y\n",
    " \n",
    "x = 2\n",
    "y = function(x)\n",
    "print(\"执行函数后形参的值为：\",y,id(y))\n",
    "print(\"实参的值为：\",x,id(x))\n"
   ]
  },
  {
   "cell_type": "markdown",
   "id": "3a6b60d7",
   "metadata": {},
   "source": [
    "注：\n",
    "\n",
    "1. 参数传递：使变量x和y同时指向了2这个对象\n",
    "    - 但当执行到y = y + 10时，由于对象为不可变对象，因此系统会重新创建一个值为12的新对象，并让y指向它\n",
    "    - 而x仍然指向2这个对象。所以，x的值不变，仍然为2\n",
    "\n",
    "2. 参数为不可变对象时，传递给函数的值相当于只是一个复制出来的，即使在函数体内修改了值，但依旧对函数体外的值没有影响\n",
    "\n",
    "3. **<font color=red>Python参数传递采用的是\"传对象引用\"的方式。</font>** 这种方式相当于传值和传引用的一种综合\n",
    "    - 如果函数收到的是一个不可变对象的引用，那么**<font color=red>在函数体内修改了值，对函数体外的值没有影响</font>**\n",
    "    - 相当于通过\"传值\"来传递对象，这一点跟c++的值传递类似，因此才有了\"传递不可变对象类似c++的值传递\"\n",
    "\n",
    "4. 整个函数执行过程可以使用下图表示："
   ]
  },
  {
   "cell_type": "markdown",
   "id": "0b52b4ac",
   "metadata": {},
   "source": [
    "![jupyter](./images/可变对象与不可变对象fig10.png) "
   ]
  },
  {
   "cell_type": "markdown",
   "id": "32352bac",
   "metadata": {},
   "source": [
    "## 传递可变对象"
   ]
  },
  {
   "cell_type": "markdown",
   "id": "a6f0025a",
   "metadata": {},
   "source": [
    "1. 可变对象：类似c++的引用传递，也称地址传递\n",
    "    - 可变对象：列表、字典、集合\n",
    "    - 注意：这里说的是类似c++的引用传递\n",
    "\n",
    "2. 引用传递：实参传递给形参的是引用(传的是地址，而不是参数的值)，实参和形参在内存上指向内存中的同一个对象，修改形参会对实参产生影响\n",
    "    - 在函数执行中，对形式参数的操作实际上就是对实际参数的操作，方法执行中形式参数值的改变将会影响实际参数的值\n"
   ]
  },
  {
   "cell_type": "code",
   "execution_count": 31,
   "id": "87582e2a",
   "metadata": {},
   "outputs": [
    {
     "name": "stdout",
     "output_type": "stream",
     "text": [
      "执行函数后形参的值为： [1, 2, 3, 'a'] 140563871253448\n",
      "实参的值为： [1, 2, 3, 'a'] 140563871253448\n"
     ]
    }
   ],
   "source": [
    "# 例15：\n",
    "def function(y):\n",
    "    y.append(\"a\")\n",
    "    return y\n",
    " \n",
    "x = [1, 2, 3]\n",
    "y = function(x)\n",
    "print(\"执行函数后形参的值为：\",y,id(y))\n",
    "print(\"实参的值为：\",x,id(x))"
   ]
  },
  {
   "cell_type": "markdown",
   "id": "f0886141",
   "metadata": {},
   "source": [
    "注：\n",
    "1. 参数传递：使变量x和y同时指向了[1, 2, 3]这个对象\n",
    "    - 但当执行到y.append(\"a\")时，由于对象为可变对象，因此系统会直接在原内存地址上修改值(内存地址不变，但值变了)\n",
    "    - 此时变量x、y依旧指向这个内存地址，因此变量x、y的值会同时变化(始终是同一个对象，内存地址)\n",
    "\n",
    "2. Python参数传递采用的是\"传对象引用\"的方式。这种方式相当于传值和传引用的一种综合\n",
    "    - 如果函数收到的是一个可变对象的引用，那么在**<font color=red>函数体内修改了值</font>**，那么函数体外的值也会受到影响\n",
    "    - 相当于通过\"传引用\"来传递对象，这一点跟c++的引用传递类似，因此才有了\"传递可变对象类似c++的值引用传递\"\n",
    "\n",
    "3. 整个函数执行过程可以使用下图表示："
   ]
  },
  {
   "cell_type": "markdown",
   "id": "b74af55c",
   "metadata": {},
   "source": [
    "![jupyter](./images/可变对象与不可变对象fig11.png) "
   ]
  },
  {
   "cell_type": "code",
   "execution_count": 32,
   "id": "c8f12487",
   "metadata": {},
   "outputs": [
    {
     "name": "stdout",
     "output_type": "stream",
     "text": [
      "[10, 'a'] [123] [10, 'a']\n"
     ]
    }
   ],
   "source": [
    "# 例16：\n",
    "def function(number, list=[]):\n",
    "    list.append(number)\n",
    "    return list\n",
    " \n",
    "list_1 = function(10)\n",
    "list_2 = function(123, [])  # 此处空列表的作用为初始化列表\n",
    "list_3 = function(\"a\")\n",
    "print(list_1, list_2, list_3)  # 全部执行完后再打印结果"
   ]
  },
  {
   "cell_type": "code",
   "execution_count": 33,
   "id": "543964aa",
   "metadata": {},
   "outputs": [
    {
     "name": "stdout",
     "output_type": "stream",
     "text": [
      "[1]\n",
      "[1, 2]\n",
      "[1, 2, 3]\n"
     ]
    }
   ],
   "source": [
    "def function(number, list=[]):\n",
    "    list.append(number)\n",
    "    print(list)  # 先执行第一个并打印结果，再执行第二个并打印结果\n",
    " \n",
    "function(1)\n",
    "function(2)\n",
    "function(3)"
   ]
  },
  {
   "cell_type": "markdown",
   "id": "6f3a8cec",
   "metadata": {},
   "source": [
    "注：之所以出现上面的情况是因为\n",
    "\n",
    "1. Python函数在定义的时候，默认参数list的值就被计算出来了，即[]，此时list指向[ ]\n",
    "    - 所以如果list中的内容改变了，下次调用引用的内容也就不再是[ ]了,而是新生成的list\n",
    "    - **<font color=red>所以要牢记一点定义函数默认参数必须指向不可变对象，也最好不好向函数参数传递可变参数(传了可变参数也不要在函数体内修改对象值)</font>**\n",
    "\n",
    "2. python中的\"def\"语句是可执行的，而且默认参数是在\"def\"语句的环境下求值的\n",
    "    - 如果\"def\"语句执行了多次，那么它每次将产生新的函数对象（对象会带着全新的默认值）\n",
    "\n",
    "3. **<font color=red>若必须使用可变对象作为函数的默认参数，又要避免上面出现的情况则我们可以使用占位符来代替默认值，None是一个常用的值</font>**"
   ]
  },
  {
   "cell_type": "code",
   "execution_count": 34,
   "id": "bd1ee31c",
   "metadata": {},
   "outputs": [
    {
     "name": "stdout",
     "output_type": "stream",
     "text": [
      "[10] [123] ['a']\n"
     ]
    }
   ],
   "source": [
    "# 例18：解决办法\n",
    "def function(number,list = None):\n",
    "    if list == None:\n",
    "        list = []\n",
    "    list.append(number)\n",
    "    return list\n",
    " \n",
    "list_1 = function(10)\n",
    "list_2 = function(123,[])\n",
    "list_3 = function(\"a\")\n",
    "print(list_1,list_2,list_3)"
   ]
  },
  {
   "cell_type": "code",
   "execution_count": 35,
   "id": "ef46a32a",
   "metadata": {},
   "outputs": [
    {
     "name": "stdout",
     "output_type": "stream",
     "text": [
      "执行函数后形参的值为： [1, 2, 3, 'a'] 140563872375624\n",
      "实参的值为： [1, 2, 3] 140563874381320\n"
     ]
    }
   ],
   "source": [
    "# 例19：重新赋值\n",
    "def function(y):\n",
    "    y = y + [\"a\"]\n",
    "    return y\n",
    " \n",
    "x = [1, 2, 3]\n",
    "y = function(x)\n",
    "print(\"执行函数后形参的值为：\",y,id(y))\n",
    "print(\"实参的值为：\",x,id(x))"
   ]
  },
  {
   "cell_type": "markdown",
   "id": "87e2e2fe",
   "metadata": {},
   "source": [
    "注：\n",
    "1. 这个例子与前面修改可变对象值是不一样的\n",
    "    - 可变对象与不可对象是根据：修改对象在内存中的值时是否会生成新对象、内存地址是否会改变等来分类的\n",
    "        - **<font color=red>\"修改对象在内存中的值\"：是在对象值本身上进行的操作，是对值的一种修改</font>**\n",
    "\n",
    "2. 而这个例子中的y + [\"a\"]，不是对对象值的操作(不是修改值)，而是返回一个新的对象，是生成了一个新的对象(值)并将其赋值给变量y\n",
    "    - **<font color=red>序列拼接：返回一个新的序列，方法本身就会返回一个修改后的新序列</font>**\n",
    "        - 是一种赋值操作(产生新对象并将其赋值给一个变量)\n",
    "    - 新定义的变量与原变量指向两个不同的对象，它们之间肯定不会有关系\n",
    "\n",
    "3. **<font color=red>可变对象与不可对象的前提是：修改对象自身值</font>**\n",
    "    - 如果某个操作是返回一个新对象、新定义一个变量(不涉及对象值的修改)是不涉及可变对象与不可变对象的\n",
    "    - 返回一个新对象、新定义一个变量：不管操作的是可变对象还是不可变对象，新对象和原对象肯定是两个不同的对象，相互不会影响\n",
    "    - 一定要注意：改变变量值和重新赋值的区别\n",
    "\n",
    "4. 只要涉及到修改对象值(内存地址中的值)时就需要留意可变对象与不可变对象\n",
    "    - 特别是可变对象，修改其值后可能会影响到其他的\n",
    "    - **<font color=red>修改对象值(内存地址中的值)肯定是在对象本身上进行操作的，不会有返回值(返回值为None)</font>**\n",
    "\n",
    "5. **<font color=red>如果是进行赋值操作(返回一个新对象)、不涉及到修改对象值的话，就完全不需要考虑可变对象和不可变对象了</font>**\n",
    "    - 新定义一个变量、返回一个新对象，肯定是新开辟一个内存地址来存放值，是独立的一个对象，不会影响到其他对象"
   ]
  },
  {
   "cell_type": "markdown",
   "id": "56e10fcb",
   "metadata": {},
   "source": [
    "![jupyter](./images/可变对象与不可变对象fig12.png) "
   ]
  },
  {
   "cell_type": "markdown",
   "id": "eea6fb66",
   "metadata": {},
   "source": [
    "# 拓展"
   ]
  },
  {
   "cell_type": "markdown",
   "id": "50d0676a",
   "metadata": {},
   "source": [
    "## 修改不可变对象"
   ]
  },
  {
   "cell_type": "markdown",
   "id": "62389926",
   "metadata": {},
   "source": [
    "1. 数字、字符串、元组未不可变对象：即在变量值本身上是不能进行修改、删除的\n",
    "\n",
    "2. 列表、字典、集合为可变对象：即在变量值本身上是可以进行修改、删除的\n",
    "\n",
    "3. 若我们需要修改不可变对象的值该怎么办呢？可以视情况采用下面两种办法\n",
    "    - 重新赋值\n",
    "    - 将不可变对象转为可变对象后进行操作"
   ]
  },
  {
   "cell_type": "code",
   "execution_count": 37,
   "id": "b8058afc",
   "metadata": {},
   "outputs": [
    {
     "ename": "TypeError",
     "evalue": "'str' object does not support item assignment",
     "output_type": "error",
     "traceback": [
      "\u001b[0;31m---------------------------------------------------------------------------\u001b[0m",
      "\u001b[0;31mTypeError\u001b[0m                                 Traceback (most recent call last)",
      "\u001b[0;32m<ipython-input-37-28d486fce05c>\u001b[0m in \u001b[0;36m<module>\u001b[0;34m\u001b[0m\n\u001b[1;32m      1\u001b[0m \u001b[0;31m# 例20：\u001b[0m\u001b[0;34m\u001b[0m\u001b[0;34m\u001b[0m\u001b[0;34m\u001b[0m\u001b[0m\n\u001b[1;32m      2\u001b[0m \u001b[0mstring\u001b[0m \u001b[0;34m=\u001b[0m \u001b[0;34m\"hello,word\"\u001b[0m\u001b[0;34m\u001b[0m\u001b[0;34m\u001b[0m\u001b[0m\n\u001b[0;32m----> 3\u001b[0;31m \u001b[0mstring\u001b[0m\u001b[0;34m[\u001b[0m\u001b[0;36m1\u001b[0m\u001b[0;34m]\u001b[0m \u001b[0;34m=\u001b[0m \u001b[0;34m\"zh\"\u001b[0m\u001b[0;34m\u001b[0m\u001b[0;34m\u001b[0m\u001b[0m\n\u001b[0m\u001b[1;32m      4\u001b[0m \u001b[0;34m\u001b[0m\u001b[0m\n\u001b[1;32m      5\u001b[0m \u001b[0mprint\u001b[0m\u001b[0;34m(\u001b[0m\u001b[0mstring\u001b[0m\u001b[0;34m)\u001b[0m\u001b[0;34m\u001b[0m\u001b[0;34m\u001b[0m\u001b[0m\n",
      "\u001b[0;31mTypeError\u001b[0m: 'str' object does not support item assignment"
     ]
    }
   ],
   "source": [
    "# 例20：\n",
    "string = \"hello,word\"\n",
    "string[1] = \"zh\"\n",
    " \n",
    "print(string)\n",
    " \n",
    "\"\"\"\n",
    "TypeError: 'str' object does not support item assignment\n",
    "可以看到不可变对象是不能在在变量值上直接修改的\n",
    "\"\"\""
   ]
  },
  {
   "cell_type": "code",
   "execution_count": 38,
   "id": "e7b3fecc",
   "metadata": {},
   "outputs": [
    {
     "name": "stdout",
     "output_type": "stream",
     "text": [
      "['h', 'e', 'l', 'l', 'o', ',', 'w', 'o', 'r', 'd']\n",
      "hellozh,word\n"
     ]
    }
   ],
   "source": [
    "# 例21：\n",
    "string  = \"hello,word\"\n",
    "# 将字符串转为列表\n",
    "stringList = list(string)\n",
    "print(stringList)\n",
    "# ['h', 'e', 'l', 'l', 'o', ',', 'w', 'o', 'r', 'd']\n",
    "# 向列表指定位置添加元素，并将列表转为字符串\n",
    "stringList.insert(5,\"zh\")\n",
    "newString = \"\".join(stringList)\n",
    "print(newString)\n",
    "# hellozh,word"
   ]
  },
  {
   "cell_type": "code",
   "execution_count": null,
   "id": "0074f2f2",
   "metadata": {},
   "outputs": [],
   "source": []
  }
 ],
 "metadata": {
  "kernelspec": {
   "display_name": "Python 3",
   "language": "python",
   "name": "python3"
  },
  "language_info": {
   "codemirror_mode": {
    "name": "ipython",
    "version": 3
   },
   "file_extension": ".py",
   "mimetype": "text/x-python",
   "name": "python",
   "nbconvert_exporter": "python",
   "pygments_lexer": "ipython3",
   "version": "3.6.9"
  },
  "toc": {
   "base_numbering": 1,
   "nav_menu": {},
   "number_sections": true,
   "sideBar": true,
   "skip_h1_title": false,
   "title_cell": "Table of Contents",
   "title_sidebar": "Contents",
   "toc_cell": false,
   "toc_position": {},
   "toc_section_display": true,
   "toc_window_display": false
  }
 },
 "nbformat": 4,
 "nbformat_minor": 5
}
