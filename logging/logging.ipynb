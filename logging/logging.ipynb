{
 "cells": [
  {
   "cell_type": "markdown",
   "metadata": {},
   "source": [
    "# 预备知识"
   ]
  },
  {
   "cell_type": "markdown",
   "metadata": {},
   "source": [
    "## 什么是日志"
   ]
  },
  {
   "cell_type": "markdown",
   "metadata": {},
   "source": [
    "日志是一种可以追踪某些软件运行时所发生事件的方法。软件开发人员可以向他们的代码中调用日志记录相关的方法来表明发生了某些事情。一个事件可以用一个可包含可选变量数据的消息来描述。此外，事件也有重要性的概念，这个重要性也可以被称为严重性级别（level）。"
   ]
  },
  {
   "cell_type": "markdown",
   "metadata": {},
   "source": [
    "## 日志的等级|"
   ]
  },
  {
   "cell_type": "markdown",
   "metadata": {},
   "source": [
    "![level](./imgs/level.png)"
   ]
  },
  {
   "cell_type": "markdown",
   "metadata": {},
   "source": [
    "# logging的日志等级"
   ]
  },
  {
   "cell_type": "markdown",
   "metadata": {},
   "source": [
    "![level2](./imgs/levle2.png)"
   ]
  },
  {
   "cell_type": "markdown",
   "metadata": {},
   "source": [
    "该列表中的日志等级是从上到下依次增高，日志内容依次减少，即DEBUG可以显示所有日志，CRITICAL只能显示自己。例子如下："
   ]
  },
  {
   "cell_type": "code",
   "execution_count": 4,
   "metadata": {},
   "outputs": [
    {
     "name": "stderr",
     "output_type": "stream",
     "text": [
      "WARNING:root:warning_msg\n",
      "ERROR:root:error_msg\n",
      "CRITICAL:root:critical_msg\n"
     ]
    }
   ],
   "source": [
    "import logging\n",
    "\n",
    "logging.debug(\"debug_msg\")\n",
    "logging.info(\"info_msg\")\n",
    "logging.warning(\"warning_msg\")\n",
    "logging.error(\"error_msg\")\n",
    "logging.critical(\"critical_msg\")"
   ]
  },
  {
   "cell_type": "markdown",
   "metadata": {},
   "source": [
    "**<font color=red>说明默认的日志级别为WARNING</font>**"
   ]
  },
  {
   "cell_type": "markdown",
   "metadata": {},
   "source": [
    "# logging的使用方法"
   ]
  },
  {
   "cell_type": "markdown",
   "metadata": {},
   "source": [
    "## 常用函数"
   ]
  },
  {
   "cell_type": "markdown",
   "metadata": {},
   "source": [
    "![common_functions](./imgs/common_functions.png)"
   ]
  },
  {
   "cell_type": "markdown",
   "metadata": {},
   "source": [
    "**不推荐使用basicConfig对日志等级进行自我创作，因为会影响代码的移植性，代码在别人那里容易起冲突**"
   ]
  },
  {
   "cell_type": "markdown",
   "metadata": {},
   "source": [
    "## 使用方法"
   ]
  },
  {
   "cell_type": "markdown",
   "metadata": {},
   "source": [
    "**日志输出方法**"
   ]
  },
  {
   "cell_type": "code",
   "execution_count": 10,
   "metadata": {},
   "outputs": [],
   "source": [
    "logging.basicConfig(level=logging.DEBUG)#将日志的输出级别调节为debug\n",
    "logging.basicConfig(filename='demo.log',level=logging.DEBUG)#将日志的输出到demo.log文件中\n",
    "logging.basicConfig(filename='demo.log',filemote='w',level=logging.DEBUG)#先清空再写入，也可以设置为继续写"
   ]
  },
  {
   "cell_type": "markdown",
   "metadata": {},
   "source": [
    "**常用的输出（字符串格式化输出）**"
   ]
  },
  {
   "cell_type": "code",
   "execution_count": 11,
   "metadata": {},
   "outputs": [],
   "source": [
    "name = \"morvanli\"\n",
    "age = 27\n",
    "logging.debug(\"姓名 %s, 年龄%d\",name,age)\n",
    "# logging.debug(\"姓名 %s, 年龄%d\",% (name,age))\n",
    "logging.debug(\"姓名 {}, 年龄{}\".format(name,age))\n",
    "logging.debug(f\"姓名{name}, 年龄{age}\")"
   ]
  },
  {
   "cell_type": "markdown",
   "metadata": {},
   "source": [
    "# logger的高级应用"
   ]
  },
  {
   "cell_type": "markdown",
   "metadata": {},
   "source": [
    "## 相关组件"
   ]
  },
  {
   "cell_type": "markdown",
   "metadata": {},
   "source": [
    "![related_components](./imgs/related_components.png)"
   ]
  },
  {
   "cell_type": "markdown",
   "metadata": {},
   "source": [
    "### Handlers"
   ]
  },
  {
   "cell_type": "markdown",
   "metadata": {},
   "source": [
    "它们将日志分发到不同的目的地。可以是文件、标准输出、邮件、或者通过 socke、htt等协议发送到任何地方\n",
    "setFormatter():设置当前Handler对象使用的消息格式"
   ]
  },
  {
   "cell_type": "markdown",
   "metadata": {},
   "source": [
    "**Streamhandler(标准输出stout分发器)**"
   ]
  },
  {
   "cell_type": "code",
   "execution_count": 18,
   "metadata": {},
   "outputs": [],
   "source": [
    "sh = logging.StreamHandler(stream=None)"
   ]
  },
  {
   "cell_type": "markdown",
   "metadata": {},
   "source": [
    "**Filehandler(将日志保存到磁盘文件的处理器)**"
   ]
  },
  {
   "cell_type": "code",
   "execution_count": 19,
   "metadata": {},
   "outputs": [],
   "source": [
    "filename = 'log.log'\n",
    "fh = logging.FileHandler(filename=filename,mode='a',encoding=None,delay=False)"
   ]
  },
  {
   "cell_type": "markdown",
   "metadata": {},
   "source": [
    "**BaseRotatingHandler**"
   ]
  },
  {
   "cell_type": "markdown",
   "metadata": {},
   "source": [
    "**Rotating Filehandler(滚动的多日志输出，按照时间or其他方式去生成多个日志)**"
   ]
  },
  {
   "cell_type": "markdown",
   "metadata": {},
   "source": [
    "**TimedRotatingfilehandler**"
   ]
  },
  {
   "cell_type": "markdown",
   "metadata": {},
   "source": [
    "**<font color=red>以下的使用较少</font>**"
   ]
  },
  {
   "cell_type": "markdown",
   "metadata": {},
   "source": [
    "**Sockethandler**"
   ]
  },
  {
   "cell_type": "markdown",
   "metadata": {},
   "source": [
    "**Dataaramhandler**"
   ]
  },
  {
   "cell_type": "markdown",
   "metadata": {},
   "source": [
    "**Smtphandler**"
   ]
  },
  {
   "cell_type": "markdown",
   "metadata": {},
   "source": [
    "**Sysloghandler**"
   ]
  },
  {
   "cell_type": "markdown",
   "metadata": {},
   "source": [
    "**Nteventloghandler**"
   ]
  },
  {
   "cell_type": "markdown",
   "metadata": {},
   "source": [
    "**Httphandler**"
   ]
  },
  {
   "cell_type": "markdown",
   "metadata": {},
   "source": [
    "**WatchedFilehandler**"
   ]
  },
  {
   "cell_type": "markdown",
   "metadata": {},
   "source": [
    "**Qutelehandler**"
   ]
  },
  {
   "cell_type": "markdown",
   "metadata": {},
   "source": [
    "**Nullhandler**"
   ]
  },
  {
   "cell_type": "markdown",
   "metadata": {},
   "source": [
    "### Formatters格式"
   ]
  },
  {
   "cell_type": "markdown",
   "metadata": {},
   "source": [
    "![formatters](./imgs/formatters.png)"
   ]
  },
  {
   "cell_type": "markdown",
   "metadata": {},
   "source": [
    "## 举例"
   ]
  },
  {
   "cell_type": "code",
   "execution_count": 29,
   "metadata": {},
   "outputs": [
    {
     "name": "stderr",
     "output_type": "stream",
     "text": [
      "2022-07-23 13:47:27,119|   DEBUG|<ipython-input-29-14696f624259>42|姓名morvanli, 年龄27\n",
      "DEBUG:applog:姓名morvanli, 年龄27\n"
     ]
    }
   ],
   "source": [
    "import logging\n",
    "\n",
    "name = 'morvanli'\n",
    "age = 27\n",
    "# 记录器\n",
    "logger = logging.getLogger('applog')\n",
    "logger.setLevel(logging.DEBUG)\n",
    "# 必须设置为两个handler中级别更低的\n",
    "\n",
    "# 处理器handler\n",
    "consoleHandler = logging.StreamHandler()\n",
    "consoleHandler.setLevel(logging.DEBUG)\n",
    "\n",
    "# 没有给handler指定日志级别，将使用logger的级别\n",
    "fileHandler = logging.FileHandler(filename='addDemo.log')\n",
    "fileHandler.setLevel(logging.INFO)\n",
    "\n",
    "# formatter格式\n",
    "formatter = logging.Formatter(\"%(asctime)s|%(levelname)8s|%(filename)10s%(lineno)s|%(message)s\")\n",
    "# 里面的8，10实现了占位对齐\n",
    "\n",
    "# 给处理器设置格式\n",
    "consoleHandler.setFormatter(formatter)\n",
    "fileHandler.setFormatter(formatter)\n",
    "\n",
    "# 记录器要设置处理器\n",
    "logger.addHandler(consoleHandler)\n",
    "logger.addHandler(fileHandler)\n",
    "\n",
    "# 定义一个过滤器\n",
    "# flt = logging.Filter(\"cn.cccb\")\n",
    "\n",
    "\n",
    "# 关联过滤器\n",
    "# logger.addFilter(flt)\n",
    "# fileHandler.addFilter(flt)\n",
    "\n",
    "# 打印日志的代码\n",
    "# logging.debug()#不能使用这个了！！！会使用WARNING的版本，不会用之前的记录器\n",
    "# logger.debug(\"姓名 %s, 年龄%d\",name,age)\n",
    "# logger.debug(\"姓名 {}, 年龄{}\".format(name,age))\n",
    "logger.debug(f\"姓名{name}, 年龄{age}\")"
   ]
  },
  {
   "cell_type": "markdown",
   "metadata": {},
   "source": [
    "# 大型工程的配置文件（推荐！！！）"
   ]
  },
  {
   "cell_type": "code",
   "execution_count": 33,
   "metadata": {},
   "outputs": [
    {
     "name": "stdout",
     "output_type": "stream",
     "text": [
      "2022-07-23 20:48:41|   DEBUG|<ipython-input-33-041c1e786b98>[:8]|This is root Logger, debug\n"
     ]
    }
   ],
   "source": [
    "import logging.config\n",
    "\n",
    "logging.config.fileConfig('logging.conf')\n",
    "#使用字典就能从任意格式文件进行配置，字典是一种接口格式\n",
    "# logging.config.dictConfig({\"loggers\":\"root,applog\"})\n",
    "\n",
    "rootLogger = logging.getLogger('applog')\n",
    "rootLogger.debug(\"This is root Logger, debug\")\n",
    "\n",
    "logger = logging.getLogger('cn.cccb.applog')\n",
    "logger.debug(\"This is applog, debug\")\n",
    "a = 'abc'\n",
    "try:\n",
    "    int(a)\n",
    "except Exception as e:\n",
    "    logger.exception(e)"
   ]
  },
  {
   "cell_type": "markdown",
   "metadata": {},
   "source": [
    "## 日常使用更推荐的一种方式"
   ]
  },
  {
   "cell_type": "markdown",
   "metadata": {},
   "source": [
    "1. 前面的logger.conf\n",
    "2. 写一个get_logging.py"
   ]
  },
  {
   "cell_type": "code",
   "execution_count": 34,
   "metadata": {},
   "outputs": [],
   "source": [
    "import logging\n",
    "import logging.config\n",
    "\n",
    "def getLogging(confName = \"applog\"):\n",
    "    logging.config.fileConfig(\"logging.conf\")\n",
    "    return logging.getLogger(confName)"
   ]
  },
  {
   "cell_type": "markdown",
   "metadata": {},
   "source": [
    "3. 引用"
   ]
  },
  {
   "cell_type": "code",
   "execution_count": 35,
   "metadata": {},
   "outputs": [],
   "source": [
    "from get_logging import getLogging\n",
    "\n",
    "logger = getLogging()"
   ]
  },
  {
   "cell_type": "markdown",
   "metadata": {},
   "source": [
    "4. 输出"
   ]
  },
  {
   "cell_type": "code",
   "execution_count": null,
   "metadata": {},
   "outputs": [],
   "source": [
    "2022-07-23 20:55:29|   ERROR|logging-1.py[:14]|name 'a' is not defined\n",
    "Traceback (most recent call last):\n",
    "  File \"G:/BaiduNetdiskDownload/pythonTutorial/logging/logging-1.py\", line 12, in <module>\n",
    "    int(a)\n",
    "NameError: name 'a' is not defined"
   ]
  },
  {
   "cell_type": "code",
   "execution_count": null,
   "metadata": {},
   "outputs": [],
   "source": []
  }
 ],
 "metadata": {
  "kernelspec": {
   "display_name": "Python 3",
   "language": "python",
   "name": "python3"
  },
  "language_info": {
   "codemirror_mode": {
    "name": "ipython",
    "version": 3
   },
   "file_extension": ".py",
   "mimetype": "text/x-python",
   "name": "python",
   "nbconvert_exporter": "python",
   "pygments_lexer": "ipython3",
   "version": "3.8.3"
  },
  "toc": {
   "base_numbering": 1,
   "nav_menu": {},
   "number_sections": true,
   "sideBar": true,
   "skip_h1_title": false,
   "title_cell": "Table of Contents",
   "title_sidebar": "Contents",
   "toc_cell": false,
   "toc_position": {},
   "toc_section_display": true,
   "toc_window_display": true
  }
 },
 "nbformat": 4,
 "nbformat_minor": 4
}
