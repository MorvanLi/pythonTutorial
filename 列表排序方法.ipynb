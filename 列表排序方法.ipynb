{
 "cells": [
  {
   "cell_type": "markdown",
   "id": "4c28703c",
   "metadata": {},
   "source": [
    "# 基础排序"
   ]
  },
  {
   "cell_type": "markdown",
   "id": "5cc7f5ea",
   "metadata": {},
   "source": [
    "使用Python内置**sort()方法**用来排序，也可以用python内置的全局**sorted()方法**来对**<font color=red>可迭代的序列排序生成新的序列</font>**。"
   ]
  },
  {
   "cell_type": "markdown",
   "id": "924eb43a",
   "metadata": {},
   "source": [
    "## sorted()方法"
   ]
  },
  {
   "cell_type": "markdown",
   "id": "c04d5862",
   "metadata": {},
   "source": [
    "简单的升序排序是非常容易的。只需要调用sorted()方法。**<font color=red>它返回一个新的list</font>**，新的list的元素基于小于运算符(\\__lt__)来排序"
   ]
  },
  {
   "cell_type": "markdown",
   "id": "4a8debc9",
   "metadata": {},
   "source": [
    "**sorted()语法**"
   ]
  },
  {
   "cell_type": "code",
   "execution_count": null,
   "id": "89879f2c",
   "metadata": {},
   "outputs": [],
   "source": [
    "sorted(iterable, key=None, reverse=False)  #注在python2中该函数还有个cmp参数，不过在3中取消了\n",
    " \n",
    " \n",
    "参数：\n",
    " \n",
    "iterable -- 可迭代对象。\n",
    "cmp(了解)：用于比较的函数，比较什么由key决定;\n",
    "key -- 主要是用来进行比较的元素，只有一个参数。用列表元素的某个属性或函数作为关键字，有默认值，迭代集合中的一项(指定可迭代对象中的一个元素来进行排序。)\n",
    "reverse -- 排序规则，reverse = True 降序 ， reverse = False 升序（默认）。\n",
    " \n",
    "返回值：\n",
    " \n",
    "返回重新排序的列表。"
   ]
  },
  {
   "cell_type": "markdown",
   "id": "1b6bc398",
   "metadata": {},
   "source": [
    "**参数说明：**\n",
    "\n",
    "1. **cmp参数**(了解)：cmp接受一个函数，拿整形举例，形式为:"
   ]
  },
  {
   "cell_type": "code",
   "execution_count": 1,
   "id": "1cc2026d",
   "metadata": {},
   "outputs": [],
   "source": [
    "def f(a,b):\n",
    "     return a-b"
   ]
  },
  {
   "cell_type": "markdown",
   "id": "a79c7953",
   "metadata": {},
   "source": [
    "如果排序的元素是其他类型的，如果**a逻辑小于b，函数返回负数(-1)；a逻辑等于b，函数返回0；a逻辑大于b，函数返回正数(1)**就行了"
   ]
  },
  {
   "cell_type": "markdown",
   "id": "0848b358",
   "metadata": {},
   "source": [
    "2. **key参数：** key也是**接受一个函数**，不同的是，这个函数**只接受一个元素**,形式如下"
   ]
  },
  {
   "cell_type": "code",
   "execution_count": 2,
   "id": "2c936db2",
   "metadata": {},
   "outputs": [],
   "source": [
    "def f(a):\n",
    "     return len(a)"
   ]
  },
  {
   "cell_type": "markdown",
   "id": "ead79f15",
   "metadata": {},
   "source": [
    "**key接受的函数返回值，表示此元素的权值，sorted将按照权值大小进行排序**"
   ]
  },
  {
   "cell_type": "markdown",
   "id": "6ffd231c",
   "metadata": {},
   "source": [
    "3. **1reverse参数：** 接受False 或者True 表示是否逆序"
   ]
  },
  {
   "cell_type": "markdown",
   "id": "0ccf0ed9",
   "metadata": {},
   "source": [
    "## 简单排序\n"
   ]
  },
  {
   "cell_type": "code",
   "execution_count": 4,
   "id": "fb06d4bf",
   "metadata": {},
   "outputs": [
    {
     "name": "stdout",
     "output_type": "stream",
     "text": [
      "[1, 2, 3, 4, 5] [5, 2, 3, 1, 4]\n"
     ]
    }
   ],
   "source": [
    "# 例1:\n",
    "list = [5, 2, 3, 1, 4]\n",
    " \n",
    "new_list = sorted(list)\n",
    " \n",
    "print(new_list,list)"
   ]
  },
  {
   "cell_type": "code",
   "execution_count": 5,
   "id": "9c6e4fe4",
   "metadata": {},
   "outputs": [
    {
     "name": "stdout",
     "output_type": "stream",
     "text": [
      "[5, 4, 3, 2, 1] [5, 2, 3, 1, 4]\n"
     ]
    }
   ],
   "source": [
    "# 例1_1:\n",
    "list = [5, 2, 3, 1, 4]\n",
    " \n",
    "new_list = sorted(list,reverse = True)\n",
    " \n",
    "print(new_list,list)"
   ]
  },
  {
   "cell_type": "markdown",
   "id": "4288cb73",
   "metadata": {},
   "source": [
    "## 关键字排序"
   ]
  },
  {
   "cell_type": "code",
   "execution_count": 8,
   "id": "e4e5ce61",
   "metadata": {},
   "outputs": [
    {
     "name": "stdout",
     "output_type": "stream",
     "text": [
      "[('d', 4), ('c', 3), ('b', 2), ('a', 1)]\n"
     ]
    }
   ],
   "source": [
    "# 例2：\n",
    "list = [('b',2),('a',1),('c',3),('d',4)]\n",
    " \n",
    "new_list = sorted(list, key=lambda x:x[1],reverse=True) #序列为第一个参数的序列(x[1]表示按任意元素中索引为1的元素排序)\n",
    " \n",
    "print(new_list)"
   ]
  },
  {
   "cell_type": "code",
   "execution_count": 9,
   "id": "a3e713c4",
   "metadata": {},
   "outputs": [
    {
     "name": "stdout",
     "output_type": "stream",
     "text": [
      "[{1: 9}, {1: 5, 3: 4}, {1: 3, 6: 3}, {1: 1, 2: 4, 5: 6}]\n"
     ]
    }
   ],
   "source": [
    "# 例3：\n",
    "List = [{1:5,3:4},{1:3,6:3},{1:1,2:4,5:6},{1:9}]\n",
    " \n",
    "def f(x):          \n",
    "    return len(x)\n",
    " \n",
    "new_list = sorted(List,key = f)    #按照元素长度排序\n",
    " \n",
    "print(new_list)\n",
    " "
   ]
  },
  {
   "cell_type": "code",
   "execution_count": 10,
   "id": "313acb3b",
   "metadata": {},
   "outputs": [
    {
     "name": "stdout",
     "output_type": "stream",
     "text": [
      "['Chr1-1.txt', 'Chr1-2.txt', 'Chr1-3.txt', 'Chr1-5.txt', 'Chr1-10.txt', 'Chr1-14.txt', 'Chr1-20.txt']\n"
     ]
    }
   ],
   "source": [
    "# 例4：\n",
    "List = ['Chr1-10.txt','Chr1-1.txt','Chr1-2.txt',\n",
    "            'Chr1-14.txt',\n",
    "            'Chr1-3.txt','Chr1-20.txt','Chr1-5.txt']\n",
    " \n",
    "def func(element):\n",
    "    return int(element.split('-')[1].split('.')[0])\n",
    "#对元素进行连续两次切片操作(比较函数的参数表示列表中的任意元素)\n",
    " \n",
    "new_list = sorted(List, key=func)\n",
    "#new_list = sorted(List, key=lambda d : int(d.split('-')[-1].split('.')[0]))\n",
    " \n",
    "print(new_list)"
   ]
  },
  {
   "cell_type": "markdown",
   "id": "22f26bd3",
   "metadata": {},
   "source": [
    "注：\n",
    "\n",
    "这就是**key的功能，制定排序的关键字**，通常都是一个**<font color=red>lambda函数</font>**，当然你也**可以事先定义好这个函数**。如果不将这个关键字转化为整型，结果是这样的："
   ]
  },
  {
   "cell_type": "code",
   "execution_count": 14,
   "id": "48506e81",
   "metadata": {},
   "outputs": [
    {
     "data": {
      "text/plain": [
       "['Chr1-1.txt',\n",
       " 'Chr1-10.txt',\n",
       " 'Chr1-14.txt',\n",
       " 'Chr1-2.txt',\n",
       " 'Chr1-20.txt',\n",
       " 'Chr1-3.txt',\n",
       " 'Chr1-5.txt']"
      ]
     },
     "execution_count": 14,
     "metadata": {},
     "output_type": "execute_result"
    }
   ],
   "source": [
    "sorted(List, key=lambda d : d.split('-')[-1].split('.')[0])\n",
    " \n",
    "['Chr1-1.txt', 'Chr1-10.txt', 'Chr1-14.txt', 'Chr1-2.txt', 'Chr1-20.txt', 'Chr1-3.txt', 'Chr1-5.txt']"
   ]
  },
  {
   "cell_type": "code",
   "execution_count": 15,
   "id": "4e2dfdfb",
   "metadata": {},
   "outputs": [
    {
     "name": "stdout",
     "output_type": "stream",
     "text": [
      "[('dave', 'B', 10), ('jane', 'B', 12), ('john', 'A', 15)]\n",
      "[('dave', 'B', 10), ('jane', 'B', 12), ('john', 'A', 15)]\n",
      "[('john', 'A', 15), ('dave', 'B', 10), ('jane', 'B', 12)]\n"
     ]
    }
   ],
   "source": [
    "# 例5：\n",
    "from operator import itemgetter, attrgetter\n",
    " \n",
    "students = [('john', 'A', 15),\n",
    "            ('jane', 'B', 12),\n",
    "            ('dave', 'B', 10),]\n",
    " \n",
    "new_student = sorted(students, key=lambda student : student[2])   # sort by age(索引为2的元素排序)\n",
    " \n",
    "new_student_1 = sorted(students, key=itemgetter(2))#根据第二个域进行排序\n",
    " \n",
    "new_student_2 = sorted(students, key=itemgetter(1,2))  # sorted by grade then by age(有相同值时，根据多个元素排序)\n",
    " \n",
    "print(new_student)\n",
    "print(new_student_1)\n",
    "print(new_student_2)\n"
   ]
  },
  {
   "cell_type": "markdown",
   "id": "7d426b11",
   "metadata": {},
   "source": [
    "## 对由字典排序 "
   ]
  },
  {
   "cell_type": "code",
   "execution_count": 19,
   "id": "d793a8f6",
   "metadata": {},
   "outputs": [
    {
     "name": "stdout",
     "output_type": "stream",
     "text": [
      "使用items()先将字典转换为二元组的列表 dict_items([('data1', 3), ('data2', 1), ('data3', 2), ('data4', 4)]) \n",
      "\n",
      "[('data4', 4), ('data1', 3), ('data3', 2), ('data2', 1)]\n"
     ]
    }
   ],
   "source": [
    "# 例6：\n",
    "from operator import itemgetter, attrgetter\n",
    " \n",
    "d = {'data1':3, 'data2':1, 'data3':2, 'data4':4}\n",
    " \n",
    "new_d = sorted(d.items(), key=itemgetter(1), reverse=True)\n",
    "#d.items():使用items()先将字典转换为二元组的列表\n",
    "print(f\"使用items()先将字典转换为二元组的列表 {d.items()} \\n\")\n",
    "print(new_d)\n"
   ]
  },
  {
   "cell_type": "markdown",
   "id": "ad906e67",
   "metadata": {},
   "source": [
    "**<font color=red>注：返回的是由tuple组成的List，不再是字典。</font>**"
   ]
  },
  {
   "cell_type": "markdown",
   "id": "fac604ed",
   "metadata": {},
   "source": [
    "## 对字符串进行排序"
   ]
  },
  {
   "cell_type": "code",
   "execution_count": 20,
   "id": "4b4ae8c9",
   "metadata": {},
   "outputs": [
    {
     "name": "stdout",
     "output_type": "stream",
     "text": [
      "原序列: ['This', 'is', 'a', 'test', 'string', 'from', 'Andrew']\n",
      "区分大小写的排序： ['Andrew', 'This', 'a', 'from', 'is', 'string', 'test']\n",
      "不区分大小写的排序： ['a', 'Andrew', 'from', 'is', 'string', 'test', 'This']\n"
     ]
    }
   ],
   "source": [
    "# 例7：\n",
    "str = \"This is a test string from Andrew\"\n",
    " \n",
    "split_str = str.split(\" \")\n",
    "print(\"原序列:\",split_str)\n",
    " \n",
    "new_str = sorted(split_str,key=lambda x:x[0])\n",
    " \n",
    "new_str_1 = sorted(split_str,key=lambda x: x.lower())\n",
    " \n",
    " \n",
    "print(\"区分大小写的排序：\",new_str)\n",
    "print(\"不区分大小写的排序：\",new_str_1)\n"
   ]
  },
  {
   "cell_type": "markdown",
   "id": "4bb5f6ad",
   "metadata": {},
   "source": [
    "## sort()函数"
   ]
  },
  {
   "cell_type": "markdown",
   "id": "1dbe7548",
   "metadata": {},
   "source": [
    "**描述**\n",
    "sort()函数用于对原列表进行排序，如果指定参数，则使用比较函数指定的比较函数。语法"
   ]
  },
  {
   "cell_type": "code",
   "execution_count": null,
   "id": "332d2923",
   "metadata": {},
   "outputs": [],
   "source": [
    "sort()方法语法：\n",
    " \n",
    "list.sort(cmp=None, key=None, reverse=False)\n",
    " \n",
    "参数\n",
    "cmp(了解) -- 可选参数, 如果指定了该参数会使用该参数的方法进行排序。\n",
    "key -- 主要是用来进行比较的元素，只有一个参数，具体的函数的参数就是取自于可迭代对象中，指定可迭代对象中的一个元素来进行排序。\n",
    "reverse -- 排序规则，reverse = True 降序， reverse = False 升序（默认）。\n",
    " \n",
    "返回值\n",
    "该方法没有返回值，但是会对列表的对象进行排序。"
   ]
  },
  {
   "cell_type": "code",
   "execution_count": 21,
   "id": "264aad9c",
   "metadata": {},
   "outputs": [
    {
     "name": "stdout",
     "output_type": "stream",
     "text": [
      "List :  ['Facebook', 'Google', 'Runoob', 'Taobao']\n"
     ]
    }
   ],
   "source": [
    "# 例8：\n",
    "aList = ['Google', 'Runoob', 'Taobao', 'Facebook']\n",
    " \n",
    "aList.sort()\n",
    "print(\"List : \", aList)\n"
   ]
  },
  {
   "cell_type": "code",
   "execution_count": 22,
   "id": "7018dde2",
   "metadata": {},
   "outputs": [
    {
     "name": "stdout",
     "output_type": "stream",
     "text": [
      "排序列表： [(4, 1), (2, 2), (1, 3), (3, 4)]\n",
      "排序列表： [(1, 3), (2, 2), (3, 4), (4, 1)]\n"
     ]
    }
   ],
   "source": [
    "# 例9：\n",
    "# 获取列表的第二个元素\n",
    "def takeSecond(elem):\n",
    "    return elem[1]\n",
    " \n",
    "# 列表\n",
    "random = [(2, 2), (3, 4), (4, 1), (1, 3)]\n",
    "random_1 = [(2, 2), (3, 4), (4, 1), (1, 3)]\n",
    " \n",
    "# 指定第二个元素排序\n",
    "random.sort( key= takeSecond)\n",
    "random_1.sort(key=lambda x:x[0])\n",
    " \n",
    "# 输出类别\n",
    "print('排序列表：', random)\n",
    "print('排序列表：', random_1)"
   ]
  },
  {
   "cell_type": "markdown",
   "id": "09da819c",
   "metadata": {},
   "source": [
    "注：\n",
    "\n",
    "**sort 与 sorted 区别：**\n",
    "\n",
    "1. sort ()是应用在 list 上的方法，sorted 可以对所有可迭代的对象进行排序操作。\n",
    "\n",
    "2. list 的**sort 方法返回的是对已经存在的列表进行操作，无返回值，** 而内建函数 **sorted 方法返回的是一个新的 list，**而不是在原来的基础上进行的操作\n"
   ]
  }
 ],
 "metadata": {
  "kernelspec": {
   "display_name": "Python 3",
   "language": "python",
   "name": "python3"
  },
  "language_info": {
   "codemirror_mode": {
    "name": "ipython",
    "version": 3
   },
   "file_extension": ".py",
   "mimetype": "text/x-python",
   "name": "python",
   "nbconvert_exporter": "python",
   "pygments_lexer": "ipython3",
   "version": "3.6.9"
  },
  "toc": {
   "base_numbering": 1,
   "nav_menu": {},
   "number_sections": true,
   "sideBar": true,
   "skip_h1_title": false,
   "title_cell": "Table of Contents",
   "title_sidebar": "Contents",
   "toc_cell": false,
   "toc_position": {},
   "toc_section_display": true,
   "toc_window_display": false
  }
 },
 "nbformat": 4,
 "nbformat_minor": 5
}
