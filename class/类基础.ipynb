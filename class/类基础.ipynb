{
 "cells": [
  {
   "cell_type": "markdown",
   "id": "77e19b55",
   "metadata": {},
   "source": [
    "# 类基础"
   ]
  },
  {
   "cell_type": "markdown",
   "id": "4ad8dae7",
   "metadata": {},
   "source": [
    "## 什么是面向对象编程\n",
    "\n",
    "1. 面向对象编程(oop)是一种程序设计思想。oop把对象作为程序的基本单元，一个对象包含数据和操作数据的函数\n",
    "2. 在python中，所有数据类型都被视为对象，也可以自定义对象。自定义对象数据类型就是面向对象中类的概念"
   ]
  },
  {
   "cell_type": "markdown",
   "id": "a3a16973",
   "metadata": {},
   "source": [
    "## 面向对象术语简介\n",
    "1. **类(Class):** 用来描述具有相同的属性和方法的对象的集合。它定义了该集合中每个对象所共有的属性和方法。对象是类的实例\n",
    "2. **方法：** 类中定义的函数\n",
    "3. **类变量(属性)：** 类变量在整个实例化的对象中是公用的。类变量定义在类中且在函数体(方法)之外。类变量通常不作为实例变量使用，类变量也称作属性\n",
    "4. **数据成员：** 类变量或者实例变量用于处理类及其实例对象的相关的数据\n",
    "5. **方法重写：** 如果从父类继承的方法不能满足子类的需求，可以对其进行改写，这个过程叫方法的覆盖（override），也称为方法的重写\n",
    "6. **实例变量：** 定义在__init__方法中的变量，只作用于当前实例的类\n",
    "7. **继承：** 即一个派生类(derived class)继承基类(base class)的字段和方法。继承也允许把一个派生类的对象作为一个基类对象对待,以普通的类为基础建立专门的类对象\n",
    "8. **实例化：** 创建一个类的实例，类的具体对象。一个类可以实例化出无数个对象\n",
    "9. **对象：** 通过类定义的数据结构实例。对象包括两个数据成员(类变量和实例变量)和方法\n",
    "10. **多态：** 对不同类的对象使用同样的操作\n",
    "11. **封装：** 对外部世界隐藏对象的工作细节"
   ]
  },
  {
   "cell_type": "markdown",
   "id": "729a6e29",
   "metadata": {},
   "source": [
    "## Python类\n",
    "1. 提供了一种<font color=red>组合数据和功能</font>的方法。创建一个新类意味着创建一个新的对象类型，从而允许创建一个该类型的新实例\n",
    "\n",
    "2. 每个类的实例可以拥有保存自己状态的属性。一个类的实例也可以有改变自己状态的（定义在类中的）方法\n",
    "\n",
    "3. python的类提供了面向对象编程的所有标准特性：\n",
    "    - 承机制允许多个基类，派生类可以覆盖它基类的任何方法，一个方法可以调用基类中相同名称的的方法\n",
    "    - 对象可以包含任意数量和类型的数据\n",
    "    - 模块一样，类也拥有Python天然的动态特性：它们在运行时创建，可以在创建后修改\n"
   ]
  },
  {
   "cell_type": "markdown",
   "id": "80f383f0",
   "metadata": {},
   "source": [
    "## <font color=red>Python类的定义</font>"
   ]
  },
  {
   "cell_type": "markdown",
   "id": "13f179aa",
   "metadata": {},
   "source": [
    "1. python中定义类使用<font color=red>class</font>关键字，class后面紧接类名，类名通常是大写开头的单词(无类继承时类名后可以加括号也可以不加括号)\n",
    "2. python中类的定义语法如下："
   ]
  },
  {
   "cell_type": "code",
   "execution_count": 25,
   "id": "9d1169c6",
   "metadata": {},
   "outputs": [],
   "source": [
    "class ClassName:\n",
    "    pass"
   ]
  },
  {
   "cell_type": "markdown",
   "id": "4852616a",
   "metadata": {},
   "source": [
    "<font color=red>注:</font>\n",
    "1. 类定义与函数定义(def语句)一样：只有在被执行才会起作用\n",
    "    - 在定义阶段只是语法检查\n",
    "\n",
    "2. 类是属性和方法的组合，所以语句1可能是内部变量(数据、属性)的定义和赋值语句，也可能是内部方法(函数)的定义语句\n",
    "    - 一个对象的特征称为\"属性\"\n",
    "    - 一个对象的行为称为\"方法\"\n",
    "    - 属性在代码层面上来看就是变量，方法实际就是函数，通过调用这些函数来完成某些工作\n",
    "\n",
    "3. 进入类定义时，就会创建一个新的命名空间，并把它用作局部作用域\n",
    "    - 因此，所有对局部变量的赋值都是在这个新命名空间内进行的。特别的，函数定义会绑定到这个局部作用域里的新函数名称\n",
    "\n",
    "4. 正常离开(从结尾出)类定义时，就会创建一个类对象\n",
    "    - 是一个包围在类定义所创建的命名空间内容周围的包装器\n",
    "    - (在进入类定义之前起作用的)局部作用域将重新生效，类对象将在这里被绑定到类定义头给出的类名称(在上面的例子中就是ClassName)\n"
   ]
  },
  {
   "cell_type": "code",
   "execution_count": 26,
   "id": "5cf2ce28",
   "metadata": {},
   "outputs": [],
   "source": [
    "class MyClass:\n",
    "    \"\"\"定义一个MyClass类\"\"\"\n",
    "    i = 12345\n",
    " \n",
    "    def func(self):\n",
    "        return 'hello world'"
   ]
  },
  {
   "cell_type": "markdown",
   "id": "5bcdbcfb",
   "metadata": {},
   "source": [
    "注：\n",
    "1. **类包含属性和方法**\n",
    "    - 属性：分为类属性和实例属性\n",
    "        - \"i = 12345\"：表示定义了一个类属性i其值为12345(实例属性后面介绍)\n",
    "    - 方法：即定义在类中的函数(与普通的函数类似)\n",
    "        - func：表示定义了一个名为func的实例方法，实际上就是一个稍微特殊点的函数**(方法的第一个参数必须为self)**\n",
    "\n",
    "2. 在类中定义方法的形式和函数差不多，但其不称为函数，而是叫方法。方法的调用需要绑定到特定的对象上**(通过self.或实例对象名)**，而函数不需要\n",
    "    - 类内部的函数定义通常具有一种特别形式的参数列表，这个特别形式就是第一个参数必须是self(self参数后面介绍)\n",
    "    - **方法是所有实例都共用的：** 类外所有实例都可以调用类中的方法，类中方法之间也可以相互调用\n",
    "\n",
    "3. 上面例子中创建了一个MyClass抽象类，定义好类后会在当前作用域定义名字MyClass，指向类对象MyClass\n",
    "\n",
    "4. **类也是一种对象类型，跟前面学习过的数值、字符串、列表等等是一样的**\n",
    "    - 比如这里构建的类名字叫做MyClass，那么就是我们要试图建立一种对象类型，这种类型被称之为MyClass，就如同有一种对象类型是list一样\n",
    "\n",
    "5. **Python中一切皆对象。不管是我们自己定义的类、6种基本数据类型还是内置的类(第三方类)等都称作为对象**\n",
    "    - 一个对象，就会拥有自己的属性和方法。我们可以通过一定的方式来调用一个对象的属性和方法。这一点自定义类与其他Python类型是一样的\n",
    "\n",
    "6. **Python类中的方法分为：*`实例方法、类方法、静态方法`*。这里主要介绍实例方法(方法中第一个参数必须为self)，感觉其他两种方法用的比较少**\n"
   ]
  },
  {
   "cell_type": "markdown",
   "id": "0ff4c5bc",
   "metadata": {},
   "source": [
    "## 类对象\n",
    "1. 类是抽象的概念，它是一种数据结构：就好比一个模型，该模型是生活中具有相同属性(特征)和方法(动作)的同一类事务，可以用它来生产真实的物体(实例)\n",
    "    - 在python中，把具有相同属性和方法的对象归为一个类(class)\n",
    "\n",
    "2. 比如，我们可以将类看做是一个\"饼干模具\"，这个模具上有一些饼干的特征(属性)和行为(方法)\n",
    "    - 有了这个模具之后我们就可以通过这个模块来制作很多具有相同属性和行为的不同饼干了(制作出来的肯定不是同一块饼干)\n",
    "\n",
    "3. 定义一个类后，就相当于有了一个类对象了：Python中\"一切皆对象\"。类也称为\"类对象\"\n",
    "    - 比如前面例1中定义了类MyClass，其也可以成为类对象\n",
    "\n",
    "4. **<font color=red>类对象支持两种操作：属性引用和实例化</font>**\n",
    "    - **实例化：** 使用instance_name = class_name()的方式实例化，实例化操作创建该类的实例(格式：**实例对象名 = 类名()，实例对象名是我们自己定义的)\n",
    "    - **属性引用：** 使用class_name.attr_name的方式引用类属性(类名.属性名)\n"
   ]
  },
  {
   "cell_type": "code",
   "execution_count": 29,
   "id": "0491c685",
   "metadata": {},
   "outputs": [
    {
     "name": "stdout",
     "output_type": "stream",
     "text": [
      "12345\n",
      "<function MyClass.func at 0x7fe5bfe100d0>\n",
      "123\n"
     ]
    }
   ],
   "source": [
    "# 例2：属性引用\n",
    "class MyClass:\n",
    "    \"\"\"定义一个MyClass类\"\"\"\n",
    "    i = 12345\n",
    " \n",
    "    def func(self):\n",
    "        return 'hello world'\n",
    " \n",
    "print(MyClass.i) # 引用类属性\n",
    "print(MyClass.func) # 引用实例方法：实例方法可以这样被引用，但是这样引用无意义(知道即可)\n",
    " \n",
    "# 类属性也可以被赋值，因此可以通过赋值来更改类属性的值\n",
    "MyClass.i = 123\n",
    "print(MyClass.i)\n",
    " "
   ]
  },
  {
   "cell_type": "code",
   "execution_count": 30,
   "id": "1aab8388",
   "metadata": {},
   "outputs": [
    {
     "name": "stdout",
     "output_type": "stream",
     "text": [
      "<__main__.MyClass object at 0x7fe5bfe25748>\n"
     ]
    }
   ],
   "source": [
    "# 例2_1：实例化\n",
    "class MyClass:\n",
    "    \"\"\"定义一个MyClass类\"\"\"\n",
    "    i = 12345\n",
    " \n",
    "    def func(self):\n",
    "        return 'hello world'\n",
    "    \n",
    "#实例化一个类\n",
    "my_class = MyClass()\n",
    "print(my_class)\n",
    " \n",
    "\n",
    " \n",
    "#可以看到实例化类后返回的是一个MyClass对象，这个对象跟python中的数字、字符串、列表等是一样的\n",
    "#对象都可以拥有属性、方法\n"
   ]
  },
  {
   "cell_type": "markdown",
   "id": "f7ed8648",
   "metadata": {},
   "source": [
    "注：\n",
    "1. 类的实例化：是使用函数表示法，可以把类对象看做是会返回一个新的类实例的函数\n",
    "    - 比如上面类对象的实例化就是：**my_class = MyClass()**。这就创建了一个类的新实例并将此对象分配给局部变量my_class\n",
    "\n",
    "2. 实例化操作可以看成是\"调用\"类对象：将一个类实例化后获得的对象(所赋值的变量)称为实例对象。my_class就称为实例对象\n",
    "\n",
    "3. **<font color=red>类只是一个抽象的概念，只有经过实例化后(获得实例对象)，才会有意义，才能正常使用这个类中的属性和方法</font>**\n"
   ]
  },
  {
   "cell_type": "markdown",
   "id": "46da48c6",
   "metadata": {},
   "source": [
    "##  实例对象"
   ]
  },
  {
   "cell_type": "markdown",
   "id": "0416757e",
   "metadata": {},
   "source": [
    "1. 实例对象就是具有类属性和方法的具体事物：是基于类而创建的一个具体的事物\n",
    "    ⑴比如类可以看做制作饼干的模板，那么通过这个模板制作出来的一块块饼干就是实例对象\n",
    "\n",
    "2. 通过类产生实例对象的过程称为实例化\n",
    "    - 格式：**实例对象名 = 类名()**\n",
    "    - 通过简单的赋值操作，就实例化了一个对象，得到一个实例对象\n",
    "\n",
    "3. **<font color=red>一个类可以实例化出无数个实例对象</font>：** 这些实例对象之间的属性和方法都是独立的，互不干扰\n",
    "    - 一个饼干模具可以生产出无数块饼干\n",
    "\n",
    "4. 实例对象是类对象实例化的产物，实例对象仅支持一个操作：属性引用\n",
    "    - **实例对象名.属性名**\n",
    "    - **实例对象名.方法名()**\n"
   ]
  },
  {
   "cell_type": "code",
   "execution_count": 31,
   "id": "8a4bf67b",
   "metadata": {},
   "outputs": [
    {
     "name": "stdout",
     "output_type": "stream",
     "text": [
      "140624736036904\n",
      "12345\n",
      "hello world\n",
      "140624736037744\n",
      "123\n",
      "hello world\n",
      "140624736037184\n",
      "12345\n",
      "hello world\n"
     ]
    }
   ],
   "source": [
    "# 例3：\n",
    "class MyClass:\n",
    "    \"\"\"定义一个MyClass类\"\"\"\n",
    "    i = 12345\n",
    " \n",
    "    def func(self):\n",
    "        return 'hello world'\n",
    " \n",
    "#第一个实例对象\n",
    "my_class = MyClass()\n",
    "print(id(my_class))\n",
    "print(my_class.i)   # 引用类属性\n",
    "print(my_class.func()) # 引用实例方法\n",
    " \n",
    "#第二个实例对象\n",
    "my_class1 = MyClass()\n",
    "print(id(my_class1))\n",
    "# 类属性重新赋值\n",
    "my_class1.i = 123\n",
    "print(my_class1.i)   # 引用类属性\n",
    "print(my_class1.func()) # 引用实例方法\n",
    " \n",
    "#第三个实例对象\n",
    "my_class2 = MyClass()\n",
    "print(id(my_class2))\n",
    "print(my_class2.i)   # 引用类属性\n",
    "print(my_class2.func()) # 引用实例方法"
   ]
  },
  {
   "cell_type": "markdown",
   "id": "00cb4a6b",
   "metadata": {},
   "source": [
    "注：\n",
    "1. 一个类可以实例化出无数个实例对象：这些实例对象之间的属性和方法都是独立的，互不干扰\n",
    "    - my_class、my_class1、my_class2...这些都是通过MyClass类实例化后得到的实例对象，他们之间是互不干扰的\n",
    "\n",
    "2. 在未实例化类时(my_class = MyClass()前)，只是定义了类对象的属性和方法，此时其还不是一个完整的对象，将定义的这些称为类(抽象类)。需要使用类来创建一个真正的对象，这个对象就叫做这个类的一个实例，也叫作实例对象(一个类可以有无数个实例)\n",
    "\n",
    "3. 创建一个对象也叫做类的实例化，即my_class = MyClass()(此时得到的my_class变量称为类的具体对象)。注意此时类名后面是跟着小括号的，这跟调用函数一样\n",
    "    - 另外赋值操作是必须的，但如果没有将创建好的实例对象赋值给一个变量，那这个对象就没办法使用，因为没有任何引用指向这个实例(其实也可以说**赋值操作是必须的**)\n",
    "\n",
    "4. 使用class语句只能创建一个类，而无法创建类的实例对象，因此要想使用已创建好的类，还需要手动创建类的实例对象，创建类对象的过程又称为类的实例化"
   ]
  },
  {
   "cell_type": "code",
   "execution_count": 34,
   "id": "debe2662",
   "metadata": {},
   "outputs": [
    {
     "name": "stdout",
     "output_type": "stream",
     "text": [
      "12345\n",
      "<__main__.MyClass object at 0x7fe5bfe25080>\n",
      "名字是：张三\n",
      "None\n",
      "12345\n",
      "<__main__.MyClass object at 0x7fe5bfe25898>\n",
      "名字是：李四\n",
      "None\n"
     ]
    }
   ],
   "source": [
    "# 例3_1：\n",
    "\"\"\"这种写法知道就好了，实际中肯定不能这么写：未进行赋值操作！！！！！\"\"\"\n",
    "class MyClass:\n",
    "    \"\"\"定义一个MyClass类\"\"\"\n",
    "    i = 12345\n",
    " \n",
    "    def __init__(self,name):\n",
    "        self.name = name\n",
    " \n",
    " \n",
    "    def func(self):\n",
    "        print(self)\n",
    "        print(\"名字是：%s\" % self.name)\n",
    " \n",
    " \n",
    "# 未进行赋值操作\n",
    "print(MyClass(\"张三\").i)   # 引用类属性\n",
    "print(MyClass(\"张三\").func()) # 引用实例方法\n",
    " \n",
    "print(MyClass(\"李四\").i)   # 引用类属性\n",
    "print(MyClass(\"李四\").func()) # 引用实例方法\n",
    "\n"
   ]
  },
  {
   "cell_type": "markdown",
   "id": "9b3ec771",
   "metadata": {},
   "source": [
    "注：\n",
    "1. 如果在实例化类时，未将实例赋值给一个变量：虽然可以正常调用类的属性和方法\n",
    "    - 但是这样是没有意义的。因为：没有任何引用指向这个实例，都没法调用这个实例(只有赋值后才会产生实例对象)\n",
    "\n",
    "2. 如果这样写的话，每次调用这个类的实例对象都需要去实例化一次了，那么就显得很麻烦了，还不如实例化一次并赋值给一个变量，此后每次去调用这个变量(实例对象)就好了\n",
    "\n",
    "3. 因此：<font color=red>**类在使用前必须先实例化，并将实例赋值给一个变量(得到实例对象)**</font>\n"
   ]
  },
  {
   "cell_type": "markdown",
   "id": "7e36a60a",
   "metadata": {},
   "source": [
    "## self参数\n",
    "\n",
    "1. <font color=red> **在定义实例变量、实例方法时的第一个参数必须是self**</font>\n",
    "    - 其实：self名称不是必须的，在python中self不是关键词，你可以定义成a或b或其它名字都可以，只是约定成俗都使用了self\n",
    "    - 也就是说在定义实例方法时必须有一个参数是默认已经存在了的，可以是self，可以是a，也可以是b。不管这个参数名是什么，但必须得有这个参数\n",
    "\n",
    "2. <font color=red> **self在定义时需要定义，但是在调用时会自动传入(不需要手动传入了)**</font>\n",
    "\n",
    "3. self其实就相当于C++中的this指针\n",
    "\n",
    "4. 如果把类比作图纸，那么由类实例化后的对象才是真正可以住人的房子。根据一张图纸就可以设计出成千上万的房子，他们都长得差不多，但他们都有不同的主人，每个人都只能回自己的家里.....所以self这里就相当于每个房子的门牌号，有了self就可以轻松找到自己房子\n",
    "\n",
    "5. python中的self参数就是同一个道理，由同一个类可以生成无数对象，当一个对象的方法被调用的时候，对象会将自身的引用作为第一个参数传给该方法，那么python就知道需要操作哪个对象的方法了\n",
    "\n",
    "6. 简单的来说就是：<font color=red>**self代表的当前的实例对象本身**</font>，这样在调用实例方法等时Python就知道当前是哪个实例对象了\n",
    "    - 一个抽象类实例化后，实例对象为a，那么此时self就代表实例对象a\n",
    "    - 一个抽象类实例化后，实例对象为b，那么此时self就代表实例对象b\n"
   ]
  },
  {
   "cell_type": "code",
   "execution_count": 36,
   "id": "7fcd8566",
   "metadata": {},
   "outputs": [
    {
     "name": "stdout",
     "output_type": "stream",
     "text": [
      "实例对象： <__main__.MyClass object at 0x7fe5bf71aa20>\n",
      "self参数： <__main__.MyClass object at 0x7fe5bf71aa20>\n",
      "实例对象： <__main__.MyClass object at 0x7fe5bf71ae80>\n",
      "self参数： <__main__.MyClass object at 0x7fe5bf71ae80>\n"
     ]
    },
    {
     "data": {
      "text/plain": [
       "'hello world'"
      ]
     },
     "execution_count": 36,
     "metadata": {},
     "output_type": "execute_result"
    }
   ],
   "source": [
    "# 例4：\n",
    "class MyClass:\n",
    "    \"\"\"定义一个MyClass类\"\"\"\n",
    "    i = 12345\n",
    " \n",
    "    def func(self):\n",
    "        print(\"self参数：\",self)\n",
    "        return 'hello world'\n",
    " \n",
    "a = MyClass()\n",
    "print(\"实例对象：\",a)\n",
    "a.func()\n",
    " \n",
    "b = MyClass()\n",
    "print(\"实例对象：\",b)\n",
    "b.func()"
   ]
  },
  {
   "cell_type": "markdown",
   "id": "70c96521",
   "metadata": {},
   "source": [
    "注：\n",
    "1. 通过打印的id值可以看出，self参数实际上就是类通过实例化后得到的实例对象。不同的实例对象对应的self参数是不一样的(self参数始终与当前实例对象时一一对应的)\n",
    "\n",
    "2. 在这个例子可中可能并不能很好的理解self参数的含义，感觉是实例变量中能更好的理解self参数\n",
    "\n",
    "3. 目前我们只需记住：\n",
    "    - 实例方法第一个参数必须是self，在调用时会自动传入(不需要手动传入了)\n",
    "    - self代表的当前的实例对象本身"
   ]
  },
  {
   "cell_type": "code",
   "execution_count": 37,
   "id": "15d255ac",
   "metadata": {},
   "outputs": [
    {
     "name": "stdout",
     "output_type": "stream",
     "text": [
      "1\n",
      "2\n",
      "3\n",
      "我叫A\n",
      "我叫B\n",
      "我叫C\n"
     ]
    }
   ],
   "source": [
    "# 例4_1：\n",
    "class Ball:\n",
    "    def setname(self,name,age):\n",
    "        self.name = name\n",
    "        print(age)\n",
    " \n",
    "    def kick(self):\n",
    "        return \"我叫%s\" % self.name\n",
    " \n",
    "a = Ball()\n",
    "b = Ball()\n",
    "c = Ball()\n",
    " \n",
    "a.setname(\"A\",1)\n",
    "b.setname(\"B\",2)\n",
    "c.setname(\"C\",3)\n",
    " \n",
    "print(a.kick())\n",
    "print(b.kick())\n",
    "print(c.kick())\n"
   ]
  },
  {
   "cell_type": "markdown",
   "id": "4140ea92",
   "metadata": {},
   "source": [
    "注：从上面例子可以看出\n",
    "\n",
    "1. 有Ball类生成了三个实例对象a,b,c，这三个对象在调用kick()方法时，是通过self参数去确定究竟当前是哪个对象在调用方法的。因此在写实例方法时一定要写self参数且其位置在第一个，在调用时就不需要传入self参数了\n",
    "\n",
    "2. **在方法中定义的参数，一般来说只能在当前方法中使用(作用域)**\n",
    "    - 如果想要一个方法中的参数能在其他方法中使用，那么就可以使用\"self.\"来将这个参数变成一个实例变量(实例变量后面介绍，这里主要是遇到了这种写法)\n",
    "    - name参数：在方法中使用了\"self.name = name\"，这步就相当于是将这个name参数变成了一个实例变量，因此可以在所有方法中使用(这种写法了解即可，没啥意义，因为一个实例变量最好直接定义在__init__方法中)\n",
    "    - age参数：age参数就没有使用name参数那样的写法，仅仅是在setname()方法中定义并使用，因此age参数就只能在setname()方法中使用，而不能在kick()方法中使用，即使他们是在同一个类中(经常遇到的是这种写法)"
   ]
  },
  {
   "cell_type": "markdown",
   "id": "acc7b35c",
   "metadata": {},
   "source": [
    "## 类变量"
   ]
  },
  {
   "cell_type": "markdown",
   "id": "d6e2686f",
   "metadata": {},
   "source": [
    "1. **<font color=red>类变量：是该类所有实例对象共享的属性(也可以叫\"类属性\")</font>**\n",
    "    - 类属性是所有实例都共用的：所有实例都可以调用这个类属性\n",
    "    - 在**<font color=red>类中</font>** 任意地方(所有方法中)都可以使用**<font color=red>\"类名.类属性名\"</font>**来调用类属性\n",
    "    - 在**<font color=red>类外</font>** 任意地方都可以使用**<font color=red>\"类名.类属性名\"或\"实例名.类属性名\"</font>**来调用类属性\n",
    "\n",
    "1. 类变量是直接定义在类中的，比如例1中的\"i = 12345\"，变量i就是一个类属性，该变量是所有实例对象共有的。类中的所有方法、实例都可以使用它\n"
   ]
  },
  {
   "cell_type": "code",
   "execution_count": 39,
   "id": "5a67dced",
   "metadata": {},
   "outputs": [
    {
     "name": "stdout",
     "output_type": "stream",
     "text": [
      "宝马 140624740006440\n",
      "当前车型为：宝马,当前行驶速度：110 KM/S\n",
      "宝马 140624740006440\n",
      "当前车型为：宝马,当前行驶速度：200 KM/S\n"
     ]
    }
   ],
   "source": [
    "# 例5：\n",
    "class Car():\n",
    "    \"\"\"这是一个汽车类\"\"\"\n",
    "    brand = \"宝马\"\n",
    " \n",
    "    def run(self, s):\n",
    "        # 类中调用类属性：类名.属性名\n",
    "        print(\"当前车型为：%s,当前行驶速度：%s KM/S\" % (Car.brand,s))\n",
    " \n",
    " \n",
    "a = Car()\n",
    "# 类外调用类属性：实例名.属性名\n",
    "print(a.brand, id(a.brand))\n",
    "a.run(110)\n",
    " \n",
    "b = Car()\n",
    "print(b.brand, id(b.brand))\n",
    "b.run(200)\n"
   ]
  },
  {
   "cell_type": "markdown",
   "id": "79a7fc1d",
   "metadata": {},
   "source": [
    "## 实例变量"
   ]
  },
  {
   "cell_type": "markdown",
   "id": "bcac466e",
   "metadata": {},
   "source": [
    "1. 类变量是所有实例公用的属性。也就是说一些属性是所有实例都共有的，那么此时我们可以将该属性定义为类属性\n",
    "    - 那么如果某些属性是每个实例独有的(每个实例的属性值都不一致)，那么我们就可以将这些属性定义为实例属性\n",
    "\n",
    "2. 实例变量：是每个实例都独有的数据(也可以叫\"实例属性\")\n",
    "    - 即某个属性对于每个实例都是独有的，就需要将其定义为实例变量\n",
    "    - 某个属性是每个实例同共有的就可以定义为类属性\n",
    "\n",
    "3. 实例变量是定义在__init__方法中的\n",
    "    - **__init__()方法也是类中的一个方法，因此其第一个参数也必须是self**\n",
    "    - **实例变量是每个实例对象独有的，因此在定义实例变量时，必须是：self.实例变量名 = 外部形参名(通过self来绑定当前实例对象)** \n",
    "    - 在**类中**任意地方(所有方法中)都可以使用**\"self.实例属性名\"**来调用实例属性\n",
    "    - 在**类外**任意地方都可以使用**\"实例名.实例属性名\"**来调用实例属性\n"
   ]
  },
  {
   "cell_type": "code",
   "execution_count": 40,
   "id": "108c9267",
   "metadata": {},
   "outputs": [
    {
     "name": "stdout",
     "output_type": "stream",
     "text": [
      "我的名字是：Tom,来自：china，年龄是：11\n",
      "我的名字是：Jack,来自：china，年龄是：12\n"
     ]
    }
   ],
   "source": [
    "# 例6：\n",
    "class People():\n",
    "    country = \"china\"\n",
    " \n",
    "    def __init__(self,name):\n",
    "        self.name = name\n",
    " \n",
    "    def speak(self, age):\n",
    "        # 类中调用类属性：类名.属性名\n",
    "        # 类中调用实例属性：self.属性名\n",
    "        print(\"我的名字是：%s,来自：%s，年龄是：%s\" % (self.name,People.country,age))\n",
    " \n",
    "# 实例化类时传入实例变量值\n",
    "a = People(\"Tom\")\n",
    "a.speak(11)\n",
    " \n",
    "b = People(\"Jack\")\n",
    "b.speak(12)"
   ]
  },
  {
   "cell_type": "markdown",
   "id": "e132fea5",
   "metadata": {},
   "source": [
    "注：\n",
    "1. 上面例子中定义了一个类属性\"country\"，是所有实例共有的；定义了一个实例属性\"name\"，是每个实例独有的\n",
    "\n",
    "2. **一个类中存在实例变量(定义了init方法且init方法中存在形参)时，那么在实例化类时就需要传入对应的实参，否则会报错**\n",
    "\n",
    "3. **实例方法、类方法、静态方法中可以有自己参数(例子中的参数age)，方法中的参数的作用域为方法本身内部(只能在该方法中使用，即使是同一个类中的不同方法，也不能使用)**\n",
    "    - 方法中的参数类型与普通函数的参数类型是一样的(只是第一个参数必须是self)。可以是位置参数(必填参数)、关键字参数、默认参数、可变参数等\n",
    "    - 如果方法中定义了一些参数，那么在调用这些方法时就必须传入对应参数的值了\n",
    "\n",
    "4. 上面实例化了两个实例对象a、b，在方法speak()中都调用了实例属性name。那么Python是怎么确定当前实例变量name的值是\"Tom\"或\"Jack\"的呢？其实就是通过self参数来确定的：一个类可以实例化出无数个实例对象，通过self参数来确定当前是哪个实例对象在调用了\n",
    "    - 比如当前为实例对象a在调用时，此时self参数就表示实例对象a，此时Python就去找实例对象a的实例属性name的值\n",
    "    - 比如当前为实例对象b在调用时，此时self参数就表示实例对象b，此时Python就去找实例对象b的实例属性name的值\n",
    "    - 这样就不会出现什么，实例对象a在调用，但找的是实例对象b的实例属性值了\n",
    "\n",
    "5. 在类中是不可能出现实例对象名的(实例对象是实例化后才产生的)，因此在类中使用self参数来表示实例对象\n",
    "    - **类中的self参数就相当于一个形参，当类实例化后，实例对象就相当于self参数的实参**\n",
    "    - 哪个实例对象在调用，self参数就表示哪个实例对象\n",
    "\n",
    "6. self.name = name表示：将外部传来的变量name的值赋值给当前实例对象的name属性(两个name之间无任何关系，只是变量名一致)\n",
    "    - name：只是一个形参，用来接收外部传入的实参值\n",
    "    - self.name：表示当前实例对象的实例属性(当前是哪个实例对象，就表示哪个实例对象的实例属性)\n",
    "\n",
    "7. 因此**在类中调用实例属性时都必须使用\"self.实例属性名\"的方式来调用，**这样才能通过self参数来确定当前是哪个实例对象在调用"
   ]
  },
  {
   "cell_type": "markdown",
   "id": "bae1b81c",
   "metadata": {},
   "source": [
    "## 类变量与实例变量\n",
    "1. 在调用一个类中的属性时，Python会按照一定的顺序去查找这个属性：**<font color=red>先在当前实例中找，有就用当前实例中的，如果没有就找类中的</font>**"
   ]
  },
  {
   "cell_type": "code",
   "execution_count": 41,
   "id": "a95b3227",
   "metadata": {},
   "outputs": [
    {
     "name": "stdout",
     "output_type": "stream",
     "text": [
      "0 0 0\n",
      "10 0 0\n",
      "10 100 100\n"
     ]
    }
   ],
   "source": [
    "class C:\n",
    "    count = 0\n",
    "a = C()\n",
    "b = C()\n",
    "c = C()\n",
    "print(a.count,b.count,c.count)   #output:0,0,0\n",
    " \n",
    "a.count += 10   #实例对象调用类属性\n",
    "print(a.count,b.count,c.count)   #output:10,0,0\n",
    " \n",
    "C.count += 100  #类对象调用类属性\n",
    "print(a.count,b.count,c.count)   #output:10 100 100\n",
    " \n",
    "#print(count)   #name 'count' is not defined，不能直接访问类属性，具体访问方法参考前面的属性访问"
   ]
  },
  {
   "cell_type": "markdown",
   "id": "fc9004d2",
   "metadata": {},
   "source": [
    "注：\n",
    "\n",
    "1. 对实例对象的count属性进行赋值后，就相当于覆盖了类对象C的count属性，如果没有赋值覆盖，那么引用的就是类对象的count属性\n",
    "    - 通过**<font color=red>\"实例对象名.属性名\"</font>** 来覆盖类属性，只会影响到当前实例对象，不会影响到其他实例对象中的类属性\n",
    "    - 通过**<font color=red>\"类名.属性名\"</font>**来覆盖类属性，会影响到所有实例的类属性\n",
    "    - 因此在类外调用类变量时，最好使用\"实例对象名.属性名\"，避免在重新赋值时影响到其他实例\n",
    "\n",
    "2. 类变量和实例变量的区别在于：**<font color=red>类变量是所有对象共有，其中一个对象将它值改变，其他对象得到的就是改变后的结果；而实例变量则属对象私有，某一个对象将其值改变，不影响其他对象</font>**\n",
    "\n",
    "3. **<font color=red>获取一个实例对象的属性时，其属性名后面都是不需要加园括号的</font>**(不管是我们自己定义的类还是Python自带的类)；如果属性名后面带上了园括号，那么就变成了一个方法名了。这肯定是不对的。**所以要分清楚调用的是类的属性还是类的方法**\n",
    "    - **<font color=red >不管是调用类方法还是属性，都是通过\".\"点操作来实现的</font>**\n"
   ]
  },
  {
   "cell_type": "markdown",
   "id": "9b67bced",
   "metadata": {},
   "source": [
    "## 类的使用\n",
    "1. 定义个类主要是将一些具有相同属性的数据、方法放到一个类中整合起来方便代码的管理。最终目的还是调用类中的属性和方法\n",
    "\n",
    "2. 在调用类中的方法或属性时都必须遵循一定的规则：调用类的属性或方法分类在类中调用、在类外调用。不同地方调用，调用的方式也会有一定的差距\n",
    "\n",
    "3. 调用类属性：\n",
    "    - **类中访问类变量：** 类名. 类变量名\n",
    "    - **类外访问类变量：** 类名.类变量名或实例名.类变量名\n",
    "\n",
    "4. 调用实例属性：\n",
    "    - **类中访问实例变量：** self.实例变量名\n",
    "    - **类外访问实例变量：** 实例名.实例变量名\n",
    "\n",
    "5. 调用实例方法：\n",
    "    - **类中访问实例方法：** self.方法名(参数)或类名.方法名(self,参数)\n",
    "    - **类外访问实例方法：** 实例名.方法名(参数)\n"
   ]
  },
  {
   "cell_type": "code",
   "execution_count": 42,
   "id": "ee8390d7",
   "metadata": {},
   "outputs": [
    {
     "name": "stdout",
     "output_type": "stream",
     "text": [
      "MyClass 类的属性 i 为： 12345\n",
      "MyClass 类的属性 i 为： 12345\n",
      "12345\n",
      "MyClass 类的方法 f 输出为： hello world\n",
      "12345\n",
      "12345\n"
     ]
    }
   ],
   "source": [
    "class MyClass:\n",
    "    \"\"\"一个简单的类实例\"\"\"\n",
    "    i = 12345#定义一个类属性\n",
    " \n",
    "    def f(self):#定义一个实例方法\n",
    "        print(MyClass.i) #类中调用类属性\n",
    "        return 'hello world'\n",
    " \n",
    "    def g(self):\n",
    "        # 类中调用实例方法\n",
    "        self.f()\n",
    "        MyClass.f(self)\n",
    " \n",
    "x = MyClass()   # 实例化类\n",
    " \n",
    "# 访问类的属性和方法\n",
    "print(\"MyClass 类的属性 i 为：\", x.i) #类外调用类属性\n",
    "print(\"MyClass 类的属性 i 为：\", MyClass.i)\n",
    "print(\"MyClass 类的方法 f 输出为：\", x.f()) #类外调用实例方法\n",
    "x.g()"
   ]
  },
  {
   "cell_type": "markdown",
   "id": "16b86527",
   "metadata": {},
   "source": [
    "注：\n",
    "1. 在未实例化类时(x = MyClass()前)，只是定义了对象的属性和方法，此时其还不是一个完整的对象，将定义的这些称为类**<font color=red>(抽象类)</font>**。需要使用类来创建一个真正的对象，这个对象就叫做这个类的一个实例，也叫作**实例对象(一个类可以有无数个实例)**\n",
    "\n",
    "2. **创建一个对象也叫做类的实例化**，即x = MyClass()。(此时得到的x变量称为类的具体对象)。注意此时类名后面是跟着小括号的，这跟调用函数一样。另外赋值操作并不是必须的，但**<font color=red>如果没有将创建好的实例对象赋值给一个变量，那这个对象就没办法使用</font>**，因为没有任何引用指向这个实例\n",
    "\n",
    "3. 如果要调用对象里的方法，就需要判断是在类中调用还是在类外调用：\n",
    "    - **在类中调用实例方法：** **<font color=red>self.方法名(参数)或类名.方法名(self,参数)</font>**这个这里只是提一下，可以先不纠结\n",
    "    - **在类外调用实例方法：** **<font color=red>实例对象名.方法名(参数)</font>**。这里的例子就是类外调用方法，只是说实例方法中没有定义参数。x.f()：x为实例对象名，f()为类中定义的实例方法\n",
    "    \n",
    "4. x.i和MyClass.i都是用于调用类的属性，也就是我们前面所说的类变量；x.f()用于调用类的实例方法\n",
    "    - **调用类属性可以使用：** **<font color=red>实例对象名.类属性名或类名.类属性名</font>**。虽然这两种方法都可以调用类属性，但是两者在调用使用还是有区别的，后面介绍\n",
    "\n",
    "5. 类中定义方法的要求：在类中定义方法时，**<font color=red>第一个参数必须是self</font>**，除第一个参数外，类的方法和普通的函数没什么区别，如可以使用默认参数，可变参数，关键字参数和命名关键字参数等\n",
    "    - 虽然在定义方法时会定义一个self参数，但是不管是在类中或是在类外调用方法都不用传递self，其他参数正常传入\n",
    "    - self参数究竟是什么，这里也可以先不纠结，目前只需要知道定义一个实例方法时，第一个参数必须是self，但是在调用实例方法时，不需要传递这个self参数\n",
    "\n",
    "6. 类对象(抽象类)支持两种操作：即属性引用和实例化\n",
    "    - **属性引用：** 方法为类名.类属性名(也可以实例对象名.类属性名)\n",
    "    - **实例化：** 将一个抽象类实例化成一个实例对象(x = MyClass() )。一个类可以实例化出无数个对象\n",
    "\n",
    "7. 类是一个抽象的概念，对象则是一个实际存在的东西。就像我们说的\"狮子\"，它只是一个抽象的东西，只有具体到狮子这种动物身上它才是实际存在的。在比如设计房子的图纸只能告诉你房子是什么样的，并不是真正的房子，只有通过钢筋水泥建造出来的房子才实际存在，才能住人。\n",
    "    - \"造房子\"这个过程就相当于是\"实例化类'，**<font color=red>一个抽象类只有实例化成一个具体的实例对象后，才会有意义(抽象类只有实例化后才能使用，才会有意义)</font>**\n"
   ]
  },
  {
   "cell_type": "code",
   "execution_count": 43,
   "id": "a097e139",
   "metadata": {},
   "outputs": [
    {
     "name": "stdout",
     "output_type": "stream",
     "text": [
      "张三\n",
      "china\n",
      "学生来自于china,名字为张三,年龄为18,成绩为98\n",
      "李四\n",
      "china\n",
      "学生来自于china,名字为李四,年龄为20,成绩为100\n"
     ]
    }
   ],
   "source": [
    "class Student():\n",
    "    address = \"china\"     #定义类变量address\n",
    " \n",
    "    def __init__(self,name,age):    #定义实例变量age和name\n",
    "        self.name = name\n",
    "        self.age = age\n",
    " \n",
    "    def Info(self,score):#定义在方法中的变量(普通的变量：作用域为这个方法内)\n",
    "        return \"学生来自于%s,名字为%s,年龄为%s,成绩为%s\"%(Student.address,self.name,self.age,score)\n",
    "        #类中访问实例变量：self.实例变量名\n",
    "        #类中访问类变量：类名.类变量名\n",
    "        #类中访问方法中的普通变量：直接变量名(且该变量只能在这个方法中使用，不能再其他方法或类外调用)\n",
    " \n",
    " \n",
    "student = Student(\"张三\",18)  #实例化类\n",
    "print(student.name) #类外访问实例变量：实例名.实例属性名\n",
    "print(Student.address)  #类外访问类变量：类名.类属性名(也可以实例名.类属性名)\n",
    "print(student.Info(98)) #类外访问实例方法：实例名.方法名(参数)\n",
    " \n",
    "#另一个实例对象\n",
    "student_1 = Student(\"李四\",20)\n",
    "print(student_1.name)\n",
    "print(student_1.address)\n",
    "print(student_1.Info(100))\n",
    " "
   ]
  },
  {
   "cell_type": "markdown",
   "id": "fc23b972",
   "metadata": {},
   "source": [
    "注：\n",
    "1. 在Student类中，类属性address为所有实例所共享；实例属性name和age每个student的实例独有(每个实例有不同的name和age)\n",
    "    - 类属性：实例对象student和student_1拥有一样的address属性\n",
    "    - 实例属性：实例对象student和student_1拥有不一样的name和age属性(每个实例独有的属性)"
   ]
  },
  {
   "cell_type": "markdown",
   "id": "343a498a",
   "metadata": {},
   "source": [
    "## 属性绑定\n",
    "\n",
    "1. 在定义类时，通常我们说的定义属性，其实是分为两个方面的：类属性绑定、实例属性绑定(也就是定义类属性或实例属性)\n",
    "\n",
    "2. 用绑定这个词更加确切；不管是类对象还是实例对象，属性都是依托对象而存在的。我们说的属性绑定，首先需要一个可变对象，才能执行绑定操作，使用objname.attr = attr_value的方式，为对象objname绑定属性attr。这分两种情况：\n",
    "    - 若属性attr已经存在，绑定操作会将属性名指向新的对象\n",
    "    - 若不存在，则为该对象添加新的属性，后面就可以引用新增属性\n",
    "\n",
    "### 类属性绑定\n",
    "    Python作为动态语言，类对象和实例对象都可以在运行时绑定任意属性。因此，类属性的绑定发生在两个地方\n",
    "    1. 类定义时\n",
    "    2. 运行时任意阶段"
   ]
  },
  {
   "cell_type": "code",
   "execution_count": 45,
   "id": "137817a8",
   "metadata": {},
   "outputs": [
    {
     "name": "stdout",
     "output_type": "stream",
     "text": [
      "canine  -  China\n"
     ]
    },
    {
     "ename": "AttributeError",
     "evalue": "type object 'Dog' has no attribute 'kind'",
     "output_type": "error",
     "traceback": [
      "\u001b[0;31m---------------------------------------------------------------------------\u001b[0m",
      "\u001b[0;31mAttributeError\u001b[0m                            Traceback (most recent call last)",
      "\u001b[0;32m<ipython-input-45-16f7faced279>\u001b[0m in \u001b[0;36m<module>\u001b[0;34m\u001b[0m\n\u001b[1;32m      6\u001b[0m \u001b[0mprint\u001b[0m\u001b[0;34m(\u001b[0m\u001b[0mDog\u001b[0m\u001b[0;34m.\u001b[0m\u001b[0mkind\u001b[0m\u001b[0;34m,\u001b[0m \u001b[0;34m' - '\u001b[0m\u001b[0;34m,\u001b[0m \u001b[0mDog\u001b[0m\u001b[0;34m.\u001b[0m\u001b[0mcountry\u001b[0m\u001b[0;34m)\u001b[0m  \u001b[0;31m# 输出: canine  -  China\u001b[0m\u001b[0;34m\u001b[0m\u001b[0;34m\u001b[0m\u001b[0m\n\u001b[1;32m      7\u001b[0m \u001b[0;32mdel\u001b[0m \u001b[0mDog\u001b[0m\u001b[0;34m.\u001b[0m\u001b[0mkind\u001b[0m\u001b[0;34m\u001b[0m\u001b[0;34m\u001b[0m\u001b[0m\n\u001b[0;32m----> 8\u001b[0;31m \u001b[0mprint\u001b[0m\u001b[0;34m(\u001b[0m\u001b[0mDog\u001b[0m\u001b[0;34m.\u001b[0m\u001b[0mkind\u001b[0m\u001b[0;34m,\u001b[0m \u001b[0;34m' - '\u001b[0m\u001b[0;34m,\u001b[0m \u001b[0mDog\u001b[0m\u001b[0;34m.\u001b[0m\u001b[0mcountry\u001b[0m\u001b[0;34m)\u001b[0m  \u001b[0;31m#由于上一行删除的kind属性，因此输出为AttributeError: type object 'Dog' has no attribute 'kind'\u001b[0m\u001b[0;34m\u001b[0m\u001b[0;34m\u001b[0m\u001b[0m\n\u001b[0m",
      "\u001b[0;31mAttributeError\u001b[0m: type object 'Dog' has no attribute 'kind'"
     ]
    }
   ],
   "source": [
    "class Dog:\n",
    "    kind = 'canine'\n",
    " \n",
    "Dog.country = 'China' #绑定一个新的类属性country\n",
    " \n",
    "print(Dog.kind, ' - ', Dog.country)  # 输出: canine  -  China\n",
    "del Dog.kind\n",
    "print(Dog.kind, ' - ', Dog.country)  #由于上一行删除的kind属性，因此输出为AttributeError: type object 'Dog' has no attribute 'kind'"
   ]
  },
  {
   "cell_type": "markdown",
   "id": "45c338c4",
   "metadata": {},
   "source": [
    "注：\n",
    "1. 在类定义中，类属性的绑定并没有使用objname.attr = attr_value的方式，这是一个特例，其实是等同于后面使用类名绑定属性的方式\n",
    "\n",
    "2. 因为是动态语言，所以可以在运行时增加属性，删除属性"
   ]
  },
  {
   "cell_type": "markdown",
   "id": "4a01e4b4",
   "metadata": {},
   "source": [
    "### 实例属性绑定\n",
    "与类属性绑定相同，实例属性绑定也发生在两个地方：类定义时、运行时任意阶段"
   ]
  },
  {
   "cell_type": "code",
   "execution_count": 46,
   "id": "c5f6a4a3",
   "metadata": {},
   "outputs": [
    {
     "name": "stdout",
     "output_type": "stream",
     "text": [
      "Lily is 3 years old, it has red fur\n"
     ]
    }
   ],
   "source": [
    "class Dog:\n",
    " \n",
    "    def __init__(self, name, age):\n",
    "        self.name = name\n",
    "        self.age = age\n",
    " \n",
    "dog = Dog('Lily', 3)\n",
    "dog.fur_color = 'red' #为实例对象dog增加一个fur_color属性\n",
    " \n",
    "print('%s is %s years old, it has %s fur' % (dog.name, dog.age, dog.fur_color))\n",
    " \n"
   ]
  },
  {
   "cell_type": "markdown",
   "id": "0505ade6",
   "metadata": {},
   "source": [
    "注：\n",
    "1. 语句self.name = name，self.age = age以及后面的语句dog.fur_color = 'red'为实例dog增加三个属性name, age, fur_color。\n",
    "\n",
    "2. Python类实例有两个特殊之处：\n",
    "    1. __init__在实例化时执行\n",
    "    2. Python实例对象调用方法时，会将实例对象作为第一个参数传递因此，__init__方法中的self就是实例对象本身，这里是dog"
   ]
  },
  {
   "cell_type": "markdown",
   "id": "d7d01c14",
   "metadata": {},
   "source": [
    "## 属性引用\n",
    "\n",
    "属性的引用与直接访问名字不同，不涉及到作用域\n",
    "\n",
    "### 类属性引用\n",
    "\n",
    "类属性的引用，肯定是需要类对象的，属性分为两种：数据属性、函数属性。只是通常很少有引用类函数属性的需求"
   ]
  },
  {
   "cell_type": "code",
   "execution_count": 49,
   "id": "d373bd59",
   "metadata": {},
   "outputs": [
    {
     "name": "stdout",
     "output_type": "stream",
     "text": [
      "canine  -  China\n"
     ]
    }
   ],
   "source": [
    "# 例11：数据属性引用很简单\n",
    "class Dog:\n",
    " \n",
    "    kind = 'canine'\n",
    " \n",
    "Dog.country = 'China'\n",
    " \n",
    "print(Dog.kind, ' - ', Dog.country)  # output: canine  -  China"
   ]
  },
  {
   "cell_type": "code",
   "execution_count": 50,
   "id": "563317a6",
   "metadata": {},
   "outputs": [
    {
     "name": "stdout",
     "output_type": "stream",
     "text": [
      "canine\n",
      "canine\n"
     ]
    }
   ],
   "source": [
    "# 例11_1：\n",
    "class Dog:\n",
    "    kind = 'canine'\n",
    " \n",
    "    def tell_kind(self):\n",
    "        print(Dog.kind)\n",
    " \n",
    "    def info(self):\n",
    "        return self.tell_kind() #类中调用实例方法\n",
    " \n",
    "dog = Dog()\n",
    "dog.tell_kind()  # Output: canine\n",
    "dog.info()  # Output: canine"
   ]
  },
  {
   "cell_type": "markdown",
   "id": "432ef77e",
   "metadata": {},
   "source": [
    "### 实例属性引用\n",
    "使用实例对象引用属性稍微复杂一些，因为实例对象可引用类属性以及实例属性。但是实例**对象引用属性**时遵循以下规则：\n",
    "1. 总是**先到实例对象中查找属性，再到类属性中查找属性**\n",
    "2. 属性绑定语句总是为实例对象创建新属性，属性存在时，更新属性指向的对象"
   ]
  },
  {
   "cell_type": "code",
   "execution_count": 52,
   "id": "c6aa6055",
   "metadata": {},
   "outputs": [
    {
     "name": "stdout",
     "output_type": "stream",
     "text": [
      "Lily 3 canine Britain\n"
     ]
    }
   ],
   "source": [
    "# 例12：\n",
    "class Dog:\n",
    " \n",
    "    kind = 'canine'\n",
    "    country = 'China'\n",
    " \n",
    "    def __init__(self, name, age, country):\n",
    "        self.name = name\n",
    "        self.age = age\n",
    "        self.country = country\n",
    " \n",
    "dog = Dog('Lily', 3, 'Britain')\n",
    "print(dog.name, dog.age, dog.kind, dog.country)   #output:Lily 3 canine Britain"
   ]
  },
  {
   "cell_type": "markdown",
   "id": "6b1c1e1b",
   "metadata": {},
   "source": [
    "注：\n",
    "类对象Dog与实例对象dog均有属性country，按照规则，dog.country会引用到实例对象的属性；但实例对象dog没有属性kind，按照规则会引用类对象的属性"
   ]
  },
  {
   "cell_type": "code",
   "execution_count": 53,
   "id": "01fc97de",
   "metadata": {},
   "outputs": [
    {
     "name": "stdout",
     "output_type": "stream",
     "text": [
      "Lily 3 canine Britain\n",
      "{'name': 'Lily', 'age': 3, 'country': 'Britain'}\n",
      "Lily 3 feline Britain\n",
      "{'name': 'Lily', 'age': 3, 'country': 'Britain', 'kind': 'feline'}\n",
      "canine\n"
     ]
    }
   ],
   "source": [
    "# 例13：\n",
    "class Dog:\n",
    " \n",
    "    kind = 'canine'\n",
    "    country = 'China'\n",
    " \n",
    "    def __init__(self, name, age, country):\n",
    "        self.name = name\n",
    "        self.age = age\n",
    "        self.country = country\n",
    " \n",
    "dog = Dog('Lily', 3, 'Britain')\n",
    " \n",
    "print(dog.name, dog.age, dog.kind, dog.country)   # Lily 3 canine Britain\n",
    "print(dog.__dict__)                               # {'name': 'Lily', 'age': 3, 'country': 'Britain'}\n",
    " \n",
    "dog.kind = 'feline'\n",
    " \n",
    "print(dog.name, dog.age, dog.kind, dog.country)   # Lily 3 feline Britain\n",
    "print(dog.__dict__)                               # {'name': 'Lily', 'age': 3, 'country': 'Britain', 'kind': 'feline'}\n",
    "print(Dog.kind)                                   # canine (没有改变类属性的指向)"
   ]
  },
  {
   "cell_type": "code",
   "execution_count": 54,
   "id": "f0d6020d",
   "metadata": {},
   "outputs": [
    {
     "name": "stdout",
     "output_type": "stream",
     "text": [
      "{'__module__': '__main__', 'kind': 'canine', 'country': 'China', '__init__': <function Dog.__init__ at 0x7fe5bfe372f0>, '__dict__': <attribute '__dict__' of 'Dog' objects>, '__weakref__': <attribute '__weakref__' of 'Dog' objects>, '__doc__': None}\n"
     ]
    }
   ],
   "source": [
    "print(Dog.__dict__)"
   ]
  },
  {
   "cell_type": "markdown",
   "id": "567b6fad",
   "metadata": {},
   "source": [
    "注：\n",
    "使用属性绑定语句dog.kind = 'feline'，按照规则，为实例对象dog增加了属性kind，后面使用dog.kind引用到实例对象的属性。这里不要以为会改变类属性Dog.kind的指向，实则是为实例对象新增属性，可以使用查看__dict__的方式证明这一点。"
   ]
  },
  {
   "cell_type": "markdown",
   "id": "b4032344",
   "metadata": {},
   "source": [
    "### 可变类属性引用"
   ]
  },
  {
   "cell_type": "code",
   "execution_count": 57,
   "id": "690c2794",
   "metadata": {},
   "outputs": [
    {
     "name": "stdout",
     "output_type": "stream",
     "text": [
      "['roll over', 'play dead']\n"
     ]
    }
   ],
   "source": [
    "# 例14：\n",
    "class Dog:\n",
    "    \n",
    "    tricks = []\n",
    " \n",
    "    def __init__(self, name):\n",
    "        self.name = name\n",
    " \n",
    "    def add_trick(self, trick):\n",
    "        self.tricks.append(trick)\n",
    " \n",
    "d = Dog('Fido')\n",
    "e = Dog('Buddy')\n",
    "d.add_trick('roll over')\n",
    "e.add_trick('play dead')\n",
    "print(d.tricks)             "
   ]
  },
  {
   "cell_type": "markdown",
   "id": "b21ff43d",
   "metadata": {},
   "source": [
    "注：\n",
    "\n",
    "语句self.tricks.append(trick)并不是属性绑定语句，因此还是在类属性上修改可变对象"
   ]
  },
  {
   "cell_type": "markdown",
   "id": "2fd69039",
   "metadata": {},
   "source": [
    "## 拓展（python中的self参数）\n"
   ]
  },
  {
   "cell_type": "code",
   "execution_count": 58,
   "id": "085cf364",
   "metadata": {},
   "outputs": [],
   "source": [
    "class Student(object):\n",
    "    pass\n",
    "student = Student()"
   ]
  },
  {
   "cell_type": "markdown",
   "id": "e5b4fa71",
   "metadata": {},
   "source": [
    "注：\n",
    "由于类起到模板的作用，因此，可以在创建实例的时候，把我们认为必须绑定的属性强制填写进去(绑定实例变量)。这里就用到Python当中的一个内置方法<font color=red>__init__</font>方法，例如在Student类时，把name、score等属性绑上去"
   ]
  },
  {
   "cell_type": "code",
   "execution_count": 59,
   "id": "443bed38",
   "metadata": {},
   "outputs": [
    {
     "name": "stdout",
     "output_type": "stream",
     "text": [
      "Hugh\n",
      "99\n"
     ]
    }
   ],
   "source": [
    "class Student(object):\n",
    "    def __init__(self, name, score):\n",
    "        self.name = name\n",
    "        self.score = score\n",
    " \n",
    "student = Student(\"Hugh\", 99)\n",
    "print(student.name)\n",
    "print(student.score)\n"
   ]
  },
  {
   "cell_type": "markdown",
   "id": "87410f99",
   "metadata": {},
   "source": [
    "注：        \n",
    "\n",
    "1. **__init__方法的第一参数永远是self，表示创建的当前类实例本身**，因此，在__init__方法内部，就可以把各种属性绑定到self，因为self就指向创建的实例本身\n",
    "\n",
    "2. 有了__init__方法，在创建实例的时候(类实例化)，就不能传入空的参数了，必须传入与__init__方法匹配的参数，但self不需要传，Python解释器会自己把实例变量传进去\n",
    "\n",
    "3. 这里self就是指当前实例对象本身，self.name就是当前student实例对象的name属性，是该student实例对象独有的\n",
    "\n",
    "4. <font color=red>**name是外部传来的参数，不是Student类自带的。故，self.name = name的意思就是把外部传来的参数name的值赋值给student当前实例对象自己的实例属性name(只是实例变量的名字和形参的一样而已)**</font>\n"
   ]
  },
  {
   "cell_type": "code",
   "execution_count": 60,
   "id": "e4a92074",
   "metadata": {},
   "outputs": [
    {
     "name": "stdout",
     "output_type": "stream",
     "text": [
      "zh\n",
      "12\n"
     ]
    }
   ],
   "source": [
    "class Student(object):\n",
    "    def __init__(self, name_1, score_1):\n",
    "        self.name = name_1\n",
    "        self.score = score_1\n",
    " \n",
    "student = Student(\"zh\",12)\n",
    "print(student.name)\n",
    "print(student.score)\n"
   ]
  },
  {
   "cell_type": "markdown",
   "id": "07cc9504",
   "metadata": {},
   "source": [
    "注：\n",
    "\n",
    "这个例子中就特意把实例变量名和形参名定义成不一样了：self.name = name_1\n",
    "\n",
    "1. name_1相当于是占位的形参，只是方便外部向类中传递参数(给实例变量传递值)，没有什么实际意义\n",
    "2. self.name中的name才是真正的实例变量了，是每个实例独有的属性\n",
    "3. 只是说这两个变量表示的属性意义是一样的，因此更多的是将两个写成一样的名字。不然，有一个实例属性是\"名字\"，形参用的是\"a\",实例属性用的是\"name\"，这样就看起来比较奇怪的，都表示的是\"名字\"却用了不一样的名字\n"
   ]
  },
  {
   "cell_type": "code",
   "execution_count": 61,
   "id": "52a6ab44",
   "metadata": {},
   "outputs": [
    {
     "name": "stdout",
     "output_type": "stream",
     "text": [
      "18\n"
     ]
    }
   ],
   "source": [
    "class Person:\n",
    "    def __init__(self, name, job=None, pay=10):\n",
    "        self.name = name\n",
    "        self.job = job\n",
    "        self.pay = pay\n",
    " \n",
    "    def getRaise(self, percent):\n",
    "        self.pay = int(self.pay * (1 + percent))\n",
    "        return self.pay\n",
    " \n",
    " \n",
    "p = Person(\"xiaoming\", \"jixie\")\n",
    "print(p.getRaise(0.8))  # output:18"
   ]
  },
  {
   "cell_type": "markdown",
   "id": "3ea91470",
   "metadata": {},
   "source": [
    "注：\n",
    "self是指当前被调用的对象，对的，就是上边刚被你实例化的对象p。当你需要调用当前对象(实例对象)的方法或者属性时，要用self.来进行调用(类中调用实例属性或方法：self.)\n",
    "\n"
   ]
  },
  {
   "cell_type": "code",
   "execution_count": 62,
   "id": "eb110748",
   "metadata": {},
   "outputs": [],
   "source": [
    "class CC:\n",
    "    def setXY(self,x,y):\n",
    "        self.x = x\n",
    "        self.y = y\n",
    "    def printXY(self):\n",
    "        print(self.x ,self.y)\n",
    " \n",
    "dd = CC()\n",
    "dd.setXY(4,5)"
   ]
  },
  {
   "cell_type": "markdown",
   "id": "46dd6aac",
   "metadata": {},
   "source": [
    "注：\n",
    "self参数：当实例对象dd去调用setXY方法的时候，它传入的第一个参数就是dd，那么self.x = 4，self.y = 5也就相当于dd.x = 4,dd.y = 5,所以你在实例对象，甚至类对象中都看不到x和y，因为这两个属性是只属于实例对象dd的\n",
    "\n"
   ]
  },
  {
   "cell_type": "code",
   "execution_count": 65,
   "id": "3a57952d",
   "metadata": {},
   "outputs": [
    {
     "name": "stdout",
     "output_type": "stream",
     "text": [
      "{'x': 4, 'y': 5}\n",
      "{'__module__': '__main__', 'setXY': <function CC.setXY at 0x7fe5c8c44268>, 'printXY': <function CC.printXY at 0x7fe5c8c44bf8>, '__dict__': <attribute '__dict__' of 'CC' objects>, '__weakref__': <attribute '__weakref__' of 'CC' objects>, '__doc__': None}\n"
     ]
    }
   ],
   "source": [
    "print(dd.__dict__)\n",
    "print(CC.__dict__)"
   ]
  },
  {
   "cell_type": "code",
   "execution_count": 69,
   "id": "2302f1b3",
   "metadata": {},
   "outputs": [
    {
     "name": "stdout",
     "output_type": "stream",
     "text": [
      "100\n",
      "100\n",
      "200\n"
     ]
    }
   ],
   "source": [
    "class TestClass(object):\n",
    "    val1 = 100\n",
    " \n",
    "    def __init__(self):\n",
    "        self.val2 = 200\n",
    " \n",
    "    def fcn(self, val=400):\n",
    "        val3 = 300\n",
    "        \n",
    "        self.val4 = val\n",
    "        self.val5 = 500\n",
    " \n",
    " \n",
    "if __name__ == '__main__':\n",
    "    inst = TestClass()\n",
    " \n",
    "    print(TestClass.val1)\n",
    "    print(inst.val1)\n",
    "    print(inst.val2)\n",
    "    #print(inst.val3)\n",
    "    #val3为局部变量，无法在函数为调用'TestClass' object has no attribute 'val3'\n",
    "    #print(inst.val4)\n",
    "    #print(inst.val5)"
   ]
  },
  {
   "cell_type": "markdown",
   "id": "441fd6c6",
   "metadata": {},
   "source": [
    "注：\n",
    "1. val1是类变量，可以由类名直接调用，也可以有对象来调用；\n",
    "\n",
    "2. val2是实例变量，可以由类的对象来调用，这里可以看出成员变量一定是以self.的形式给出的，因为self的含义就是代表实例对象\n",
    "\n",
    "3. val3既不是类变量也不是实例变量，它只是函数fcn内部的局部变量\n",
    "\n",
    "4. **val4和val5也都不是实例变量，虽是以self.给出，但并没有在构造函数中初始化**\n"
   ]
  },
  {
   "cell_type": "markdown",
   "id": "307f38d8",
   "metadata": {},
   "source": [
    "## 在实例方法中调用其他方法"
   ]
  },
  {
   "cell_type": "code",
   "execution_count": 70,
   "id": "9df896ae",
   "metadata": {},
   "outputs": [
    {
     "name": "stdout",
     "output_type": "stream",
     "text": [
      "name is jake,age is 13swimming\n"
     ]
    }
   ],
   "source": [
    "class Dog():\n",
    "    def __init__(self,name,age):\n",
    "        self.name = name\n",
    "        self.age = age\n",
    " \n",
    "    def get_dog_information(self):\n",
    "        dog_information = \"name is {0},age is {1}\".format(self.name,self.age)\n",
    "        return dog_information\n",
    " \n",
    "    def get_dog_speak(self,love):\n",
    "        dog_speak = self.get_dog_information() + love\n",
    "        return dog_speak\n",
    " \n",
    "dog = Dog(\"jake\",13)\n",
    "print(dog.get_dog_speak(\"swimming\"))\n",
    " \n",
    "#name is jake,age is 13swimminga"
   ]
  },
  {
   "cell_type": "markdown",
   "id": "389bef98",
   "metadata": {},
   "source": [
    "注：在上面例子中\n",
    "在get_dog_information()方法中调用了get_dog_information()，且get_dog_information()方法前加了self参数，该参数的意义与其他self的意思一样，都是代表实际本身"
   ]
  },
  {
   "cell_type": "markdown",
   "id": "52ceeb69",
   "metadata": {},
   "source": [
    "![jupyter](./images/class.png) "
   ]
  },
  {
   "cell_type": "markdown",
   "id": "a0535f2e",
   "metadata": {},
   "source": [
    "## 实例方法、类方法、静态方法"
   ]
  },
  {
   "cell_type": "markdown",
   "id": "8270833b",
   "metadata": {},
   "source": [
    "1、在面向对象的编程中，类属性可细分为类属性和实例属性一样，同样的，对于类中的方法也可以具体可划分为类方法、实例方法和静态方法"
   ]
  },
  {
   "cell_type": "markdown",
   "id": "fed4d9a7",
   "metadata": {},
   "source": [
    "**实例方法**\n",
    "\n",
    "1. 在类编程中，一般情况下在类中定义的方法、函数默认都是实例方法\n",
    "\n",
    "2. python的类编程中实例方法最大的特点就是最少要包含一个self参数，该参数必须定义，但调用时不需要传\n",
    "    - 该self参数的作用是绑定调用此方法的实例对象(确定当前是哪个实例对象在调用方法、实例变量，Python会自动完成绑定)，类比C++中的this指针\n",
    "    - <font color=red>**实例方法：方法中第一个参数都是self**</font>,实例变量、实例方法都需要要绑定self(self参数表示当前实例对象本身)\n",
    "    - 调用实例方法：只能由实例对象调用\n",
    "\n",
    "3. 感觉经常用到的都是实例方法，所以前面主要介绍了实例方法。类方法和静态方法感觉不是经常用到，所以在这里补充下\n"
   ]
  },
  {
   "cell_type": "code",
   "execution_count": 73,
   "id": "6a9d863f",
   "metadata": {},
   "outputs": [
    {
     "name": "stdout",
     "output_type": "stream",
     "text": [
      "My name is 张三,I am a student in 三年2班.I comefrom china,chengdu,高新区,茂业中心\n",
      "My name is 李四,I am a student in 三年2班.I comefrom china,meishan,hongya,gaomiao\n"
     ]
    }
   ],
   "source": [
    "class MyClass:\n",
    "    className = \"三年2班\"  # 定义一个类属性className\n",
    " \n",
    "    def __init__(self,name):#定义一个实例变量name\n",
    "        self.name = name\n",
    " \n",
    "    def BaseInfo(self):\n",
    "        # 类中调用实例变量、类变量\n",
    "        baseInfo = \"My name is %s,I am a student in %s\" % (self.name,MyClass.className)\n",
    "        return baseInfo\n",
    " \n",
    "    def ComeFrom(self,country,*args): # 在方法中定义一些局部变量(只能在该方法中使用)\n",
    "        # 类中调用类方法\n",
    "        baseInfo = self.BaseInfo()\n",
    "        comeFrom = baseInfo + \".I comefrom \" + country + \",\" + \",\".join(args)\n",
    "        return comeFrom\n",
    " \n",
    "x = MyClass(\"张三\")  # 实例化类\n",
    "# 类外访问实例方法\n",
    "print(x.ComeFrom(\"china\",\"chengdu\",\"高新区\",\"茂业中心\"))\n",
    " \n",
    "y = MyClass(\"李四\")  # 实例化类\n",
    "# 类外访问实例方法\n",
    "print(y.ComeFrom(\"china\",\"meishan\",\"hongya\",\"gaomiao\"))\n"
   ]
  },
  {
   "cell_type": "markdown",
   "id": "64bbfd9f",
   "metadata": {},
   "source": [
    "类方法\n",
    "\n",
    "1. Python中的类方法和实例方法类似，但类方法需要满足以下要求：\n",
    "    - 类方法至少需要包含一个参数，与实例方法不同的是该参数并非self，而是python程序员约定俗成的参数：<font color=red>cls(cls表示当前类对象)</font>\n",
    "    - Python会自动将类本身绑定到cls参数(非实例对象)，故在调用类方法时，无需显式为cls参数传递参数\n",
    "    - 类方法需要使用修饰语句： <font color=red>＠classmethod</font>\n",
    "2. 调用类方法：类和实例对象都可以调用\n",
    "    - 类方法推荐使用类名直接调用，当然也可以使用实例对象来调用(不推荐)\n",
    "\n"
   ]
  },
  {
   "cell_type": "code",
   "execution_count": 75,
   "id": "ad631993",
   "metadata": {},
   "outputs": [
    {
     "name": "stdout",
     "output_type": "stream",
     "text": [
      "正在调用类方法 <class '__main__.CLanguage'>\n",
      "正在调用类方法 <class '__main__.CLanguage'>\n"
     ]
    }
   ],
   "source": [
    "# 例20：\n",
    "class CLanguage:\n",
    "    #类构造方法，也属于实例方法\n",
    "    def __init__(self):\n",
    "        self.name = \"C语言中文网\"\n",
    "        self.add = \"http://c.biancheng.net\"\n",
    "    #下面定义了一个类方法\n",
    "    @classmethod\n",
    "    def info(cls):\n",
    "        print(\"正在调用类方法\",cls)\n",
    " \n",
    " \n",
    "#使用类名直接调用类方法\n",
    "CLanguage.info()\n",
    "#使用类对象调用类方法\n",
    "clang = CLanguage()\n",
    "clang.info()"
   ]
  },
  {
   "cell_type": "markdown",
   "id": "7d649fd4",
   "metadata": {},
   "source": [
    "注：\n",
    "\n",
    "1. 在一个类中可以同时定义实例方法、类方法、静态方法\n",
    "\n",
    "2. <font color=red>类方法中是不能调用实例变量的，但是可以调用类变量：因为类方法是指向类的，而不是实例对象的</font>\n",
    "\n",
    "3. 调用实例方法前必须实例化类；调用类方法就可以直接使用类名进行调用"
   ]
  },
  {
   "cell_type": "markdown",
   "id": "207f80c3",
   "metadata": {},
   "source": [
    "**静态方法**\n",
    "\n",
    "1. 类中的静态方法，实际上就是大家众所周知的普通函数，存在的唯一区别是：\n",
    "    - 类静态方法在类命名空间中定义，而函数则在程序的全局命名空间中定义\n",
    "\n",
    "2. 需要注意的是：\n",
    "    - 类静态方法没有self、cls这样的特殊参数，故Python解释器不会对其包含的参数做任何类或对象的绑定\n",
    "    - 类静态方法中无法调用任何类和对象的属性和方法，类静态方法与类的关系不大\n",
    "    - 静态方法需要使用＠staticmethod修饰\n",
    "\n",
    "3. 静态方法的调用，既可以使用类名，也可以使用类对象\n",
    "\n",
    "4. 静态方法是类中的函数，不需要实例等\n",
    "    - 静态方法主要是用来存放逻辑性的代码，逻辑上属于类，但是和类本身没有关系\n",
    "    - 也就是说在<font color=red>静态方法中，不会涉及到类中的属性和方法的操作(静态方法中不能使用实例变量、类变量、实例方法等)</font>\n",
    "    - 可以理解为，静态方法是个独立的、单纯的函数，它仅仅托管于某个类的名称空间中，便于使用和维护\n"
   ]
  },
  {
   "cell_type": "code",
   "execution_count": 77,
   "id": "4d0bfbc8",
   "metadata": {},
   "outputs": [
    {
     "name": "stdout",
     "output_type": "stream",
     "text": [
      "C语言中文网 http://c.biancheng.net\n",
      "Python教程 http://c.biancheng.net/python\n"
     ]
    }
   ],
   "source": [
    "class CLanguage:\n",
    "    @staticmethod\n",
    "    def info(name,add):\n",
    "        print(name,add)\n",
    "#使用类名直接调用静态方法\n",
    "CLanguage.info(\"C语言中文网\",\"http://c.biancheng.net\")\n",
    " \n",
    "#使用类对象调用静态方法\n",
    "clang = CLanguage()\n",
    "clang.info(\"Python教程\",\"http://c.biancheng.net/python\")\n",
    " "
   ]
  },
  {
   "cell_type": "code",
   "execution_count": null,
   "id": "61996915",
   "metadata": {},
   "outputs": [],
   "source": []
  }
 ],
 "metadata": {
  "kernelspec": {
   "display_name": "Python 3",
   "language": "python",
   "name": "python3"
  },
  "language_info": {
   "codemirror_mode": {
    "name": "ipython",
    "version": 3
   },
   "file_extension": ".py",
   "mimetype": "text/x-python",
   "name": "python",
   "nbconvert_exporter": "python",
   "pygments_lexer": "ipython3",
   "version": "3.6.9"
  },
  "toc": {
   "base_numbering": 1,
   "nav_menu": {},
   "number_sections": true,
   "sideBar": true,
   "skip_h1_title": false,
   "title_cell": "Table of Contents",
   "title_sidebar": "Contents",
   "toc_cell": false,
   "toc_position": {},
   "toc_section_display": true,
   "toc_window_display": false
  }
 },
 "nbformat": 4,
 "nbformat_minor": 5
}
