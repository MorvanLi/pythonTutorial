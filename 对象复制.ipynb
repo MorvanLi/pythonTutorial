{
 "cells": [
  {
   "cell_type": "markdown",
   "id": "b7b6a546",
   "metadata": {},
   "source": [
    "# Python中的复制"
   ]
  },
  {
   "cell_type": "markdown",
   "id": "9a03a21e",
   "metadata": {},
   "source": [
    "1. Python中一切皆对象\n",
    "    - 在Python中，无论是定义的数值、字符串、列表、元组、集合、字典还是函数、类等都看作是一种对象\n",
    "    - 列表、元组、集合、字典属于复合对象，它们可以包含数值、字符串，也可以互相嵌套\n",
    "    - 对象都是可以赋值给变量的\n",
    "\n",
    "2. 列表、字典、集合为可变对象，这些对象的有些方法是在对象本身上操作的\n",
    "    - 直接在对象本身上进行修改：改变的是对象本身，而不是生成一个修改后的新对象\n",
    "    - 如append()、remove()方法等等。这类方法都是在对象本身上进行修改，返回值为None(不会生成修改后的新对象)\n",
    "\n",
    "3. 有时候我们可能**<font color=red>需要在保持对象本身不变的前提下到达修改的目的</font>**\n",
    "    - 此时就可以复制出一个对象，然后在复制出来的对象上进行修改，这样就不需要再原对象本身上修改了\n",
    "\n",
    "4. Python中提供了以下的复制方法\n",
    "    - **<font color=red>切片：对象[:]</font>**\n",
    "    - **<font color=red>copy()函数：copy模块的copy方法，列表、字典等自带的copy()方法</font>**\n",
    "    - **<font color=red>deepcopy()函数：copy模块的deepcopy方法</font>**\n",
    "\n",
    "5. 在复制一个对象时，会涉及到Python中的深复制、浅复制(也叫浅拷贝、深拷贝)的问题。因此这里主要介绍这两种复制的区别\n",
    "    - 即对象复制。对象复制又包含浅复制和深复制"
   ]
  },
  {
   "cell_type": "markdown",
   "id": "fd21c710",
   "metadata": {},
   "source": [
    "## 浅复制"
   ]
  },
  {
   "cell_type": "markdown",
   "id": "d7b9934b",
   "metadata": {},
   "source": [
    "1. **<font color=red>浅复制(copy)：复制父对象，不会复制对象的内部的子对象</font>**\n",
    "\n",
    "2. 如果元素是嵌套元素(可变对象)时，就只会复制外层的不可变对象元素，不会复制嵌套的可变对象元素\n",
    "\n",
    "3. Python中浅复制有3种实现方式\n",
    "    - 切片\n",
    "    - 使用数据自带的copy方法\n",
    "    - 使用copy模块的copy方法\n"
   ]
  },
  {
   "cell_type": "markdown",
   "id": "56c240e5",
   "metadata": {},
   "source": [
    "### 修改外层元素"
   ]
  },
  {
   "cell_type": "markdown",
   "id": "503fee12",
   "metadata": {},
   "source": [
    "1. 列表、元组、集合、字典是容器类数据，属于复合对象：它们的元素(值)可以是数字、字符串。也可以互相嵌套\n",
    "    - 也就是说对于复合对象而言：其元素(值)可以是单层的也可以是多层的\n",
    "\n",
    "2. **<font color=red>单层容器：</font>** 元素(值)均为数字、字符串，无嵌套\n",
    "    - 元素(值)中无列表、元组、集合、字典等类型\n",
    "    - 如：[1, 2, 3, 4, 5, \"a\", \"b\"]等\n",
    "\n",
    "3. **<font color=red>多层容器：</font>** 元素(值)中存在列表、元组、集合、字典，也可以有数字、字符串，有嵌套\n",
    "    - 元素(值)中存在列表或元组或集合或字典等类型\n",
    "    - 如：[1, \"a\", [2, \"b\"]]或[1, \"a\", {\"name\": \"mouse\"}]等\n",
    "\n",
    "4. 容器类数据分为单层容器和多层容器，因此容器内的元素也可分为两种：按照元素所处层来分类\n",
    "    - **<font color=red>外层元素：</font>** 外层元素指的是容器中最外层的元素(第一层的元素)，比如[1, \"a\", [2, \"b\"]]中的元素1、\"a\"、[2, \"b\"]\n",
    "        - 需要注意的是：[2, \"b\"]也是容器中最外层的元素(作为一个整体)，只是说是一个容器类对象(列表)\n",
    "    - **<font color=red>内层元素：</font>** 内层元素指的是容器中非第一层的元素，元素在第二层、第三层...\n",
    "        - 比如[1, \"a\", [2, \"b\"]]中的元素2, \"b\"或[1, \"a\", {\"name\": \"mouse\"}]中的\"name\": \"mouse\"\n",
    "    - 对于单层容器来说，肯定只有外层元素，没有内层元素    \n",
    "    - 对于多层容器来说，有外层元素，也有内层元素    \n",
    "\n",
    "5. 这里先以**<font color=red>修改外层元素(值)</font>**为例"
   ]
  },
  {
   "cell_type": "code",
   "execution_count": 1,
   "id": "f65b350c",
   "metadata": {},
   "outputs": [
    {
     "name": "stdout",
     "output_type": "stream",
     "text": [
      "原数据内存id为： 139651549942152\n",
      "复制的数据内存id为： 139651549944968\n",
      "修改后原数据为：： [1, 2, 3, 4, 'a', 'b']\n",
      "修改后复制的数据为：： [1, 2, 3, 4, 'a', 'b', 'mouse']\n",
      "修改后原数据内存id为： 139651549942152\n",
      "修改后复制的数据内存id为： 139651549944968\n"
     ]
    }
   ],
   "source": [
    "# 例1：通过切片来复制一个对象并修改外层元素\n",
    "data = [1,2,3,4,\"a\",\"b\"]\n",
    " \n",
    "# 通过切片来复制一个对象\n",
    "newData = data[:]\n",
    "# 查看两个对象的内存id：查看是否为同一对象\n",
    "print(\"原数据内存id为：\",id(data))\n",
    "print(\"复制的数据内存id为：\",id(newData))\n",
    " \n",
    "# 修改复制出来的对象\n",
    "newData.append(\"mouse\")\n",
    "#查看修改后的原、新对象变化\n",
    "print(\"修改后原数据为：：\",data)\n",
    "print(\"修改后复制的数据为：：\",newData)\n",
    " \n",
    "# 查看修改后两个对象的内存id：查看是否为同一对象\n",
    "print(\"修改后原数据内存id为：\",id(data))\n",
    "print(\"修改后复制的数据内存id为：\",id(newData))"
   ]
  },
  {
   "cell_type": "code",
   "execution_count": 2,
   "id": "58b0f461",
   "metadata": {},
   "outputs": [
    {
     "name": "stdout",
     "output_type": "stream",
     "text": [
      "原数据内存id为： 139651611589128\n",
      "复制的数据内存id为： 139651191436040\n",
      "修改后原数据为：： [1, 2, 3, 4, 'a', 'b']\n",
      "修改后复制的数据为：： [1, 2, 3, 4, 'a', 'b', 'mouse']\n",
      "修改后原数据内存id为： 139651611589128\n",
      "修改后复制的数据内存id为： 139651191436040\n"
     ]
    }
   ],
   "source": [
    "# 例2：通过自带的copy()来复制一个对象并修改外层元素\n",
    "data = [1,2,3,4,\"a\",\"b\"]\n",
    " \n",
    "# 通过自带的copy()来复制一个对象\n",
    "newData = data.copy()\n",
    "# 查看两个对象的内存id：查看是否为同一对象\n",
    "print(\"原数据内存id为：\",id(data))\n",
    "print(\"复制的数据内存id为：\",id(newData))\n",
    " \n",
    "# 修改复制出来的对象\n",
    "newData.append(\"mouse\")\n",
    "#查看修改后的原、新对象变化\n",
    "print(\"修改后原数据为：：\",data)\n",
    "print(\"修改后复制的数据为：：\",newData)\n",
    " \n",
    "# 查看修改后两个对象的内存id：查看是否为同一对象\n",
    "print(\"修改后原数据内存id为：\",id(data))\n",
    "print(\"修改后复制的数据内存id为：\",id(newData))"
   ]
  },
  {
   "cell_type": "code",
   "execution_count": 3,
   "id": "b9eff127",
   "metadata": {},
   "outputs": [
    {
     "name": "stdout",
     "output_type": "stream",
     "text": [
      "原数据内存id为： 139651549942920\n",
      "复制的数据内存id为： 139651611589128\n",
      "修改后原数据为：： [1, 2, 3, 4, 'a', 'b']\n",
      "修改后复制的数据为：： [1, 2, 3, 4, 'a', 'b', 'mouse']\n",
      "修改后原数据内存id为： 139651549942920\n",
      "修改后复制的数据内存id为： 139651611589128\n"
     ]
    }
   ],
   "source": [
    "# 例3： 通过copy模块来复制一个对象并修改外层元素\n",
    "data = [1,2,3,4,\"a\",\"b\"]\n",
    " \n",
    "from copy import copy\n",
    "# 通过copy模块来复制一个对象\n",
    "newData = copy(data)\n",
    "# 查看两个对象的内存id：查看是否为同一对象\n",
    "print(\"原数据内存id为：\",id(data))\n",
    "print(\"复制的数据内存id为：\",id(newData))\n",
    " \n",
    "# 修改复制出来的对象\n",
    "newData.append(\"mouse\")\n",
    "#查看修改后的原、新对象变化\n",
    "print(\"修改后原数据为：：\",data)\n",
    "print(\"修改后复制的数据为：：\",newData)\n",
    " \n",
    "# 查看修改后两个对象的内存id：查看是否为同一对象\n",
    "print(\"修改后原数据内存id为：\",id(data))\n",
    "print(\"修改后复制的数据内存id为：\",id(newData))"
   ]
  },
  {
   "cell_type": "code",
   "execution_count": 4,
   "id": "f0aeaf0c",
   "metadata": {},
   "outputs": [
    {
     "name": "stdout",
     "output_type": "stream",
     "text": [
      "原数据内存id为： 139651191436040\n",
      "复制的数据内存id为： 139651611282120\n",
      "修改后原数据为：： [1, 2, 3, 4, ['a', 'b']]\n",
      "修改后复制的数据为：： ['mouse', 2, 3, 4, 'mouse']\n",
      "修改后原数据内存id为： 139651191436040\n",
      "修改后复制的数据内存id为： 139651611282120\n"
     ]
    }
   ],
   "source": [
    "# 例4：存在嵌套元素且修改外层元素\n",
    "data = [1,2,3,4,[\"a\",\"b\"]]\n",
    " \n",
    "# 通过切片来复制一个对象\n",
    "newData = data[:]\n",
    "# 查看两个对象的内存id：查看是否为同一对象\n",
    "print(\"原数据内存id为：\",id(data))\n",
    "print(\"复制的数据内存id为：\",id(newData))\n",
    " \n",
    "# 修改复制出来的对象:修改外层元素\n",
    "newData[0] = \"mouse\"\n",
    "newData[4] = \"mouse\"\n",
    "#查看修改后的原、新对象变化\n",
    "print(\"修改后原数据为：：\",data)\n",
    "print(\"修改后复制的数据为：：\",newData)\n",
    " \n",
    "# 查看两个对象的内存id：查看是否为同一对象\n",
    "print(\"修改后原数据内存id为：\",id(data))\n",
    "print(\"修改后复制的数据内存id为：\",id(newData))"
   ]
  },
  {
   "cell_type": "code",
   "execution_count": 5,
   "id": "76f6008c",
   "metadata": {},
   "outputs": [
    {
     "name": "stdout",
     "output_type": "stream",
     "text": [
      "原数据内存id为： 139651549944968\n",
      "复制的数据内存id为： 139651611280648\n",
      "修改后原数据为：： [1, 2, 3, 4, ['a', 'b']]\n",
      "修改后复制的数据为：： ['mouse', 2, 3, 4, 'mouse']\n",
      "修改后原数据内存id为： 139651549944968\n",
      "修改后复制的数据内存id为： 139651611280648\n"
     ]
    }
   ],
   "source": [
    "# 例5：存在嵌套元素且修改外层元素\n",
    "data = [1,2,3,4,[\"a\",\"b\"]]\n",
    " \n",
    "# 通过自带的copy()来复制一个对象\n",
    "newData = data.copy()\n",
    "# 查看两个对象的内存id：查看是否为同一对象\n",
    "print(\"原数据内存id为：\",id(data))\n",
    "print(\"复制的数据内存id为：\",id(newData))\n",
    " \n",
    "# 修改复制出来的对象:修改外层元素\n",
    "newData[0] = \"mouse\"\n",
    "newData[4] = \"mouse\"\n",
    "#查看修改后的原、新对象变化\n",
    "print(\"修改后原数据为：：\",data)\n",
    "print(\"修改后复制的数据为：：\",newData)\n",
    " \n",
    "# 查看两个对象的内存id：查看是否为同一对象\n",
    "print(\"修改后原数据内存id为：\",id(data))\n",
    "print(\"修改后复制的数据内存id为：\",id(newData))"
   ]
  },
  {
   "cell_type": "code",
   "execution_count": 6,
   "id": "24bbbf57",
   "metadata": {},
   "outputs": [
    {
     "name": "stdout",
     "output_type": "stream",
     "text": [
      "原数据内存id为： 139651611161416\n",
      "复制的数据内存id为： 139651549944968\n",
      "修改后原数据为：： [1, 2, 3, 4, ['a', 'b']]\n",
      "修改后复制的数据为：： ['mouse', 2, 3, 4, 'mouse']\n",
      "修改后原数据内存id为： 139651611161416\n",
      "修改后复制的数据内存id为： 139651549944968\n"
     ]
    }
   ],
   "source": [
    "# 例6：存在嵌套元素且修改外层元素\n",
    "data = [1,2,3,4,[\"a\",\"b\"]]\n",
    " \n",
    "from copy import copy\n",
    "# 通过copy模块来复制一个对象\n",
    "newData = copy(data)\n",
    "# 查看两个对象的内存id：查看是否为同一对象\n",
    "print(\"原数据内存id为：\",id(data))\n",
    "print(\"复制的数据内存id为：\",id(newData))\n",
    " \n",
    "# 修改复制出来的对象:修改外层元素\n",
    "newData[0] = \"mouse\"\n",
    "newData[4] = \"mouse\"\n",
    "#查看修改后的原、新对象变化\n",
    "print(\"修改后原数据为：：\",data)\n",
    "print(\"修改后复制的数据为：：\",newData)\n",
    " \n",
    "# 查看两个对象的内存id：查看是否为同一对象\n",
    "print(\"修改后原数据内存id为：\",id(data))\n",
    "print(\"修改后复制的数据内存id为：\",id(newData))"
   ]
  },
  {
   "cell_type": "markdown",
   "id": "94827cb2",
   "metadata": {},
   "source": [
    "注：通过上面几个例子可以看出\n",
    "\n",
    "1. 不管是使用哪种方法实现的浅复制，复制出来的数据和原数据都存在隔离性\n",
    "    - **<font color=red>复制的数据和原数据是两个不同的对象：在内存中是两个不同的id</font>**\n",
    "\n",
    "2. 不管容器是单层容器还是多层容器\n",
    "    - **<font color=red>通过浅复制复制对象后，只要修改的是最外层元素(值)，那么修改任意一方都不会影响到另一方</font>**\n",
    "        - 修改复制的对象，不会影响到原对象\n",
    "        - 修改原对象，不会影响到复制的对象"
   ]
  },
  {
   "cell_type": "markdown",
   "id": "0836c844",
   "metadata": {},
   "source": [
    "### 修改内层元素"
   ]
  },
  {
   "cell_type": "markdown",
   "id": "47b47f47",
   "metadata": {},
   "source": [
    "1. 列表、元组、集合、字典属于复合对象，它们中的元素(值)可以包含数值、字符串，也可以互相嵌套\n",
    "\n",
    "2. 容器类数据分为单层容器和多层容器，因此容器内的元素也可分为两种：按照元素所处层来分类\n",
    "    - **<font color=red>外层元素：</font>** 外层元素指的是容器中最外层的元素(第一层的元素)，比如[1, \"a\", [2, \"b\"]]中的元素1、\"a\"、[2, \"b\"]\n",
    "        - 需要注意的是：[2, \"b\"]也是容器中最外层的元素(作为一个整体)，只是说是一个容器类对象(列表)\n",
    "    - **<font color=red>内层元素：</font>** 内层元素指的是容器中非第一层的元素，元素在第二层、第三层...\n",
    "        - 比如[1, \"a\", [2, \"b\"]]中的元素2, \"b\"或[1, \"a\", {\"name\": \"mouse\"}]中的\"name\": \"mouse\"\n",
    "    - 对于单层容器来说，肯定只有外层元素，没有内层元素    \n",
    "    - 对于多层容器来说，有外层元素，也有内层元素    \n",
    "\n",
    "3. 上面的例子中我们修改的是容器中的外层元素\n",
    "    - 这里介绍**<font color=red>修改内层元素(值)</font>**时的情况\n"
   ]
  },
  {
   "cell_type": "code",
   "execution_count": 7,
   "id": "30ca2698",
   "metadata": {},
   "outputs": [
    {
     "name": "stdout",
     "output_type": "stream",
     "text": [
      "原数据内存id为： 139651611160264\n",
      "复制的数据内存id为： 139651549887496\n",
      "修改后原数据为：： [1, 2, 3, 4, ['origin', 'b', 'mouse']]\n",
      "修改后复制的数据为：： [1, 2, 3, 4, ['origin', 'b', 'mouse']]\n",
      "修改后原数据内存id为： 139651611160264\n",
      "修改后复制的数据内存id为： 139651549887496\n"
     ]
    }
   ],
   "source": [
    "# 例7：修改内层元素\n",
    "data = [1,2,3,4,[\"a\",\"b\"]]\n",
    " \n",
    "# 通过切片来复制一个对象\n",
    "newData = data[:]\n",
    "# 查看两个对象的内存id：查看是否为同一对象\n",
    "print(\"原数据内存id为：\",id(data))\n",
    "print(\"复制的数据内存id为：\",id(newData))\n",
    " \n",
    "# 修改复制出来的对象:修改内层元素\n",
    "newData[4].append(\"mouse\")\n",
    "newData[4][0] = \"origin\"\n",
    "#查看修改后的原、新对象变化\n",
    "print(\"修改后原数据为：：\",data)\n",
    "print(\"修改后复制的数据为：：\",newData)\n",
    " \n",
    "# 查看两个对象的内存id：查看是否为同一对象\n",
    "print(\"修改后原数据内存id为：\",id(data))\n",
    "print(\"修改后复制的数据内存id为：\",id(newData))"
   ]
  },
  {
   "cell_type": "code",
   "execution_count": 8,
   "id": "d2980320",
   "metadata": {},
   "outputs": [
    {
     "name": "stdout",
     "output_type": "stream",
     "text": [
      "修改后原数据为：： [1, 2, 3, 4, ['origin', 'b', 'mouse']]\n",
      "修改后复制的数据为：： [1, 2, 3, 4, ['origin', 'b', 'mouse']]\n",
      "修改后原数据为：： [1, 2, 3, 4, ['a', 'b', 'apple']]\n",
      "修改后复制的数据为：： [1, 2, 3, 4, ['a', 'b', 'apple']]\n"
     ]
    }
   ],
   "source": [
    "# 例8：修改内层元素\n",
    "data = [1,2,3,4,[\"a\",\"b\"]]\n",
    " \n",
    "# 通过自带的copy()来复制一个对象\n",
    "newData = data.copy()\n",
    "# 修改复制出来的对象：修改内层元素\n",
    "newData[4].append(\"mouse\")\n",
    "newData[4][0] = \"origin\"\n",
    "#查看修改后的原、新对象变化\n",
    "print(\"修改后原数据为：：\",data)\n",
    "print(\"修改后复制的数据为：：\",newData)\n",
    " \n",
    "from copy import copy\n",
    "data1 = [1,2,3,4,[\"a\",\"b\"]]\n",
    "# 通过copy模块来复制一个对象\n",
    "newData1 = copy(data1)\n",
    "# 修改复制出来的对象：修改内层元素\n",
    "newData1[4].append(\"apple\")\n",
    "#查看修改后的原、新对象变化\n",
    "print(\"修改后原数据为：：\",data1)\n",
    "print(\"修改后复制的数据为：：\",newData1)"
   ]
  },
  {
   "cell_type": "markdown",
   "id": "1484470d",
   "metadata": {},
   "source": [
    "注：通过上面几个例子可以看出\n",
    "\n",
    "1. 不管容器是单层容器还是多层容器\n",
    "    - **<font color=red>浅复制都是生成另外一个对象：复制的对象和原对象是两个不同的对象(id值不一致)</font>**\n",
    "    - **<font color=red>通过浅复制复制对象后，只要修改的是最外层元素(值)，那么修改任意一方都不会影响到另一方</font>**\n",
    "        - 修改复制的对象，不会影响到原对象\n",
    "        - 修改原对象，不会影响到复制的对象\n",
    "    - **<font color=red>通过浅复制复制对象后，只要修改的是内层元素(非第一层元素、值)，那么修改任意一方都会影响到另一方</font>**\n",
    "        - 修改复制的对象，会影响到原对象\n",
    "        - 修改原对象，会影响到复制的对象            \n",
    "\n",
    "2. 浅复制一个对象后，之所以会出现上面几种情况是因为\n",
    "    - **<font color=red>浅复制只会复制父对象(第一层元素)，不会复制对象的内部的子对象(内层元素)</font>**\n",
    "    - **<font color=red>只会对最表层的元素对进行复制</font>**，也就是说，它会再申请一块内存用来存放[1,2,3,4,[]]\n",
    "        - 而对于嵌套在内部的值来说(如某些列表类型)，是不会被复制的：而是与原对象共用的(不是自己独有的)\n",
    "        - 相当于内部的列表是引用原对象的，与原对象共用的一个：复制的是引用\n",
    "        - 对于外层元素，两个对象之间实现了数据隔离，**<font color=red>而对于嵌套的复合对象，两个对象之间仍然是共享的</font>**\n",
    "        - 因此，如果修改内部嵌套的元素(值)时，就会相互影响：引用的是同一个对象，一个变了，另一个肯定也会跟着变"
   ]
  },
  {
   "cell_type": "code",
   "execution_count": 9,
   "id": "51f12a98",
   "metadata": {},
   "outputs": [
    {
     "name": "stdout",
     "output_type": "stream",
     "text": [
      "原字典为： {'one': 1, 'two': 2, 'three': [1, 2, 3]}\n",
      "复制的字典为： {'one': 3, 'two': 2, 'three': [1, 2, 3]}\n",
      "原字典为： {'one': 1, 'two': 2, 'three': [1, 2, 3, 'mouse']}\n",
      "复制的字典为： {'one': 1, 'two': 2, 'three': [1, 2, 3, 'mouse']}\n"
     ]
    }
   ],
   "source": [
    "# 例9：修改可变对象元素\n",
    "a = {'one': 1, 'two': 2, 'three': [1, 2, 3]}\n",
    " \n",
    "# 修改外层元素\n",
    "b = a.copy()  # 使用字典自带的copy方法来复制\n",
    "b['one'] = 3\n",
    "print(\"原字典为：\", a)\n",
    "print(\"复制的字典为：\", b)\n",
    "\"\"\"\n",
    "原字典为： {'two': 2, 'three': [1, 2, 3], 'one': 1}\n",
    "复制的字典为： {'one': 3, 'three': [1, 2, 3], 'two': 2}\n",
    "\"\"\"\n",
    " \n",
    "# 修改内层元素\n",
    "c = a.copy()  # 使用字典自带的copy方法来复制\n",
    "c['three'].append(\"mouse\")\n",
    "print(\"原字典为：\", a)\n",
    "print(\"复制的字典为：\", c)"
   ]
  },
  {
   "cell_type": "markdown",
   "id": "0d076535",
   "metadata": {},
   "source": [
    "注：\n",
    "\n",
    "1. **<font color=red>浅拷贝：是指重新分配一块内存，创建一个新的对象，里面的元素是原对象中子对象的引用</font>**\n",
    "\n",
    "2. 如下图"
   ]
  },
  {
   "cell_type": "markdown",
   "id": "c1417282",
   "metadata": {},
   "source": [
    "![jupyter](./images/对象复制fig1.png) "
   ]
  },
  {
   "cell_type": "markdown",
   "id": "22d5db8d",
   "metadata": {},
   "source": [
    "## 深复制"
   ]
  },
  {
   "cell_type": "markdown",
   "id": "f199a301",
   "metadata": {},
   "source": [
    "1. **<font color=red>深复制(deep copy)：完全复制了父对象及其子对象</font>**\n",
    "\n",
    "2. Python中深复制有1种实现方式\n",
    "    - copy模块的deepcopy方法"
   ]
  },
  {
   "cell_type": "code",
   "execution_count": 10,
   "id": "8c3197b2",
   "metadata": {},
   "outputs": [
    {
     "name": "stdout",
     "output_type": "stream",
     "text": [
      "原数据的id为：： 139651549955528\n",
      "复制的数据的id为：： 139651181119112\n",
      "修改后原数据为：： [1, 2, 3, 4, ['a', 'b']]\n",
      "修改后复制的数据为：： ['apple', 2, 3, 4, ['a', 'b', 'mouse']]\n",
      "修改后原数据的id为：： 139651549955528\n",
      "修改后复制的数据的id为：： 139651181119112\n"
     ]
    }
   ],
   "source": [
    "# 例10：修改内层可变对象元素\n",
    "from copy import deepcopy\n",
    " \n",
    "data = [1,2,3,4,[\"a\",\"b\"]]\n",
    " \n",
    "# 通过copy模块来复制一个对象\n",
    "newData = deepcopy(data)\n",
    "# 修改复制出来的对象：修改外层元素\n",
    "newData[0] = \"apple\"\n",
    "# 修改复制出来的对象：修改内层元素\n",
    "newData[4].append(\"mouse\")\n",
    " \n",
    "#查看修改后的原、新对象变化\n",
    "print(\"原数据的id为：：\",id(data))\n",
    "print(\"复制的数据的id为：：\",id(newData))\n",
    " \n",
    "#查看修改后的原、新对象变化\n",
    "print(\"修改后原数据为：：\",data)\n",
    "print(\"修改后复制的数据为：：\",newData)\n",
    " \n",
    "#查看修改后的原、新对象变化\n",
    "print(\"修改后原数据的id为：：\",id(data))\n",
    "print(\"修改后复制的数据的id为：：\",id(newData))"
   ]
  },
  {
   "cell_type": "code",
   "execution_count": 11,
   "id": "cc2cebfc",
   "metadata": {},
   "outputs": [
    {
     "name": "stdout",
     "output_type": "stream",
     "text": [
      "原字典为： {'one': 3, 'two': 2, 'three': [1, 2, 3, 'mouse']}\n",
      "复制的字典为： {'one': 1, 'two': 2, 'three': [1, 2, 3]}\n"
     ]
    }
   ],
   "source": [
    "# 例11：\n",
    "from copy import deepcopy\n",
    " \n",
    "a = {'one': 1, 'two': 2, 'three': [1, 2, 3]}\n",
    "b = deepcopy(a)\n",
    "# 修改原数据\n",
    "a['one'] = 3\n",
    "a['three'].append(\"mouse\")\n",
    " \n",
    "print(\"原字典为：\",a)\n",
    "print(\"复制的字典为：\",b)\n"
   ]
  },
  {
   "cell_type": "markdown",
   "id": "cc7817a6",
   "metadata": {},
   "source": [
    "注：通过上面几个例子可以看出\n",
    "\n",
    "1. 不管容器是单层容器还是多层容器\n",
    "    - **<font color=red>深复制都是生成另外一个对象：复制的对象和原对象是两个不同的对象(id值不一致)</font>**\n",
    "    - **<font color=red>深复制是完全复制了父对象及其子对象：原数据和复制的数据完全独立、互不影响</font>**\n",
    "        - 不管是修改外层元素(值)还是修改内层元素(值)都不会影响到另一方\n",
    "\n",
    "2. 深拷贝： 是指重新分配一块内存，创建一个新的对象，并且将原对象中的元素，以递归的方式拷贝到新对象中。因此，新对象和原对象没有任何关联 "
   ]
  },
  {
   "cell_type": "markdown",
   "id": "209dcb26",
   "metadata": {},
   "source": [
    "![jupyter](./images/对象复制fig2.png) "
   ]
  },
  {
   "cell_type": "markdown",
   "id": "19d05412",
   "metadata": {},
   "source": [
    "## 总结\n",
    "\n",
    "\n",
    "1. 浅复制与深复制的**<font color=red>相同点</font>**：\n",
    "    - 复制的对象和原对象都是两个不同的对象：**<font color=red>id值不一致</font>**\n",
    "\n",
    "2. 浅复制与深复制的不同点\n",
    "    - 浅复制：只会复制父对象，不会复制对象的内部的子对象\n",
    "        - 对于外层元素，两个对象之间实现了数据隔离，而对于嵌套的复合对象，两个对象之间仍然是共享的\n",
    "        - 外层元素各自是各自的，但嵌套的复合对象是共用的\n",
    "    - 深复制：完全复制了父对象及其子对象\n",
    "\n",
    "3. 不管容器是单层容器还是多层容器\n",
    "    - 若修改的是外层元素：浅复制与深复制的效果是一样的\n",
    "        - 修改一方均不会影响到另一方    \n",
    "    - 若修改的是内层元素，浅复制与深复制的效果就不一样了\n",
    "        - 浅复制：修改一方会影响到另外一方\n",
    "        - 深复制：修改一方不会影响到另外一方\n",
    "4. **<font color=red>在Python中，深、浅复制主要发生在可变对象互相嵌套的场景中：</font>** 如可变对象列表、集合、字典中嵌套的列表、集合、字典\n",
    "    - 对于不可变对象：修改其值时始终是重新生成一个修改后的对象\n",
    "        - 原数据与新数据完全不会相互影响"
   ]
  },
  {
   "cell_type": "markdown",
   "id": "a1e93f78",
   "metadata": {},
   "source": [
    "# Python中的赋值"
   ]
  },
  {
   "cell_type": "markdown",
   "id": "f5faa4fd",
   "metadata": {},
   "source": [
    "1. **<font color=red>Python中赋值语句总是创建对象的引用，而不是复制对象</font>**\n",
    "    - 当把值赋给另一个变量的时候，Python并没有拷贝这个对象，只是拷贝了这个对象的引用而已\n",
    "\n",
    "2. Python中同一个对象是可以指向多个变量名的\n",
    "    - 将一个对象(值)赋值给多个变量\n",
    "\n",
    "3. 当我们写：a = 'ABC'时，Python解释器干了两件事情：\n",
    "    - 在内存中创建了一个'ABC'的字符串(对象)\n",
    "    - 在内存中创建了一个名为a的变量，并把它指向'ABC'\n",
    "    - 也可以继续把变量a赋值给另一个变量b(a=b)，这个操作实际上是把变量b指向变量a所指向的数据(值)\n",
    "\n",
    "4. 不管变量值是可变对象还是不可变对象：将同一个对象赋值给多个变量都可以使用下图表示\n",
    "    - 因此执行a=b时：是将变量名a、b指向同一个对象\n",
    "        - 而不是说将对象复制一份后指向b\n",
    "        - **<font color=red>Python中赋值语句总是创建对象的引用，而不是复制对象</font>**"
   ]
  },
  {
   "cell_type": "code",
   "execution_count": 12,
   "id": "19750f1e",
   "metadata": {},
   "outputs": [
    {
     "name": "stdout",
     "output_type": "stream",
     "text": [
      "原对象的id为： 139651176436992\n",
      "新对象的id为： 139651176436992\n",
      "原对象的id为： 139651183578760\n",
      "新对象的id为： 139651183578760\n"
     ]
    }
   ],
   "source": [
    "# 例12：\n",
    "# 将不可变对象赋值给其他变量\n",
    "data = \"hello\"\n",
    "newData = data\n",
    "print(\"原对象的id为：\",id(data))\n",
    "print(\"新对象的id为：\",id(newData))\n",
    " \n",
    "\"\"\"\n",
    "原对象的id为： 2068097432576\n",
    "新对象的id为： 2068097432576\n",
    "\"\"\"\n",
    " \n",
    "# 将可变对象赋值给其他变量\n",
    "data1 = [1,2,3,4]\n",
    "newData1 = data1\n",
    "print(\"原对象的id为：\",id(data1))\n",
    "print(\"新对象的id为：\",id(newData1))"
   ]
  },
  {
   "cell_type": "markdown",
   "id": "1f1b440c",
   "metadata": {},
   "source": [
    "注：将同一个对象赋值给多个变量时：始终只有一个对象，只是对应的变量名不一致"
   ]
  },
  {
   "cell_type": "markdown",
   "id": "93f87757",
   "metadata": {},
   "source": [
    "1. **<font color=red>不同的变量引用的是同一个对象：对象id值一样</font>**\n",
    "2. 所以说要区分好前面复制与这里的赋值，它们两个是有很大区别的"
   ]
  },
  {
   "cell_type": "markdown",
   "id": "4529930d",
   "metadata": {},
   "source": [
    "## 修改不可变对象"
   ]
  },
  {
   "cell_type": "markdown",
   "id": "0e596f6c",
   "metadata": {},
   "source": [
    "1. 不可变对象：不能再原数据上修改\n",
    "\n",
    "2. **<font color=red>在修改不可变对象值时为：新生成一个修改后的对象，然后将变量名指向新生成的对象</font>**\n",
    "    - 两个对象的id值不一致，不是同一个对象"
   ]
  },
  {
   "cell_type": "code",
   "execution_count": 13,
   "id": "78b15e16",
   "metadata": {},
   "outputs": [
    {
     "name": "stdout",
     "output_type": "stream",
     "text": [
      "原对象的id为： 139651176436992\n",
      "新对象的id为： 139651176436992\n",
      "原数据为： hello\n",
      "新数据为： hello world\n",
      "原对象的id为： 139651176436992\n",
      "新对象的id为： 139651181102704\n"
     ]
    }
   ],
   "source": [
    "# 例13：\n",
    "data = \"hello\"\n",
    "# 将不可变对象赋值给其他变量\n",
    "newData = data\n",
    "print(\"原对象的id为：\",id(data))\n",
    "print(\"新对象的id为：\",id(newData))\n",
    " \n",
    "# 修改其中一个变量\n",
    "newData = newData + \" world\"\n",
    "print(\"原数据为：\",data)\n",
    "print(\"新数据为：\",newData)\n",
    "print(\"原对象的id为：\",id(data))\n",
    "print(\"新对象的id为：\",id(newData))"
   ]
  },
  {
   "cell_type": "markdown",
   "id": "55ac2170",
   "metadata": {},
   "source": [
    "![jupyter](./images/对象复制fig3.png) "
   ]
  },
  {
   "cell_type": "markdown",
   "id": "e5713587",
   "metadata": {},
   "source": [
    "注：\n",
    "\n",
    "1. 所以对不可变对象来说：不管是修改原数据还是新数据，都不会影响到对方\n",
    "    - 新生成一个对象：两个对象之间无任何联系\n",
    "\n",
    "2. 也就是说：将同一个不可变对象赋值给不同的变量后\n",
    "    - 不管我们操作哪一个变量、不管如何操作**<font color=red>(修改值)</font>**，都不会对另一个变量及其值产生影响\n",
    "    - 所以在这种场景下对于不可变对象可以放心操作，不需要担心改变其对象值会影响到其他\n",
    "\n",
    "3. 其实我感觉这种并不算是修改对象的值：不可变对象是不能修改值的\n",
    "    - 这种只能算是重新赋值或定义一个新变量\n",
    "        - 前面newData  + ' world'表示字符串拼接，这种操作的本身就是返回一个修改后的新对象\n",
    "        - 返回的新对象肯定与原来的对象是两个不同的对象：id值不一致\n",
    "        - 只是说两个对象被同一个变量名引用，前面的值被后面的值覆盖了\n",
    "    - 不过对于不可变对象也只能这样来举例了"
   ]
  },
  {
   "cell_type": "markdown",
   "id": "b8ae6cf4",
   "metadata": {},
   "source": [
    "## 修改可变对象"
   ]
  },
  {
   "cell_type": "markdown",
   "id": "017f5d7c",
   "metadata": {},
   "source": [
    "1. 可变对象：可以在原数据上修改\n",
    "\n",
    "2. **<font color=red>在修改可变对象时为：直接在原对象上修改(不会新生成一个对象)</font>**\n",
    "    - 多个变量始终指向的是同一个对象"
   ]
  },
  {
   "cell_type": "code",
   "execution_count": 14,
   "id": "fbf83199",
   "metadata": {},
   "outputs": [
    {
     "name": "stdout",
     "output_type": "stream",
     "text": [
      "原对象的id为： 139651183182664\n",
      "新对象的id为： 139651183182664\n",
      "原数据为： ['mouse', 2, 3, 4]\n",
      "新数据为： ['mouse', 2, 3, 4]\n",
      "原对象的id为： 139651183182664\n",
      "新对象的id为： 139651183182664\n"
     ]
    }
   ],
   "source": [
    "# 例14：\n",
    "data = [1,2,3,4]\n",
    "# 将可变对象赋值给其他变量\n",
    "newData = data\n",
    "print(\"原对象的id为：\",id(data))\n",
    "print(\"新对象的id为：\",id(newData))\n",
    " \n",
    "# 修改其中一个变量\n",
    "newData[0] = \"mouse\"\n",
    "print(\"原数据为：\",data)\n",
    "print(\"新数据为：\",newData)\n",
    "print(\"原对象的id为：\",id(data))\n",
    "print(\"新对象的id为：\",id(newData))"
   ]
  },
  {
   "cell_type": "markdown",
   "id": "85f75200",
   "metadata": {},
   "source": [
    "![jupyter](./images/对象复制fig4.png) "
   ]
  },
  {
   "cell_type": "markdown",
   "id": "9e113bfa",
   "metadata": {},
   "source": [
    "注：\n",
    "\n",
    "1. 对可变对象来说：不管是修改原数据还是新数据，都会影响到对方\n",
    "    - 因为都是在同一个对象上修改的且均指向(引用)同一个对象\n",
    "\n",
    "2. 也就是说：将同一个可变对象赋值给不同的变量后\n",
    "    - 不管我们操作哪一个变量、不管如何操作**<font color=red>(修改值)</font>**，都会对另一个变量及其值产生影响\n",
    "    - 所以在这种场景下对于可变对象就需要小心操作了，说不定改变其对象值就影响到其他了"
   ]
  },
  {
   "cell_type": "code",
   "execution_count": 15,
   "id": "b96896eb",
   "metadata": {},
   "outputs": [
    {
     "name": "stdout",
     "output_type": "stream",
     "text": [
      "原对象： [1, 2, 3] 139651183204488\n",
      "新对象： [1, 2, 3, 'a'] 139651183479880\n"
     ]
    }
   ],
   "source": [
    "# 例15：重新赋值\n",
    "data = [1,2,3]\n",
    " \n",
    "# 拼接：这种是新生成一个对象；赋值产生一个新的对象\n",
    "newData = data + [\"a\"]\n",
    " \n",
    "print(\"原对象：\",data,id(data))\n",
    "print(\"新对象：\",newData,id(newData))"
   ]
  },
  {
   "cell_type": "markdown",
   "id": "c483243e",
   "metadata": {},
   "source": [
    "注：\n",
    "\n",
    "1. 这个例子与前面修改可变对象值是不一样的\n",
    "    - 可变对象与不可对象概念的前提是：修改对象在内存中的值时是否会生成新对象、内存地址是否会改变等来分类的\n",
    "        - **<font color=red>\"修改对象在内存中的值\"：是在对象值本身上进行的操作，是对值本身的一种修改</font>**\n",
    "\n",
    "2. 而这个例子中的data + [\"a\"]，不是对对象值的操作(不是修改值)，而是返回一个新的对象，是生成了一个新的对象(值)并将其赋值给变量newData\n",
    "    - 序列拼接：返回一个新的序列，方法本身就会返回一个修改后的新序列\n",
    "        - 是一种赋值操作(产生新对象并将其赋值给一个变量)\n",
    "    - 新定义的变量与原变量指向两个不同的对象，它们之间肯定不会有关系\n",
    "\n",
    "3. **<font color=red>可变对象与不可对象的前提是：修改对象自身值</font>**\n",
    "    - 如果某个操作是返回一个新对象、新定义一个变量(不涉及对象值的修改)是不涉及可变对象与不可变对象的\n",
    "    - 返回一个新对象、新定义一个变量：不管操作的是可变对象还是不可变对象，新对象和原对象肯定是两个不同的对象，相互不会影响\n",
    "    - **<font color=red>一定要注意：改变变量值和重新赋值的区别</font>**\n",
    "\n",
    "4. 只要涉及到修改对象值(内存地址中的值)时就需要留意可变对象与不可变对象\n",
    "    - 特别是可变对象，修改其值后可能会影响到其他的\n",
    "    - **<font color=red>修改对象值(内存地址中的值)肯定是在对象本身上进行操作的，不会有返回值(返回值为None)</font>**\n",
    "\n",
    "5. 如果是进行赋值操作(返回一个新对象)、不涉及到修改对象值的话，就完全不需要考虑可变对象和不可变对象了\n",
    "    - 新定义一个变量、返回一个新对象，肯定是新开辟一个内存地址来存放值，是独立的一个对象，不会影响到其他对象\n"
   ]
  },
  {
   "cell_type": "code",
   "execution_count": null,
   "id": "76b3792b",
   "metadata": {},
   "outputs": [],
   "source": []
  }
 ],
 "metadata": {
  "kernelspec": {
   "display_name": "Python 3",
   "language": "python",
   "name": "python3"
  },
  "language_info": {
   "codemirror_mode": {
    "name": "ipython",
    "version": 3
   },
   "file_extension": ".py",
   "mimetype": "text/x-python",
   "name": "python",
   "nbconvert_exporter": "python",
   "pygments_lexer": "ipython3",
   "version": "3.6.9"
  },
  "toc": {
   "base_numbering": 1,
   "nav_menu": {},
   "number_sections": true,
   "sideBar": true,
   "skip_h1_title": false,
   "title_cell": "Table of Contents",
   "title_sidebar": "Contents",
   "toc_cell": false,
   "toc_position": {},
   "toc_section_display": true,
   "toc_window_display": false
  }
 },
 "nbformat": 4,
 "nbformat_minor": 5
}
